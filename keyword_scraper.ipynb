{
  "cells": [
    {
      "cell_type": "markdown",
      "metadata": {
        "id": "view-in-github",
        "colab_type": "text"
      },
      "source": [
        "<a href=\"https://colab.research.google.com/github/Cosima10/master-thesis/blob/main/keyword_scraper.ipynb\" target=\"_parent\"><img src=\"https://colab.research.google.com/assets/colab-badge.svg\" alt=\"Open In Colab\"/></a>"
      ]
    },
    {
      "cell_type": "markdown",
      "metadata": {
        "id": "6DP2WSlNRmqw"
      },
      "source": [
        "---\n",
        "\n",
        "## Preparation\n",
        "\n",
        "---\n"
      ]
    },
    {
      "cell_type": "markdown",
      "metadata": {
        "id": "xX4VBFjyLEq4"
      },
      "source": [
        "#### <span style=\"color:pink\"> USE THIS MODULE IF YOU ARE RUNNING IT IN GOOGLE COLAB </span>"
      ]
    },
    {
      "cell_type": "code",
      "execution_count": 1,
      "metadata": {
        "colab": {
          "base_uri": "https://localhost:8080/"
        },
        "id": "LatzIlSM-6vg",
        "outputId": "98332a68-3bf5-458d-ed32-ba01248d21eb"
      },
      "outputs": [
        {
          "output_type": "stream",
          "name": "stdout",
          "text": [
            "Mounted at /content/drive\n"
          ]
        }
      ],
      "source": [
        "from google.colab import drive\n",
        "drive.mount('/content/drive')"
      ]
    },
    {
      "cell_type": "code",
      "execution_count": 3,
      "metadata": {
        "colab": {
          "base_uri": "https://localhost:8080/"
        },
        "id": "YmjYjDb1_yAr",
        "outputId": "e4f099fc-56d7-4396-bc4d-5527d9f48e29"
      },
      "outputs": [
        {
          "output_type": "stream",
          "name": "stdout",
          "text": [
            "Looking in indexes: https://pypi.org/simple, https://us-python.pkg.dev/colab-wheels/public/simple/\n",
            "Requirement already satisfied: selenium in /usr/local/lib/python3.7/dist-packages (4.2.0)\n",
            "Requirement already satisfied: urllib3[secure,socks]~=1.26 in /usr/local/lib/python3.7/dist-packages (from selenium) (1.26.9)\n",
            "Requirement already satisfied: trio~=0.17 in /usr/local/lib/python3.7/dist-packages (from selenium) (0.20.0)\n",
            "Requirement already satisfied: trio-websocket~=0.9 in /usr/local/lib/python3.7/dist-packages (from selenium) (0.9.2)\n",
            "Requirement already satisfied: sortedcontainers in /usr/local/lib/python3.7/dist-packages (from trio~=0.17->selenium) (2.4.0)\n",
            "Requirement already satisfied: idna in /usr/local/lib/python3.7/dist-packages (from trio~=0.17->selenium) (2.10)\n",
            "Requirement already satisfied: sniffio in /usr/local/lib/python3.7/dist-packages (from trio~=0.17->selenium) (1.2.0)\n",
            "Requirement already satisfied: attrs>=19.2.0 in /usr/local/lib/python3.7/dist-packages (from trio~=0.17->selenium) (21.4.0)\n",
            "Requirement already satisfied: outcome in /usr/local/lib/python3.7/dist-packages (from trio~=0.17->selenium) (1.1.0)\n",
            "Requirement already satisfied: async-generator>=1.9 in /usr/local/lib/python3.7/dist-packages (from trio~=0.17->selenium) (1.10)\n",
            "Requirement already satisfied: wsproto>=0.14 in /usr/local/lib/python3.7/dist-packages (from trio-websocket~=0.9->selenium) (1.1.0)\n",
            "Requirement already satisfied: cryptography>=1.3.4 in /usr/local/lib/python3.7/dist-packages (from urllib3[secure,socks]~=1.26->selenium) (37.0.2)\n",
            "Requirement already satisfied: certifi in /usr/local/lib/python3.7/dist-packages (from urllib3[secure,socks]~=1.26->selenium) (2022.5.18.1)\n",
            "Requirement already satisfied: pyOpenSSL>=0.14 in /usr/local/lib/python3.7/dist-packages (from urllib3[secure,socks]~=1.26->selenium) (22.0.0)\n",
            "Requirement already satisfied: PySocks!=1.5.7,<2.0,>=1.5.6 in /usr/local/lib/python3.7/dist-packages (from urllib3[secure,socks]~=1.26->selenium) (1.7.1)\n",
            "Requirement already satisfied: cffi>=1.12 in /usr/local/lib/python3.7/dist-packages (from cryptography>=1.3.4->urllib3[secure,socks]~=1.26->selenium) (1.15.0)\n",
            "Requirement already satisfied: pycparser in /usr/local/lib/python3.7/dist-packages (from cffi>=1.12->cryptography>=1.3.4->urllib3[secure,socks]~=1.26->selenium) (2.21)\n",
            "Requirement already satisfied: h11<1,>=0.9.0 in /usr/local/lib/python3.7/dist-packages (from wsproto>=0.14->trio-websocket~=0.9->selenium) (0.13.0)\n",
            "Requirement already satisfied: typing-extensions in /usr/local/lib/python3.7/dist-packages (from h11<1,>=0.9.0->wsproto>=0.14->trio-websocket~=0.9->selenium) (4.2.0)\n",
            "Reading package lists... Done\n",
            "Building dependency tree       \n",
            "Reading state information... Done\n",
            "chromium-chromedriver is already the newest version (101.0.4951.64-0ubuntu0.18.04.1).\n",
            "The following package was automatically installed and is no longer required:\n",
            "  libnvidia-common-460\n",
            "Use 'apt autoremove' to remove it.\n",
            "0 upgraded, 0 newly installed, 0 to remove and 42 not upgraded.\n",
            "cp: target 'usr/bin' is not a directory\n"
          ]
        },
        {
          "output_type": "stream",
          "name": "stderr",
          "text": [
            "/usr/local/lib/python3.7/dist-packages/ipykernel_launcher.py:19: DeprecationWarning: use options instead of chrome_options\n"
          ]
        }
      ],
      "source": [
        "import time\n",
        "!pip install selenium\n",
        "from selenium import webdriver\n",
        "import sys\n",
        "import numpy as np\n",
        "from bs4 import BeautifulSoup\n",
        "import pandas as pd\n",
        "# !pip install selenium, webdriver_manager\n",
        "# !apt-get update  # to update ubuntu to correctly run apt install\n",
        "# !apt install chromium-chromedriver\n",
        "# !cp / usr/lib/chromium-browser/chromedriver / usr/bin\n",
        "!apt install chromium-chromedriver\n",
        "!cp / usr/lib/chromium-browser/chromedriver / usr/bin\n",
        "sys.path.insert(0, '/usr/lib/chromium-browser/chromedriver')\n",
        "chrome_options = webdriver.ChromeOptions()\n",
        "chrome_options.add_argument('--headless')\n",
        "chrome_options.add_argument('--no-sandbox')\n",
        "chrome_options.add_argument('--disable-dev-shm-usage')\n",
        "wd = webdriver.Chrome('chromedriver', chrome_options=chrome_options)\n",
        "driver = wd\n",
        "import os\n",
        "\n",
        "path_source = \"/content/drive/MyDrive/scraper/df link.xlsx\"\n",
        "path_output = \"/content/drive/MyDrive/scraper/result/\"\n",
        "if not os.path.exists(path_output):\n",
        "    os.makedirs(path_output)\n"
      ]
    },
    {
      "cell_type": "markdown",
      "metadata": {
        "id": "6jmM5cwSLEq6"
      },
      "source": [
        "#### <span style=\"color:pink\"> USE THIS MODULE IF YOU ARE RUNNING IT ON YOUR LOCAL MACHINE </span>"
      ]
    },
    {
      "cell_type": "code",
      "execution_count": 8,
      "metadata": {
        "id": "v2hf6RoiLEq7"
      },
      "outputs": [],
      "source": [
        "# !pip install selenium, webdriver_manager, numpy, pandas\n",
        "# import time\n",
        "# import numpy as np\n",
        "# from bs4 import BeautifulSoup\n",
        "# import pandas as pd\n",
        "# import sys\n",
        "# from selenium import webdriver\n",
        "# from webdriver_manager.chrome import ChromeDriverManager\n",
        "# import os\n",
        "# chrome_options = webdriver.ChromeOptions()\n",
        "# chrome_options.add_argument('--headless')\n",
        "# chrome_options.add_argument('--no-sandbox')\n",
        "# chrome_options.add_argument('--disable-dev-shm-usage')\n",
        "# wd = webdriver.Chrome(ChromeDriverManager().install(), options=chrome_options)\n",
        "# driver = wd\n",
        "# cwd = os.getcwd()\n",
        "# cwd\n",
        "\n",
        "# path_source = cwd+\"/df link.xlsx\"\n",
        "# path_output = cwd+\"/result/\"\n",
        "# if not os.path.exists(path_output):\n",
        "#     os.makedirs(path_output)\n"
      ]
    },
    {
      "cell_type": "markdown",
      "source": [
        "---\n",
        "\n",
        "# SCRAPER\n",
        "\n",
        "---"
      ],
      "metadata": {
        "id": "QPCXqcQUKYWI"
      }
    },
    {
      "cell_type": "code",
      "execution_count": 4,
      "metadata": {
        "id": "3hs8sLae-ASO"
      },
      "outputs": [],
      "source": [
        "# initialising string\n",
        "\n",
        "def hapusspecialcharacter(ini_string):\n",
        "    getVals = list([val for val in ini_string\n",
        "                    if val.isalpha() or val.isnumeric() or val == \" \"])\n",
        "    result = \"\".join(getVals)\n",
        "    return result\n",
        "\n",
        "\n",
        "def unique(list1):\n",
        "    unique_list = []\n",
        "    for x in list1:\n",
        "        if x not in unique_list:\n",
        "            unique_list.append(x)\n",
        "    return(unique_list)\n",
        "\n",
        "\n",
        "def years_check(year, df):\n",
        "    number_of_news_in_year = len(df[df['date'].str.contains(str(year))])\n",
        "    return number_of_news_in_year\n",
        "\n",
        "df_link = pd.read_excel(path_source)\n"
      ]
    },
    {
      "cell_type": "code",
      "execution_count": 5,
      "metadata": {
        "id": "mbhXFCMoDfhl"
      },
      "outputs": [],
      "source": [
        "# create output folders and files \n",
        "\n",
        "def createExcelFiles(iprocess, kamus, keyword):\n",
        "    if not os.path.exists(f\"{path_output}/{df_link['country'][iprocess]}\"):\n",
        "        os.makedirs(f\"{path_output}/{df_link['country'][iprocess]}\")\n",
        "\n",
        "    results_path = f\"{path_output}/{df_link['country'][iprocess]}/\"\n",
        "\n",
        "    if not os.path.exists(f\"{results_path}/{keyword}\"):\n",
        "        os.makedirs(f\"{results_path}/{keyword}\")\n",
        "\n",
        "    results_path = f\"{results_path}/{keyword}/\"\n",
        "    \n",
        "    df = pd.DataFrame(kamus).astype(str)\n",
        "    file_name = f\"{results_path}{df_link['country'][iprocess]} {df_link['number'][iprocess]} {df_link['link'][iprocess].split('/')[2].replace('.','_')}.xlsx\"\n",
        "    df.to_excel(file_name, index=False)\n",
        "\n",
        "    yearList = []\n",
        "    counterList = []\n",
        "    for i in range(2023)[-6:]:\n",
        "        yearList.append(i)\n",
        "        counterList.append(years_check(i, df))\n",
        "\n",
        "    file_nameCek = f\"{results_path}{keyword} {df_link['country'][iprocess]} {df_link['number'][iprocess]} {df_link['link'][iprocess].split('/')[2].replace('.','_')}.xlsx\"\n",
        "    kamusCek = {\"year\": yearList, \"Number of Related News\": counterList}\n",
        "    dfCek = pd.DataFrame(kamusCek).astype(str)\n",
        "    dfCek.to_excel(file_nameCek, index=False)\n",
        "    return dfCek\n"
      ]
    },
    {
      "cell_type": "markdown",
      "metadata": {
        "id": "W6J3d8G4LEq9"
      },
      "source": [
        "---\n",
        "\n",
        "## DECORATOR\n",
        "replacing the common part of each scraper and therewith reducing redundancy\n",
        "\n",
        "---"
      ]
    },
    {
      "cell_type": "code",
      "execution_count": 6,
      "metadata": {
        "id": "FvjbSEHdLEq9"
      },
      "outputs": [],
      "source": [
        "def scrap_data(params):\n",
        "    def scrap_decorator(fn):\n",
        "        iprocess = params.get('iprocess')\n",
        "        url = params.get('url')\n",
        "        pagination = params.get('pagination')\n",
        "\n",
        "        def wrapper(*args, **kwargs):\n",
        "            keyword = args[0] if args else kwargs.get('keyword', None)\n",
        "            news_links = []\n",
        "            dates = []\n",
        "            # for ipage in list(range(pagination))[1:]:\n",
        "            for ipage in pagination:\n",
        "                wd.get(url.format(keyword=keyword, ipage=ipage))  # link with search query\n",
        "                content = driver.page_source.encode('utf-8').strip()\n",
        "                soup = BeautifulSoup(content)\n",
        "                news_links, dates, found = fn(soup, ipage, news_links, dates)\n",
        "                if not found:\n",
        "                    print(f\"[PAGE NO : {ipage}] [NO MORE ARTICLES FOUND]\")\n",
        "                    break\n",
        "                \n",
        "            kamus = {\"news link\": news_links, \"date\": dates}\n",
        "            return createExcelFiles(iprocess, kamus, keyword)\n",
        "\n",
        "        return wrapper\n",
        "    return scrap_decorator"
      ]
    },
    {
      "cell_type": "markdown",
      "metadata": {
        "id": "hVujCXi2LEq-"
      },
      "source": [
        "---\n",
        "\n",
        "# GERMANY\n",
        "\n",
        "---"
      ]
    },
    {
      "cell_type": "markdown",
      "metadata": {
        "id": "qJewdJNwLEq-"
      },
      "source": [
        "#### 1) NTV"
      ]
    },
    {
      "cell_type": "code",
      "execution_count": 7,
      "metadata": {
        "id": "uAiITkCSLEq-"
      },
      "outputs": [],
      "source": [
        "@scrap_data(params={'iprocess': 7, 'url': 'https://www.ntv.de/suche/?q={keyword}&at=all&page={ipage}', 'pagination': list(range(1,21))})\n",
        "def germany1ntv(soup, ipage, news_links, dates):\n",
        "    found = True\n",
        "    b = soup.find('div', class_='search__results').find_all(\"article\")\n",
        "    if len(b) == 0: found = False\n",
        "    else: print(f\"[PAGE NO : {ipage}] [ARTICLES FOUND: {len(b)}]\")\n",
        "    for i in b:\n",
        "        news_links.append(\"\"+i.find(\"a\").get(\"href\"))\n",
        "        dates.append(\" \".join(i.find(\"span\", \"teaser__date\").text.split()))\n",
        "    return news_links, dates, found"
      ]
    },
    {
      "cell_type": "code",
      "execution_count": 15,
      "metadata": {
        "colab": {
          "base_uri": "https://localhost:8080/"
        },
        "id": "9xRUJiyuLEq-",
        "outputId": "cc9e0751-2a6c-449b-fd83-b1927063e588"
      },
      "outputs": [
        {
          "output_type": "stream",
          "name": "stdout",
          "text": [
            "[PAGE NO : 1] [ARTICLES FOUND: 20]\n",
            "[PAGE NO : 2] [ARTICLES FOUND: 20]\n",
            "[PAGE NO : 3] [ARTICLES FOUND: 20]\n",
            "[PAGE NO : 4] [ARTICLES FOUND: 20]\n",
            "[PAGE NO : 5] [ARTICLES FOUND: 20]\n",
            "[PAGE NO : 6] [ARTICLES FOUND: 20]\n",
            "[PAGE NO : 7] [ARTICLES FOUND: 20]\n",
            "[PAGE NO : 8] [ARTICLES FOUND: 20]\n",
            "[PAGE NO : 9] [ARTICLES FOUND: 14]\n",
            "[PAGE NO : 10] [NO MORE ARTICLES FOUND]\n",
            "   year Number of Related News\n",
            "0  2017                      3\n",
            "1  2018                     91\n",
            "2  2019                     34\n",
            "3  2020                     15\n",
            "4  2021                     23\n",
            "5  2022                      7\n"
          ]
        }
      ],
      "source": [
        "#print(germany1ntv(\"dsgvo\"))"
      ]
    },
    {
      "cell_type": "code",
      "source": [
        "keyword_list = [\"gdpr\", \"dsgvo\", \"datenschutz\", \"schrems\", \"web tracking\", \"online tracking\", \"digital analytics\", \"data protection authorities\"]\n",
        "\n",
        "for keyword in keyword_list:\n",
        "  print(germany1ntv(keyword))"
      ],
      "metadata": {
        "colab": {
          "base_uri": "https://localhost:8080/"
        },
        "id": "UluG0C1oQIC8",
        "outputId": "60ebc8ac-dc54-45c4-badb-1cfdb6c468ff"
      },
      "execution_count": 16,
      "outputs": [
        {
          "output_type": "stream",
          "name": "stdout",
          "text": [
            "[PAGE NO : 1] [ARTICLES FOUND: 3]\n",
            "[PAGE NO : 2] [NO MORE ARTICLES FOUND]\n",
            "   year Number of Related News\n",
            "0  2017                      0\n",
            "1  2018                      0\n",
            "2  2019                      1\n",
            "3  2020                      1\n",
            "4  2021                      1\n",
            "5  2022                      0\n",
            "[PAGE NO : 1] [ARTICLES FOUND: 20]\n",
            "[PAGE NO : 2] [ARTICLES FOUND: 20]\n",
            "[PAGE NO : 3] [ARTICLES FOUND: 20]\n",
            "[PAGE NO : 4] [ARTICLES FOUND: 20]\n",
            "[PAGE NO : 5] [ARTICLES FOUND: 20]\n",
            "[PAGE NO : 6] [ARTICLES FOUND: 20]\n",
            "[PAGE NO : 7] [ARTICLES FOUND: 20]\n",
            "[PAGE NO : 8] [ARTICLES FOUND: 20]\n",
            "[PAGE NO : 9] [ARTICLES FOUND: 14]\n",
            "[PAGE NO : 10] [NO MORE ARTICLES FOUND]\n",
            "   year Number of Related News\n",
            "0  2017                      3\n",
            "1  2018                     91\n",
            "2  2019                     34\n",
            "3  2020                     15\n",
            "4  2021                     23\n",
            "5  2022                      7\n",
            "[PAGE NO : 1] [ARTICLES FOUND: 20]\n",
            "[PAGE NO : 2] [ARTICLES FOUND: 20]\n",
            "[PAGE NO : 3] [ARTICLES FOUND: 20]\n",
            "[PAGE NO : 4] [ARTICLES FOUND: 20]\n",
            "[PAGE NO : 5] [ARTICLES FOUND: 20]\n",
            "[PAGE NO : 6] [ARTICLES FOUND: 20]\n",
            "[PAGE NO : 7] [ARTICLES FOUND: 20]\n",
            "[PAGE NO : 8] [ARTICLES FOUND: 20]\n",
            "[PAGE NO : 9] [ARTICLES FOUND: 20]\n",
            "[PAGE NO : 10] [ARTICLES FOUND: 20]\n",
            "[PAGE NO : 11] [ARTICLES FOUND: 20]\n",
            "[PAGE NO : 12] [ARTICLES FOUND: 20]\n",
            "[PAGE NO : 13] [ARTICLES FOUND: 20]\n",
            "[PAGE NO : 14] [ARTICLES FOUND: 20]\n",
            "[PAGE NO : 15] [ARTICLES FOUND: 20]\n",
            "[PAGE NO : 16] [ARTICLES FOUND: 20]\n",
            "[PAGE NO : 17] [ARTICLES FOUND: 20]\n",
            "[PAGE NO : 18] [ARTICLES FOUND: 20]\n",
            "[PAGE NO : 19] [ARTICLES FOUND: 20]\n",
            "[PAGE NO : 20] [ARTICLES FOUND: 20]\n",
            "   year Number of Related News\n",
            "0  2017                      0\n",
            "1  2018                      0\n",
            "2  2019                      0\n",
            "3  2020                      1\n",
            "4  2021                    309\n",
            "5  2022                     90\n",
            "[PAGE NO : 1] [ARTICLES FOUND: 20]\n",
            "[PAGE NO : 2] [ARTICLES FOUND: 20]\n",
            "[PAGE NO : 3] [ARTICLES FOUND: 4]\n",
            "[PAGE NO : 4] [NO MORE ARTICLES FOUND]\n",
            "   year Number of Related News\n",
            "0  2017                      0\n",
            "1  2018                      4\n",
            "2  2019                      1\n",
            "3  2020                      4\n",
            "4  2021                      3\n",
            "5  2022                      4\n",
            "[PAGE NO : 1] [ARTICLES FOUND: 20]\n",
            "[PAGE NO : 2] [ARTICLES FOUND: 18]\n",
            "[PAGE NO : 3] [NO MORE ARTICLES FOUND]\n",
            "   year Number of Related News\n",
            "0  2017                      4\n",
            "1  2018                      5\n",
            "2  2019                      3\n",
            "3  2020                      3\n",
            "4  2021                      4\n",
            "5  2022                      1\n",
            "[PAGE NO : 1] [ARTICLES FOUND: 20]\n",
            "[PAGE NO : 2] [ARTICLES FOUND: 20]\n",
            "[PAGE NO : 3] [ARTICLES FOUND: 20]\n",
            "[PAGE NO : 4] [ARTICLES FOUND: 20]\n",
            "[PAGE NO : 5] [ARTICLES FOUND: 20]\n",
            "[PAGE NO : 6] [ARTICLES FOUND: 18]\n",
            "[PAGE NO : 7] [NO MORE ARTICLES FOUND]\n",
            "   year Number of Related News\n",
            "0  2017                     10\n",
            "1  2018                     12\n",
            "2  2019                      9\n",
            "3  2020                     18\n",
            "4  2021                     16\n",
            "5  2022                      8\n",
            "[PAGE NO : 1] [ARTICLES FOUND: 19]\n",
            "[PAGE NO : 2] [NO MORE ARTICLES FOUND]\n",
            "   year Number of Related News\n",
            "0  2017                      0\n",
            "1  2018                      1\n",
            "2  2019                      4\n",
            "3  2020                      2\n",
            "4  2021                      1\n",
            "5  2022                      1\n",
            "[PAGE NO : 1] [NO MORE ARTICLES FOUND]\n",
            "   year Number of Related News\n",
            "0  2017                      0\n",
            "1  2018                      0\n",
            "2  2019                      0\n",
            "3  2020                      0\n",
            "4  2021                      0\n",
            "5  2022                      0\n"
          ]
        }
      ]
    },
    {
      "cell_type": "markdown",
      "metadata": {
        "id": "vY-U2g2ULEq_"
      },
      "source": [
        "#### 2) Deutsche Welle"
      ]
    },
    {
      "cell_type": "code",
      "execution_count": null,
      "metadata": {
        "id": "3ythOlN_LEq_"
      },
      "outputs": [],
      "source": [
        "@scrap_data(params={'iprocess': 9, 'url': 'https://www.dw.com/search/?languageCode=en&item={keyword}&searchNavigationId=9097&sort=DATE&resultsCounter=10000', 'pagination': list(range(1,21))})\n",
        "def germany2dw(soup, ipage, news_links, dates):\n",
        "    found = True\n",
        "    b = soup.find_all(\"div\", \"searchResult\")\n",
        "    if len(b) == 0: found = False\n",
        "    else: print(f\"[PAGE NO : {ipage}] [ARTICLES FOUND: {len(b)}]\")\n",
        "    for i in b:\n",
        "        news_links.append(\"\"+i.find(\"a\").get(\"href\"))\n",
        "        dates.append(\" \".join(i.find(\"span\", \"date\").text.split()))\n",
        "    return news_links, dates, found"
      ]
    },
    {
      "cell_type": "code",
      "execution_count": null,
      "metadata": {
        "id": "_ZZAZ0dfLEq_",
        "outputId": "1b3b6396-e479-4b69-8b32-9b4a5c0d5b9c"
      },
      "outputs": [
        {
          "name": "stdout",
          "output_type": "stream",
          "text": [
            "[PAGE NO : 1] [ARTICLES FOUND: 53]\n",
            "[PAGE NO : 2] [ARTICLES FOUND: 53]\n",
            "[PAGE NO : 3] [ARTICLES FOUND: 53]\n",
            "[PAGE NO : 4] [ARTICLES FOUND: 53]\n",
            "[PAGE NO : 5] [ARTICLES FOUND: 53]\n",
            "[PAGE NO : 6] [ARTICLES FOUND: 53]\n",
            "[PAGE NO : 7] [ARTICLES FOUND: 53]\n",
            "[PAGE NO : 8] [ARTICLES FOUND: 53]\n",
            "[PAGE NO : 9] [ARTICLES FOUND: 53]\n",
            "[PAGE NO : 10] [ARTICLES FOUND: 53]\n",
            "[PAGE NO : 11] [ARTICLES FOUND: 53]\n",
            "[PAGE NO : 12] [ARTICLES FOUND: 53]\n",
            "[PAGE NO : 13] [ARTICLES FOUND: 53]\n",
            "[PAGE NO : 14] [ARTICLES FOUND: 53]\n",
            "[PAGE NO : 15] [ARTICLES FOUND: 53]\n",
            "[PAGE NO : 16] [ARTICLES FOUND: 53]\n",
            "[PAGE NO : 17] [ARTICLES FOUND: 53]\n",
            "[PAGE NO : 18] [ARTICLES FOUND: 53]\n",
            "[PAGE NO : 19] [ARTICLES FOUND: 53]\n",
            "[PAGE NO : 20] [ARTICLES FOUND: 53]\n",
            "   year Number of Related News\n",
            "0  2017                      0\n",
            "1  2018                    560\n",
            "2  2019                    140\n",
            "3  2020                    220\n",
            "4  2021                    140\n",
            "5  2022                      0\n"
          ]
        }
      ],
      "source": [
        "print(germany2dw(\"gdpr\"))"
      ]
    },
    {
      "cell_type": "markdown",
      "metadata": {
        "id": "iVOALH_SLEq_"
      },
      "source": [
        "#### 3) Frankfurter Allgemeine Zeitung"
      ]
    },
    {
      "cell_type": "code",
      "execution_count": null,
      "metadata": {
        "id": "gsYf6VugLEq_"
      },
      "outputs": [],
      "source": [
        "@scrap_data(params={'iprocess': 10, 'url': 'https://www.faz.net/suche/s{ipage}.html?ct=article&ct=audio&ct=blog&ct=gallery&ct=infografik&ct=storytelling&ct=video&&query={keyword}#listPagination', 'pagination': list(range(1,21))})\n",
        "def germany3faz(soup, ipage, news_links, dates):\n",
        "    found = True\n",
        "    b = soup.find_all(\"li\", \"lst-Teaser_Item\")\n",
        "    if len(b) == 0: found = False\n",
        "    else: print(f\"[PAGE NO : {ipage}] [ARTICLES FOUND: {len(b)}]\")\n",
        "    for i in b:\n",
        "        news_links.append(\"\"+i.find(\"a\").get(\"href\"))\n",
        "        dates.append(\" \".join(i.find(\"time\").text.split()))\n",
        "    return news_links, dates, found\n"
      ]
    },
    {
      "cell_type": "code",
      "execution_count": null,
      "metadata": {
        "id": "OeGgG0sHLEq_",
        "outputId": "a6b08b0d-8c1d-4e52-834f-2099c7ade9ba"
      },
      "outputs": [
        {
          "name": "stdout",
          "output_type": "stream",
          "text": [
            "[PAGE NO : 1] [ARTICLES FOUND: 8]\n",
            "[PAGE NO : 2] [NO MORE ARTICLES FOUND]\n",
            "   year Number of Related News\n",
            "0  2017                      1\n",
            "1  2018                      4\n",
            "2  2019                      2\n",
            "3  2020                      1\n",
            "4  2021                      0\n",
            "5  2022                      0\n"
          ]
        }
      ],
      "source": [
        "print(germany3faz(\"gdpr\"))"
      ]
    },
    {
      "cell_type": "markdown",
      "metadata": {
        "id": "h1qy8np-LErA"
      },
      "source": [
        "---\n",
        "\n",
        "# DENMARK\n",
        "\n",
        "---"
      ]
    },
    {
      "cell_type": "markdown",
      "metadata": {
        "id": "4vv9LTQQLErA"
      },
      "source": [
        "#### 1) INFORMATION.DK"
      ]
    },
    {
      "cell_type": "code",
      "execution_count": null,
      "metadata": {
        "id": "UH67LvcoLErA"
      },
      "outputs": [],
      "source": [
        "@scrap_data(params={'iprocess': 0, 'url': 'https://www.information.dk/search/site/{keyword}?page={ipage}', 'pagination': list(range(1,21))})\n",
        "def denmark1information(soup, ipage, news_links, dates):\n",
        "    found = True\n",
        "    b = soup.find_all(\"div\", {\"typeof\": \"sioc:Item foaf:Document\"})\n",
        "    if len(b) == 0: found = False\n",
        "    else: print(f\"[PAGE NO : {ipage}] [ARTICLES FOUND: {len(b)}]\")\n",
        "    for i in b:\n",
        "        news_links.append(\"https://www.information.dk\"+i.find(\"a\").get(\"href\"))\n",
        "        dates.append(\" \".join(i.find(\"li\", \"date first\").text.split()))\n",
        "    return news_links, dates, found\n"
      ]
    },
    {
      "cell_type": "code",
      "execution_count": null,
      "metadata": {
        "id": "t1rn4jCNLErA",
        "outputId": "00441e13-5a0f-4551-b741-44f9e9fdacbd"
      },
      "outputs": [
        {
          "name": "stdout",
          "output_type": "stream",
          "text": [
            "[PAGE NO : 1] [ARTICLES FOUND: 20]\n",
            "[PAGE NO : 2] [ARTICLES FOUND: 20]\n",
            "[PAGE NO : 3] [ARTICLES FOUND: 20]\n",
            "[PAGE NO : 4] [ARTICLES FOUND: 20]\n",
            "[PAGE NO : 5] [ARTICLES FOUND: 20]\n",
            "[PAGE NO : 6] [ARTICLES FOUND: 8]\n",
            "[PAGE NO : 7] [NO MORE ARTICLES FOUND]\n",
            "   year Number of Related News\n",
            "0  2017                      1\n",
            "1  2018                     27\n",
            "2  2019                     34\n",
            "3  2020                     27\n",
            "4  2021                     18\n",
            "5  2022                      0\n"
          ]
        }
      ],
      "source": [
        "print(denmark1information(\"gdpr\"))"
      ]
    },
    {
      "cell_type": "markdown",
      "metadata": {
        "id": "USDXvOpZLErA"
      },
      "source": [
        "#### 2) POLITIKEN.DK"
      ]
    },
    {
      "cell_type": "code",
      "execution_count": null,
      "metadata": {
        "id": "bgwTGazHLErA"
      },
      "outputs": [],
      "source": [
        "@scrap_data(params={'iprocess': 1, 'url': 'https://politiken.dk/search/?q={keyword}&target=pol&sort=pd&page={ipage}', 'pagination': list(range(1,21))})\n",
        "def denmark2politiken(soup, ipage, news_links, dates):\n",
        "    found = True\n",
        "    b = soup.find_all(\"div\", \"search-result__article u-padding--vertical-normal\")\n",
        "    if len(b) == 0: found = False\n",
        "    else: print(f\"[PAGE NO : {ipage}] [ARTICLES FOUND: {len(b)}]\")\n",
        "    for i in b:\n",
        "        news_links.append(\"https://politiken.dk/\"+i.find(\"a\").get(\"href\"))\n",
        "        dates.append(\" \".join(i.find(\"time\").text.split()))\n",
        "    return news_links, dates, found"
      ]
    },
    {
      "cell_type": "code",
      "execution_count": null,
      "metadata": {
        "id": "qxRtY6e9LErA",
        "outputId": "e93c955b-cc09-4af8-bcab-c97b4bf00dcd"
      },
      "outputs": [
        {
          "name": "stdout",
          "output_type": "stream",
          "text": [
            "[PAGE NO : 1] [ARTICLES FOUND: 20]\n",
            "[PAGE NO : 2] [ARTICLES FOUND: 20]\n",
            "[PAGE NO : 3] [ARTICLES FOUND: 20]\n",
            "[PAGE NO : 4] [ARTICLES FOUND: 20]\n",
            "[PAGE NO : 5] [ARTICLES FOUND: 20]\n",
            "[PAGE NO : 6] [ARTICLES FOUND: 20]\n",
            "[PAGE NO : 7] [ARTICLES FOUND: 20]\n",
            "[PAGE NO : 8] [ARTICLES FOUND: 20]\n",
            "[PAGE NO : 9] [ARTICLES FOUND: 20]\n",
            "[PAGE NO : 10] [ARTICLES FOUND: 20]\n",
            "[PAGE NO : 11] [ARTICLES FOUND: 11]\n",
            "[PAGE NO : 12] [NO MORE ARTICLES FOUND]\n",
            "   year Number of Related News\n",
            "0  2017                      3\n",
            "1  2018                     54\n",
            "2  2019                     56\n",
            "3  2020                     42\n",
            "4  2021                     44\n",
            "5  2022                     12\n"
          ]
        }
      ],
      "source": [
        "print(denmark2politiken(\"gdpr\"))"
      ]
    },
    {
      "cell_type": "markdown",
      "metadata": {
        "id": "vfelc1fiLErA"
      },
      "source": [
        "#### 3) BERLINGSKE.DK"
      ]
    },
    {
      "cell_type": "code",
      "execution_count": null,
      "metadata": {
        "id": "Z5GmQh2qLErB"
      },
      "outputs": [],
      "source": [
        "@scrap_data(params={'iprocess': 4, 'url': 'https://www.berlingske.dk/search?query={keyword}&limit=10&offset={ipage}0', 'pagination': list(range(1,21))})\n",
        "def denmark3berlingske(soup, ipage, news_links, dates):\n",
        "    found = True\n",
        "    b = soup.find_all(\"div\", \"teaser__description align-self-top w-100\")\n",
        "    if len(b) == 0: found = False\n",
        "    else: print(f\"[PAGE NO : {ipage}] [ARTICLES FOUND: {len(b)}]\")\n",
        "    for i in b:\n",
        "        news_links.append(\"https://www.berlingske.dk/\"+i.find(\"a\").get(\"href\"))\n",
        "        dates.append(\" \".join(i.find(\"div\",\"teaser__date\").text.split()))\n",
        "    return news_links, dates, found"
      ]
    },
    {
      "cell_type": "code",
      "execution_count": null,
      "metadata": {
        "id": "raz0x-6OLErB",
        "outputId": "b351a5b8-ea51-4f24-e284-ec9a19dab165"
      },
      "outputs": [
        {
          "name": "stdout",
          "output_type": "stream",
          "text": [
            "[PAGE NO : 1] [ARTICLES FOUND: 10]\n",
            "[PAGE NO : 2] [ARTICLES FOUND: 10]\n",
            "[PAGE NO : 3] [ARTICLES FOUND: 10]\n",
            "[PAGE NO : 4] [ARTICLES FOUND: 10]\n",
            "[PAGE NO : 5] [ARTICLES FOUND: 10]\n",
            "[PAGE NO : 6] [ARTICLES FOUND: 10]\n",
            "[PAGE NO : 7] [ARTICLES FOUND: 10]\n",
            "[PAGE NO : 8] [ARTICLES FOUND: 10]\n",
            "[PAGE NO : 9] [ARTICLES FOUND: 10]\n",
            "[PAGE NO : 10] [ARTICLES FOUND: 10]\n",
            "[PAGE NO : 11] [ARTICLES FOUND: 10]\n",
            "[PAGE NO : 12] [ARTICLES FOUND: 10]\n",
            "[PAGE NO : 13] [ARTICLES FOUND: 10]\n",
            "[PAGE NO : 14] [ARTICLES FOUND: 10]\n",
            "[PAGE NO : 15] [ARTICLES FOUND: 10]\n",
            "[PAGE NO : 16] [ARTICLES FOUND: 10]\n",
            "[PAGE NO : 17] [ARTICLES FOUND: 10]\n",
            "[PAGE NO : 18] [ARTICLES FOUND: 10]\n",
            "[PAGE NO : 19] [ARTICLES FOUND: 10]\n",
            "[PAGE NO : 20] [ARTICLES FOUND: 10]\n",
            "   year Number of Related News\n",
            "0  2017                      0\n",
            "1  2018                     16\n",
            "2  2019                     58\n",
            "3  2020                     53\n",
            "4  2021                     63\n",
            "5  2022                     10\n"
          ]
        }
      ],
      "source": [
        "print(denmark3berlingske(\"gdpr\"))"
      ]
    },
    {
      "cell_type": "markdown",
      "metadata": {
        "id": "yet7Xff2LErB"
      },
      "source": [
        "#### 4) JV.DK"
      ]
    },
    {
      "cell_type": "code",
      "execution_count": null,
      "metadata": {
        "id": "nKCOWlsCLErB"
      },
      "outputs": [],
      "source": [
        "@scrap_data(params={'iprocess': 2, 'url': 'https://jv.dk/soeg?keywords={keyword}&limit=10&offset={ipage}0', 'pagination': list(range(1,21))})\n",
        "def denmark4jv(soup, ipage, news_links, dates):\n",
        "    found = True\n",
        "    b = soup.find('div', class_='page-block').find_all(\"article\")\n",
        "    if len(b) == 0: found = False\n",
        "    else: print(f\"[PAGE NO : {ipage}] [ARTICLES FOUND: {len(b)}]\")\n",
        "    for i in b:\n",
        "        news_links.append(\"https://jv.dk/\"+i.find(\"a\").get(\"href\"))\n",
        "        dates.append(\" \".join(i.find(\"time\", \"search-result__date\").text.split()))\n",
        "    return news_links, dates, found"
      ]
    },
    {
      "cell_type": "code",
      "execution_count": null,
      "metadata": {
        "id": "WxB4Dq1dLErB",
        "outputId": "2d46cac0-7e1f-471c-cc74-90f4a8de2135"
      },
      "outputs": [
        {
          "name": "stdout",
          "output_type": "stream",
          "text": [
            "[PAGE NO : 1] [ARTICLES FOUND: 6]\n",
            "[PAGE NO : 2] [NO MORE ARTICLES FOUND]\n",
            "   year Number of Related News\n",
            "0  2017                      0\n",
            "1  2018                      0\n",
            "2  2019                      0\n",
            "3  2020                      0\n",
            "4  2021                      0\n",
            "5  2022                      6\n"
          ]
        }
      ],
      "source": [
        "print(denmark4jv(\"gdpr\"))"
      ]
    },
    {
      "cell_type": "markdown",
      "metadata": {
        "id": "u3Ry3m7YLErB"
      },
      "source": [
        "---\n",
        "\n",
        "# AUSTRIA\n",
        "\n",
        "---"
      ]
    },
    {
      "cell_type": "markdown",
      "metadata": {
        "id": "_pybEF5oLErB"
      },
      "source": [
        "#### 1) WIENER ZEITUNG"
      ]
    },
    {
      "cell_type": "code",
      "execution_count": null,
      "metadata": {
        "id": "MnZN0ZGTLErB"
      },
      "outputs": [],
      "source": [
        "@scrap_data(params={'iprocess': 23, 'url': 'https://www.wienerzeitung.at/suche/?such={keyword}&date_min=20220112&date_max=20220412&em_page={ipage}', 'pagination': list(range(1,21))})\n",
        "def austria1wienerzeitung(soup, ipage, news_links, dates):\n",
        "    found = True\n",
        "    b = soup.find_all(\"div\", \"col-12 col-md-4 em_mobile_list_layout\")\n",
        "    if len(b) == 0: found = False\n",
        "    else: print(f\"[PAGE NO : {ipage}] [ARTICLES FOUND: {len(b)}]\")\n",
        "    for i in b:\n",
        "        news_links.append(\"\"+i.find(\"a\").get(\"href\"))\n",
        "        dates.append(\" \".join(i.find(\"time\").text.split()))\n",
        "    return news_links, dates, found"
      ]
    },
    {
      "cell_type": "code",
      "execution_count": null,
      "metadata": {
        "id": "YlxCkteQLErB",
        "outputId": "1251af2b-223d-48a5-8e30-5bfdcbf129c1"
      },
      "outputs": [
        {
          "name": "stdout",
          "output_type": "stream",
          "text": [
            "[PAGE NO : 1] [ARTICLES FOUND: 12]\n",
            "[PAGE NO : 2] [ARTICLES FOUND: 12]\n",
            "[PAGE NO : 3] [ARTICLES FOUND: 8]\n",
            "[PAGE NO : 4] [NO MORE ARTICLES FOUND]\n",
            "   year Number of Related News\n",
            "0  2017                      0\n",
            "1  2018                      0\n",
            "2  2019                      0\n",
            "3  2020                      0\n",
            "4  2021                      0\n",
            "5  2022                     32\n"
          ]
        }
      ],
      "source": [
        "print(austria1wienerzeitung(\"gdpr\"))"
      ]
    },
    {
      "cell_type": "markdown",
      "metadata": {
        "id": "411mzmuGLErC"
      },
      "source": [
        "#### 2) KLEINE ZEITUNG"
      ]
    },
    {
      "cell_type": "code",
      "execution_count": null,
      "metadata": {
        "id": "1tj7B9csLErC"
      },
      "outputs": [],
      "source": [
        "@scrap_data(params={'iprocess': 24, 'url': 'https://www.kleinezeitung.at/user/search.do?action=1&resultsPage={ipage}&resetForm=0&type=4196%2C4193%2C4206&searchText={keyword}', 'pagination': list(range(1,21))})\n",
        "def austria2kleinezeitung(soup, ipage, news_links, dates):\n",
        "    found = True\n",
        "    b = soup.find('section', class_='article-card--search').find_all(\"article\")\n",
        "    if len(b) == 0: found = False\n",
        "    else: print(f\"[PAGE NO : {ipage}] [ARTICLES FOUND: {len(b)}]\")\n",
        "    for i in b:\n",
        "        try:\n",
        "            news_links.append(\"\"+i.find(\"a\").get(\"href\"))\n",
        "            dates.append(\" \".join(i.find(\"small\", \"article-card__date\").text.split()))\n",
        "        except: pass\n",
        "    return news_links, dates, found"
      ]
    },
    {
      "cell_type": "code",
      "execution_count": null,
      "metadata": {
        "id": "0clBLVIwLErC",
        "outputId": "312bce17-ea13-4ed6-c24f-3536d4f7031d"
      },
      "outputs": [
        {
          "name": "stdout",
          "output_type": "stream",
          "text": [
            "[PAGE NO : 1] [ARTICLES FOUND: 1]\n",
            "[PAGE NO : 2] [NO MORE ARTICLES FOUND]\n",
            "   year Number of Related News\n",
            "0  2017                      1\n",
            "1  2018                      0\n",
            "2  2019                      0\n",
            "3  2020                      0\n",
            "4  2021                      0\n",
            "5  2022                      0\n"
          ]
        }
      ],
      "source": [
        "print(austria2kleinezeitung(\"gdpr\"))"
      ]
    },
    {
      "cell_type": "markdown",
      "metadata": {
        "id": "k45FCf0gLErC"
      },
      "source": [
        "#### 3) DIE PRESSE"
      ]
    },
    {
      "cell_type": "code",
      "execution_count": null,
      "metadata": {
        "id": "N-PFQG9ALErC"
      },
      "outputs": [],
      "source": [
        "@scrap_data(params={'iprocess': 26, 'url': 'https://www.diepresse.com/suche?s={keyword}&p={ipage}', 'pagination': list(range(1,21))})\n",
        "def austria3diepresse(soup, ipage, news_links, dates):\n",
        "    found = True\n",
        "    b = soup.find_all(\"div\", \"card__content\")\n",
        "    if len(b) == 0: found = False\n",
        "    else: print(f\"[PAGE NO : {ipage}] [ARTICLES FOUND: {len(b)}]\")\n",
        "    for i in b:\n",
        "        news_links.append(\"\"+i.find(\"a\").get(\"href\"))\n",
        "        try:    dates.append(\" \".join(i.find(\"div\", \"card__header\").get_text().split()))\n",
        "        except: dates.append(\"\")\n",
        "    return news_links, dates, found"
      ]
    },
    {
      "cell_type": "code",
      "execution_count": null,
      "metadata": {
        "id": "KHRgBAc8LErC",
        "outputId": "74cf5b3c-80df-4994-9a25-f0d5187390d8"
      },
      "outputs": [
        {
          "name": "stdout",
          "output_type": "stream",
          "text": [
            "[PAGE NO : 1] [ARTICLES FOUND: 6]\n",
            "[PAGE NO : 2] [NO MORE ARTICLES FOUND]\n",
            "   year Number of Related News\n",
            "0  2017                      1\n",
            "1  2018                      1\n",
            "2  2019                      1\n",
            "3  2020                      0\n",
            "4  2021                      3\n",
            "5  2022                      0\n"
          ]
        }
      ],
      "source": [
        "print(austria3diepresse('gdpr'))"
      ]
    },
    {
      "cell_type": "markdown",
      "metadata": {
        "id": "oeLvKYb_LErC"
      },
      "source": [
        "---\n",
        "\n",
        "# PORTUGAL\n",
        "\n",
        "---"
      ]
    },
    {
      "cell_type": "markdown",
      "metadata": {
        "id": "WBHBy46vLErC"
      },
      "source": [
        "#### 1) OBSERVADOR"
      ]
    },
    {
      "cell_type": "code",
      "execution_count": null,
      "metadata": {
        "id": "2emZA-NoLErC"
      },
      "outputs": [],
      "source": [
        "def portugal1observador(keyword):\n",
        "    news_links = []\n",
        "    dates = []\n",
        "    iprocess = 31\n",
        "    print(\"[WEBSITE: OBSERVADOR]\")\n",
        "    wd.get(f\"https://observador.pt/pesquisa/?q={keyword}\")    \n",
        "    for ipage in list(range(21))[1:]:\n",
        "        content = driver.page_source.encode('utf-8').strip()\n",
        "        soup = BeautifulSoup(content)\n",
        "        b = soup.find_all(\"div\", \"gsc-webResult gsc-result\")\n",
        "        print(f\"[PAGE NO : {ipage}] [ARTICLES FOUND: {len(b)}]\")\n",
        "        for i in b:\n",
        "            news_links.append(\"\"+i.find(\"a\").get(\"href\"))\n",
        "            try:\n",
        "                dates.append(\" \".join(i.find(\"div\", \"gs-visibleUrl-breadcrumb\").find_all('span')[1].text.split()))\n",
        "            except:\n",
        "                dates.append(\"\")\n",
        "            try:\n",
        "                wd.find_element_by_xpath('//*[@id=\"___gcse_0\"]/div/div/div/div[5]/div[2]/div/div/div[2]/div/div[ipage]'.replace(\"ipage\", str(ipage))).click()\n",
        "                time.sleep(2)\n",
        "            except:\n",
        "                y = 0\n",
        "    kamus = {\"news link\": news_links, \"date\": dates}\n",
        "    return createExcelFiles(iprocess, kamus, keyword)\n"
      ]
    },
    {
      "cell_type": "code",
      "execution_count": null,
      "metadata": {
        "id": "BtY8xKmuLErC",
        "outputId": "2eafccc4-d9b0-48be-cc7f-9d3a3f9d97db"
      },
      "outputs": [
        {
          "name": "stdout",
          "output_type": "stream",
          "text": [
            "[WEBSITE: OBSERVADOR]\n",
            "[PAGE NO : 1] [ARTICLES FOUND: 20]\n",
            "[PAGE NO : 2] [ARTICLES FOUND: 20]\n",
            "[PAGE NO : 3] [ARTICLES FOUND: 20]\n",
            "[PAGE NO : 4] [ARTICLES FOUND: 20]\n",
            "[PAGE NO : 5] [ARTICLES FOUND: 20]\n",
            "[PAGE NO : 6] [ARTICLES FOUND: 20]\n",
            "[PAGE NO : 7] [ARTICLES FOUND: 20]\n",
            "[PAGE NO : 8] [ARTICLES FOUND: 20]\n",
            "[PAGE NO : 9] [ARTICLES FOUND: 20]\n",
            "[PAGE NO : 10] [ARTICLES FOUND: 20]\n",
            "[PAGE NO : 11] [ARTICLES FOUND: 20]\n",
            "[PAGE NO : 12] [ARTICLES FOUND: 20]\n",
            "[PAGE NO : 13] [ARTICLES FOUND: 20]\n",
            "[PAGE NO : 14] [ARTICLES FOUND: 20]\n",
            "[PAGE NO : 15] [ARTICLES FOUND: 20]\n",
            "[PAGE NO : 16] [ARTICLES FOUND: 20]\n",
            "[PAGE NO : 17] [ARTICLES FOUND: 20]\n",
            "[PAGE NO : 18] [ARTICLES FOUND: 20]\n",
            "[PAGE NO : 19] [ARTICLES FOUND: 20]\n",
            "[PAGE NO : 20] [ARTICLES FOUND: 20]\n",
            "   year Number of Related News\n",
            "0  2017                      0\n",
            "1  2018                     40\n",
            "2  2019                     60\n",
            "3  2020                     80\n",
            "4  2021                     60\n",
            "5  2022                     20\n"
          ]
        }
      ],
      "source": [
        "print(portugal1observador(\"gdpr\"))"
      ]
    },
    {
      "cell_type": "markdown",
      "metadata": {
        "id": "B_dDLY5BLErC"
      },
      "source": [
        "#### 2) DN.PT"
      ]
    },
    {
      "cell_type": "code",
      "execution_count": null,
      "metadata": {
        "id": "yd7wb-N_LErD"
      },
      "outputs": [],
      "source": [
        "def portugal2dn(keyword):\n",
        "    news_links = []\n",
        "    dates = []\n",
        "    iprocess = 30\n",
        "    print(\"[WEBSITE: DN]\")\n",
        "    wd.get(f\"https://www.dn.pt/pesquisa.html?q={keyword}\")    \n",
        "    for ipage in list(range(21))[1:]:\n",
        "        content = driver.page_source.encode('utf-8').strip()\n",
        "        soup = BeautifulSoup(content)\n",
        "        b = soup.find_all(\"div\", \"gsc-webResult gsc-result\")\n",
        "        print(f\"[PAGE NO : {ipage}] [ARTICLES FOUND: {len(b)}]\")\n",
        "        for i in b:\n",
        "            news_links.append(\"\"+i.find(\"a\").get(\"href\"))\n",
        "            try:\n",
        "                dates.append(\" \".join(i.find(\"div\", \"gs-bidi-start-align gs-snippet\").text.split('...')[0].split()))\n",
        "            except:\n",
        "                dates.append(\"\")\n",
        "            try:\n",
        "                time.sleep(1)\n",
        "                wd.find_element_by_xpath('//*[@id=\"___gcse_0\"]/div/div/div/div[5]/div[2]/div/div/div[2]/div/div[ipage]'.replace(\"ipage\", str(ipage))).click()\n",
        "                time.sleep(2)\n",
        "            except:\n",
        "                y = 0\n",
        "    kamus = {\"news link\": news_links, \"date\": dates}\n",
        "    return createExcelFiles(iprocess, kamus, keyword)"
      ]
    },
    {
      "cell_type": "code",
      "execution_count": null,
      "metadata": {
        "id": "6ST2smkCLErD",
        "outputId": "019973ea-4783-46ba-ffc5-e6a592b181e4"
      },
      "outputs": [
        {
          "name": "stdout",
          "output_type": "stream",
          "text": [
            "[WEBSITE: DN]\n",
            "[PAGE NO : 1] [ARTICLES FOUND: 9]\n",
            "[PAGE NO : 2] [ARTICLES FOUND: 9]\n",
            "[PAGE NO : 3] [ARTICLES FOUND: 9]\n",
            "[PAGE NO : 4] [ARTICLES FOUND: 9]\n",
            "[PAGE NO : 5] [ARTICLES FOUND: 9]\n",
            "[PAGE NO : 6] [ARTICLES FOUND: 9]\n",
            "[PAGE NO : 7] [ARTICLES FOUND: 9]\n",
            "[PAGE NO : 8] [ARTICLES FOUND: 9]\n",
            "[PAGE NO : 9] [ARTICLES FOUND: 9]\n",
            "[PAGE NO : 10] [ARTICLES FOUND: 9]\n",
            "[PAGE NO : 11] [ARTICLES FOUND: 9]\n",
            "[PAGE NO : 12] [ARTICLES FOUND: 9]\n",
            "[PAGE NO : 13] [ARTICLES FOUND: 9]\n",
            "[PAGE NO : 14] [ARTICLES FOUND: 9]\n",
            "[PAGE NO : 15] [ARTICLES FOUND: 9]\n",
            "[PAGE NO : 16] [ARTICLES FOUND: 9]\n",
            "[PAGE NO : 17] [ARTICLES FOUND: 9]\n",
            "[PAGE NO : 18] [ARTICLES FOUND: 9]\n",
            "[PAGE NO : 19] [ARTICLES FOUND: 9]\n",
            "[PAGE NO : 20] [ARTICLES FOUND: 9]\n",
            "   year Number of Related News\n",
            "0  2017                     20\n",
            "1  2018                    100\n",
            "2  2019                     20\n",
            "3  2020                      0\n",
            "4  2021                     20\n",
            "5  2022                      0\n"
          ]
        }
      ],
      "source": [
        "print(portugal2dn(\"gdpr\"))"
      ]
    },
    {
      "cell_type": "markdown",
      "metadata": {
        "id": "95Cw-id3LErD"
      },
      "source": [
        "#### 3) DNOTICIAS.PT"
      ]
    },
    {
      "cell_type": "code",
      "execution_count": null,
      "metadata": {
        "id": "FIxCNyYiLErD"
      },
      "outputs": [],
      "source": [
        "@scrap_data(params={'iprocess': 32, 'url': 'https://pesquisa.dnoticias.pt/elastic/results/?search={keyword}&page={ipage}', 'pagination': list(range(1,21))})\n",
        "def portugal3dnoticias(soup, ipage, news_links, dates):\n",
        "    found = True\n",
        "    b = soup.find('ul', class_='search-list-results').find_all('li')\n",
        "    if len(b) == 0: found = False\n",
        "    else: print(f\"[PAGE NO : {ipage}] [ARTICLES FOUND: {len(b)}]\")\n",
        "    for i in b:\n",
        "        news_links.append(\"\"+i.find(\"a\").get(\"href\"))\n",
        "        dates.append(\" \".join(i.find(\"span\", \"search-result-date\").text.split()))\n",
        "    return news_links, dates, found"
      ]
    },
    {
      "cell_type": "code",
      "execution_count": null,
      "metadata": {
        "id": "WbmhLUTxLErD",
        "outputId": "ca43918f-548e-4bca-a74d-411d0325c206"
      },
      "outputs": [
        {
          "name": "stdout",
          "output_type": "stream",
          "text": [
            "[PAGE NO : 1] [ARTICLES FOUND: 3]\n",
            "[PAGE NO : 2] [NO MORE ARTICLES FOUND]\n",
            "   year Number of Related News\n",
            "0  2017                      0\n",
            "1  2018                      0\n",
            "2  2019                      0\n",
            "3  2020                      2\n",
            "4  2021                      1\n",
            "5  2022                      0\n"
          ]
        }
      ],
      "source": [
        "print(portugal3dnoticias(\"gdpr\"))"
      ]
    },
    {
      "cell_type": "markdown",
      "metadata": {
        "id": "N2MQkzb4LErD"
      },
      "source": [
        "---\n",
        "\n",
        "# ITALY\n",
        "\n",
        "---"
      ]
    },
    {
      "cell_type": "markdown",
      "metadata": {
        "id": "Zch0E-c5LErD"
      },
      "source": [
        "#### 1) REPUBBLICA.IT"
      ]
    },
    {
      "cell_type": "code",
      "execution_count": null,
      "metadata": {
        "id": "0PwSpcV-LErD"
      },
      "outputs": [],
      "source": [
        "@scrap_data(params={'iprocess': 33, 'url': 'https://ricerca.repubblica.it/ricerca/repubblica?query={keyword}&view=repubblica&ref=HRHS&page={ipage}', 'pagination': list(range(1,21))})\n",
        "def italy1repubblica(soup, ipage, news_links, dates):\n",
        "    found = True\n",
        "    b = soup.find_all(\"article\")\n",
        "    if len(b) == 0: found = False\n",
        "    else: print(f\"[PAGE NO : {ipage}] [ARTICLES FOUND: {len(b)}]\")\n",
        "    for i in b:\n",
        "        news_links.append(\"\"+i.find(\"a\").get(\"href\"))\n",
        "        dates.append(\" \".join(i.find(\"time\").text.split()))\n",
        "    return news_links, dates, found"
      ]
    },
    {
      "cell_type": "code",
      "execution_count": null,
      "metadata": {
        "id": "uAmxmrBULErD",
        "outputId": "7e5565bd-c33b-4535-f9a9-bc32af8d2ac4"
      },
      "outputs": [
        {
          "name": "stdout",
          "output_type": "stream",
          "text": [
            "[PAGE NO : 1] [ARTICLES FOUND: 10]\n",
            "[PAGE NO : 2] [ARTICLES FOUND: 10]\n",
            "[PAGE NO : 3] [ARTICLES FOUND: 10]\n",
            "[PAGE NO : 4] [ARTICLES FOUND: 10]\n",
            "[PAGE NO : 5] [ARTICLES FOUND: 10]\n",
            "[PAGE NO : 6] [ARTICLES FOUND: 10]\n",
            "[PAGE NO : 7] [ARTICLES FOUND: 10]\n",
            "[PAGE NO : 8] [ARTICLES FOUND: 10]\n",
            "[PAGE NO : 9] [ARTICLES FOUND: 10]\n",
            "[PAGE NO : 10] [ARTICLES FOUND: 10]\n",
            "[PAGE NO : 11] [ARTICLES FOUND: 10]\n",
            "[PAGE NO : 12] [ARTICLES FOUND: 10]\n",
            "[PAGE NO : 13] [ARTICLES FOUND: 10]\n",
            "[PAGE NO : 14] [ARTICLES FOUND: 10]\n",
            "[PAGE NO : 15] [ARTICLES FOUND: 10]\n",
            "[PAGE NO : 16] [ARTICLES FOUND: 10]\n",
            "[PAGE NO : 17] [ARTICLES FOUND: 10]\n",
            "[PAGE NO : 18] [ARTICLES FOUND: 10]\n",
            "[PAGE NO : 19] [ARTICLES FOUND: 10]\n",
            "[PAGE NO : 20] [ARTICLES FOUND: 10]\n",
            "   year Number of Related News\n",
            "0  2017                      0\n",
            "1  2018                      0\n",
            "2  2019                      0\n",
            "3  2020                      3\n",
            "4  2021                     52\n",
            "5  2022                    145\n"
          ]
        }
      ],
      "source": [
        "print(italy1repubblica(\"gdpr\"))"
      ]
    },
    {
      "cell_type": "markdown",
      "metadata": {
        "id": "bS3BOE0QLErD"
      },
      "source": [
        "#### 2) TODAY.IT"
      ]
    },
    {
      "cell_type": "code",
      "execution_count": null,
      "metadata": {
        "id": "cWPmccCcLErD"
      },
      "outputs": [],
      "source": [
        "@scrap_data(params={'iprocess': 40, 'url': 'https://www.today.it/search/query/{keyword}/pag/{ipage}', 'pagination': list(range(1,21))})\n",
        "def italy2today(soup, ipage, news_links, dates):\n",
        "    found = True\n",
        "    b = soup.find_all(\"article\")\n",
        "    if len(b) == 0: found = False\n",
        "    else: print(f\"[PAGE NO : {ipage}] [ARTICLES FOUND: {len(b)}]\")\n",
        "    for i in b:\n",
        "        news_links.append(\"\"+i.find(\"span\", class_='c-story__byline').find('a').get(\"href\"))\n",
        "        dates.append(\" \".join(i.find(\"span\", class_='c-story__byline').text.split(',')[-1].split()))\n",
        "    return news_links, dates, found"
      ]
    },
    {
      "cell_type": "code",
      "execution_count": null,
      "metadata": {
        "id": "G4hVY4HaLErD",
        "outputId": "42d7b2d6-7fdd-4b72-8403-86ce235df9e7"
      },
      "outputs": [
        {
          "name": "stdout",
          "output_type": "stream",
          "text": [
            "[PAGE NO : 1] [ARTICLES FOUND: 15]\n",
            "[PAGE NO : 2] [ARTICLES FOUND: 15]\n",
            "[PAGE NO : 3] [ARTICLES FOUND: 15]\n",
            "[PAGE NO : 4] [ARTICLES FOUND: 15]\n",
            "[PAGE NO : 5] [ARTICLES FOUND: 15]\n",
            "[PAGE NO : 6] [ARTICLES FOUND: 15]\n",
            "[PAGE NO : 7] [ARTICLES FOUND: 15]\n",
            "[PAGE NO : 8] [ARTICLES FOUND: 14]\n",
            "[PAGE NO : 9] [NO MORE ARTICLES FOUND]\n",
            "   year Number of Related News\n",
            "0  2017                      0\n",
            "1  2018                     26\n",
            "2  2019                     29\n",
            "3  2020                     25\n",
            "4  2021                     25\n",
            "5  2022                     14\n"
          ]
        }
      ],
      "source": [
        "print(italy2today(\"gdpr\"))"
      ]
    },
    {
      "cell_type": "markdown",
      "metadata": {
        "id": "PpadBZq8LErE"
      },
      "source": [
        "#### 3) ILPOST.IT"
      ]
    },
    {
      "cell_type": "code",
      "execution_count": null,
      "metadata": {
        "id": "VIxNc3vfLErE"
      },
      "outputs": [],
      "source": [
        "@scrap_data(params={'iprocess': 39, 'url': 'https://www.ilpost.it/search_gcse/?q={keyword}#gsc.tab=0&gsc.q={keyword}&gsc.page={ipage}', 'pagination': list(range(1,21))})\n",
        "def italy3ilpost(soup, ipage, news_links, dates):\n",
        "    found = True\n",
        "    b = soup.find_all(\"div\", class_='gsc-webResult gsc-result')\n",
        "    if len(b) == 0: found = False\n",
        "    else: print(f\"[PAGE NO : {ipage}] [ARTICLES FOUND: {len(b)}]\")\n",
        "    for i in b:\n",
        "        news_links.append(\"\"+i.find('a').get(\"href\"))\n",
        "        dates.append(\" \".join(i.find(\"div\", class_='gs-visibleUrl-breadcrumb').find_all('span')[1].text.split()))\n",
        "    return news_links, dates, found"
      ]
    },
    {
      "cell_type": "code",
      "execution_count": null,
      "metadata": {
        "id": "g_Uqgq58LErE",
        "outputId": "90979b85-e561-4c22-e9f2-4e2e5ef1cde6"
      },
      "outputs": [
        {
          "name": "stdout",
          "output_type": "stream",
          "text": [
            "[PAGE NO : 1] [ARTICLES FOUND: 10]\n",
            "[PAGE NO : 2] [ARTICLES FOUND: 10]\n",
            "[PAGE NO : 3] [ARTICLES FOUND: 10]\n",
            "[PAGE NO : 4] [ARTICLES FOUND: 10]\n",
            "[PAGE NO : 5] [ARTICLES FOUND: 10]\n",
            "[PAGE NO : 6] [ARTICLES FOUND: 10]\n",
            "[PAGE NO : 7] [ARTICLES FOUND: 10]\n",
            "[PAGE NO : 8] [ARTICLES FOUND: 10]\n",
            "[PAGE NO : 9] [ARTICLES FOUND: 10]\n",
            "[PAGE NO : 10] [ARTICLES FOUND: 10]\n",
            "[PAGE NO : 11] [ARTICLES FOUND: 10]\n",
            "[PAGE NO : 12] [ARTICLES FOUND: 10]\n",
            "[PAGE NO : 13] [ARTICLES FOUND: 10]\n",
            "[PAGE NO : 14] [ARTICLES FOUND: 10]\n",
            "[PAGE NO : 15] [ARTICLES FOUND: 10]\n",
            "[PAGE NO : 16] [ARTICLES FOUND: 10]\n",
            "[PAGE NO : 17] [ARTICLES FOUND: 10]\n",
            "[PAGE NO : 18] [ARTICLES FOUND: 10]\n",
            "[PAGE NO : 19] [ARTICLES FOUND: 10]\n",
            "[PAGE NO : 20] [ARTICLES FOUND: 10]\n",
            "   year Number of Related News\n",
            "0  2017                      0\n",
            "1  2018                      0\n",
            "2  2019                      0\n",
            "3  2020                      0\n",
            "4  2021                    180\n",
            "5  2022                      0\n"
          ]
        }
      ],
      "source": [
        "print(italy3ilpost(\"gdpr\"))"
      ]
    },
    {
      "cell_type": "markdown",
      "metadata": {
        "id": "wKTJPISNLErE"
      },
      "source": [
        "---\n",
        "\n",
        "# BULGARIA\n",
        "\n",
        "---"
      ]
    },
    {
      "cell_type": "markdown",
      "source": [
        "#### 1) VESTI.BG"
      ],
      "metadata": {
        "id": "SZ-llpy6Lkxf"
      }
    },
    {
      "cell_type": "code",
      "execution_count": null,
      "metadata": {
        "id": "HqUHsslmLErE"
      },
      "outputs": [],
      "source": [
        "@scrap_data(params={'iprocess': 65, 'url': 'https://www.vesti.bg/tarsene?q={keyword}', 'pagination': list(range(1,2))})\n",
        "def bulgaria1vesiti(soup, ipage, news_links, dates):\n",
        "    found = True\n",
        "    b = soup.find_all(\"div\", class_=\"list-item list-item-category\")\n",
        "    if len(b) == 0: found = False\n",
        "    else: print(f\"[PAGE NO : {ipage}] [ARTICLES FOUND: {len(b)}]\")\n",
        "    for i in b:\n",
        "        news_links.append(\"\"+i.find('a').get(\"href\"))\n",
        "        dates.append(\" \".join(i.find(\"span\", class_=\"label-time\").text.split()))\n",
        "    return news_links, dates, found"
      ]
    },
    {
      "cell_type": "code",
      "execution_count": null,
      "metadata": {
        "id": "pnvIMS-6LErE",
        "outputId": "96d93713-7727-4a65-b62f-0007b148892e"
      },
      "outputs": [
        {
          "name": "stdout",
          "output_type": "stream",
          "text": [
            "[PAGE NO : 1] [ARTICLES FOUND: 30]\n",
            "   year Number of Related News\n",
            "0  2017                      0\n",
            "1  2018                     10\n",
            "2  2019                      4\n",
            "3  2020                      6\n",
            "4  2021                      9\n",
            "5  2022                      1\n"
          ]
        }
      ],
      "source": [
        "print(bulgaria1vesiti(\"gdpr\"))"
      ]
    },
    {
      "cell_type": "markdown",
      "source": [
        "#### 2) 24CHASA.BG"
      ],
      "metadata": {
        "id": "0a2Ear6mLouO"
      }
    },
    {
      "cell_type": "code",
      "execution_count": null,
      "metadata": {
        "id": "ihkXxz7WLErE"
      },
      "outputs": [],
      "source": [
        "@scrap_data(params={'iprocess': 66, 'url': 'https://www.24chasa.bg/Search?what={keyword}&page={ipage}', 'pagination': list(range(1,21))})\n",
        "def bulgaria2chasa(soup, ipage, news_links, dates):\n",
        "    found = True\n",
        "    b = soup.find_all(\"div\", class_=\"entry-short\")\n",
        "    if len(b) == 0: found = False\n",
        "    else: print(f\"[PAGE NO : {ipage}] [ARTICLES FOUND: {len(b)}]\")\n",
        "    for i in b:\n",
        "        news_links.append(\"\"+i.find('a').get(\"href\"))\n",
        "        dates.append(\" \".join(i.find(\"span\", class_=\"article-date\").text.split('|')[-1].split()))\n",
        "    return news_links, dates, found"
      ]
    },
    {
      "cell_type": "code",
      "execution_count": null,
      "metadata": {
        "id": "kFx196MoLErE",
        "outputId": "d47a65fa-9a2f-4e97-875f-5ce52fa4d6b7"
      },
      "outputs": [
        {
          "name": "stdout",
          "output_type": "stream",
          "text": [
            "[PAGE NO : 1] [ARTICLES FOUND: 34]\n",
            "[PAGE NO : 2] [ARTICLES FOUND: 34]\n",
            "[PAGE NO : 3] [ARTICLES FOUND: 34]\n",
            "[PAGE NO : 4] [ARTICLES FOUND: 2]\n",
            "[PAGE NO : 5] [NO MORE ARTICLES FOUND]\n",
            "   year Number of Related News\n",
            "0  2017                      1\n",
            "1  2018                     46\n",
            "2  2019                     33\n",
            "3  2020                     11\n",
            "4  2021                     10\n",
            "5  2022                      3\n"
          ]
        }
      ],
      "source": [
        "print(bulgaria2chasa(\"gdpr\"))"
      ]
    },
    {
      "cell_type": "markdown",
      "source": [
        "#### 3) BLITZ.BG"
      ],
      "metadata": {
        "id": "vBuS3HqVLrq9"
      }
    },
    {
      "cell_type": "code",
      "execution_count": null,
      "metadata": {
        "id": "0pMYeTpHLErE"
      },
      "outputs": [],
      "source": [
        "@scrap_data(params={'iprocess': 67, 'url': 'https://blitz.bg/search?q={keyword}&page={ipage}', 'pagination': list(range(1,21))})\n",
        "def bulgaria3blitz(soup, ipage, news_links, dates):\n",
        "    found = True\n",
        "    b = soup.find_all(\"div\", class_=\"tech-news-content mt-0\")\n",
        "    if len(b) == 0: found = False\n",
        "    else: print(f\"[PAGE NO : {ipage}] [ARTICLES FOUND: {len(b)}]\")\n",
        "    for i in b:\n",
        "        news_links.append(\"\"+i.find('a').get(\"href\"))\n",
        "        dates.append(\" \".join(i.find_all(\"p\")[-1].find(\"span\").text.split()))\n",
        "    return news_links, dates, found"
      ]
    },
    {
      "cell_type": "code",
      "execution_count": null,
      "metadata": {
        "id": "DTi5Hs6XLErE",
        "outputId": "0351f477-dc9d-49d7-f52e-e09fd09ea9cb"
      },
      "outputs": [
        {
          "name": "stdout",
          "output_type": "stream",
          "text": [
            "[PAGE NO : 1] [ARTICLES FOUND: 15]\n",
            "[PAGE NO : 2] [ARTICLES FOUND: 15]\n",
            "[PAGE NO : 3] [ARTICLES FOUND: 14]\n",
            "[PAGE NO : 4] [ARTICLES FOUND: 15]\n",
            "[PAGE NO : 5] [ARTICLES FOUND: 14]\n",
            "[PAGE NO : 6] [ARTICLES FOUND: 9]\n",
            "[PAGE NO : 7] [NO MORE ARTICLES FOUND]\n",
            "   year Number of Related News\n",
            "0  2017                      2\n",
            "1  2018                     30\n",
            "2  2019                     19\n",
            "3  2020                      9\n",
            "4  2021                     17\n",
            "5  2022                      5\n"
          ]
        }
      ],
      "source": [
        "print(bulgaria3blitz(\"gdpr\"))"
      ]
    },
    {
      "cell_type": "markdown",
      "source": [
        "#### 4) FAKTI.BG"
      ],
      "metadata": {
        "id": "o6RGxWPrLwgb"
      }
    },
    {
      "cell_type": "code",
      "execution_count": null,
      "metadata": {
        "id": "-svftlhzLErE"
      },
      "outputs": [],
      "source": [
        "@scrap_data(params={'iprocess': 68, 'url': 'https://fakti.bg/search?q={keyword}&page={ipage}', 'pagination': list(range(1,21))})\n",
        "def bulgaria4fakti(soup, ipage, news_links, dates):\n",
        "    found = True\n",
        "    b = soup.find('section', id='main').find_all(\"li\")[:21]\n",
        "    if len(b) == 0: found = False\n",
        "    else: print(f\"[PAGE NO : {ipage}] [ARTICLES FOUND: {len(b)}]\")\n",
        "    for i in b:\n",
        "        news_links.append(\"https://fakti.bg\"+i.find(\"a\").get(\"href\"))\n",
        "        dates.append(\" \".join(i.find(\"div\", class_=\"ndtvc\").find(\"div\").text.split()))\n",
        "    return news_links, dates, found"
      ]
    },
    {
      "cell_type": "code",
      "execution_count": null,
      "metadata": {
        "id": "gdWZPGxBLErE",
        "outputId": "ad99bb37-e04d-4645-ee13-52c0a46d00b3"
      },
      "outputs": [
        {
          "name": "stdout",
          "output_type": "stream",
          "text": [
            "[PAGE NO : 1] [ARTICLES FOUND: 20]\n",
            "[PAGE NO : 2] [ARTICLES FOUND: 20]\n",
            "[PAGE NO : 3] [ARTICLES FOUND: 5]\n",
            "[PAGE NO : 4] [NO MORE ARTICLES FOUND]\n",
            "   year Number of Related News\n",
            "0  2017                      2\n",
            "1  2018                     14\n",
            "2  2019                      9\n",
            "3  2020                      9\n",
            "4  2021                      7\n",
            "5  2022                      4\n"
          ]
        }
      ],
      "source": [
        "print(bulgaria4fakti(\"gdpr\"))"
      ]
    },
    {
      "cell_type": "markdown",
      "metadata": {
        "id": "fZbnUfguLErE"
      },
      "source": [
        "---\n",
        "# CROATIA\n",
        "---\n"
      ]
    },
    {
      "cell_type": "markdown",
      "source": [
        "#### 1) INDEX.HR"
      ],
      "metadata": {
        "id": "KlD_xzxNL0aX"
      }
    },
    {
      "cell_type": "code",
      "execution_count": null,
      "metadata": {
        "id": "QAraJyH0LErE"
      },
      "outputs": [],
      "source": [
        "@scrap_data(params={'iprocess': 58, 'url': 'https://www.index.hr/trazi.aspx?upit={keyword}&page={ipage}', 'pagination': list(range(1,21))})\n",
        "def croatia1index(soup, ipage, news_links, dates):\n",
        "    found = True\n",
        "    b = soup.find_all('div', class_=\"grid-items-list\")\n",
        "    if len(b) == 0: found = False\n",
        "    else: print(f\"[PAGE NO : {ipage}] [ARTICLES FOUND: {len(b)}]\")\n",
        "    for i in b:\n",
        "        news_links.append(\"https://www.index.hr\"+i.find(\"a\").get(\"href\"))\n",
        "        dates.append(\" \".join(i.find(\"div\", class_=\"publish-date\").text.split()))\n",
        "    return news_links, dates, found"
      ]
    },
    {
      "cell_type": "code",
      "execution_count": null,
      "metadata": {
        "id": "y8bWq4taLErE",
        "outputId": "97aa838f-2912-4342-9a56-674e5001204c"
      },
      "outputs": [
        {
          "name": "stdout",
          "output_type": "stream",
          "text": [
            "[PAGE NO : 1] [ARTICLES FOUND: 3]\n",
            "[PAGE NO : 2] [ARTICLES FOUND: 3]\n",
            "[PAGE NO : 3] [ARTICLES FOUND: 3]\n",
            "[PAGE NO : 4] [ARTICLES FOUND: 3]\n",
            "[PAGE NO : 5] [ARTICLES FOUND: 3]\n",
            "[PAGE NO : 6] [ARTICLES FOUND: 3]\n",
            "[PAGE NO : 7] [ARTICLES FOUND: 3]\n",
            "[PAGE NO : 8] [ARTICLES FOUND: 3]\n",
            "[PAGE NO : 9] [ARTICLES FOUND: 3]\n",
            "[PAGE NO : 10] [ARTICLES FOUND: 3]\n",
            "[PAGE NO : 11] [ARTICLES FOUND: 3]\n",
            "[PAGE NO : 12] [ARTICLES FOUND: 3]\n",
            "[PAGE NO : 13] [ARTICLES FOUND: 3]\n",
            "[PAGE NO : 14] [ARTICLES FOUND: 3]\n",
            "[PAGE NO : 15] [ARTICLES FOUND: 3]\n",
            "[PAGE NO : 16] [ARTICLES FOUND: 3]\n",
            "[PAGE NO : 17] [ARTICLES FOUND: 3]\n",
            "[PAGE NO : 18] [ARTICLES FOUND: 3]\n",
            "[PAGE NO : 19] [ARTICLES FOUND: 3]\n",
            "[PAGE NO : 20] [ARTICLES FOUND: 3]\n",
            "   year Number of Related News\n",
            "0  2017                      0\n",
            "1  2018                      0\n",
            "2  2019                      5\n",
            "3  2020                     23\n",
            "4  2021                     24\n",
            "5  2022                      8\n"
          ]
        }
      ],
      "source": [
        "print(croatia1index(\"gdpr\"))"
      ]
    },
    {
      "cell_type": "markdown",
      "source": [
        "#### 2) TPORTAL.HR"
      ],
      "metadata": {
        "id": "3l_Kaa2xL3t0"
      }
    },
    {
      "cell_type": "code",
      "execution_count": null,
      "metadata": {
        "id": "Cis_3dazLErF"
      },
      "outputs": [],
      "source": [
        "@scrap_data(params={'iprocess': 62, 'url': 'https://www.tportal.hr/pretrazivanje?query={keyword}&page={ipage}', 'pagination': list(range(1,21))})\n",
        "def croatia2tportal(soup, ipage, news_links, dates):\n",
        "    found = True\n",
        "    b = soup.find_all('div', class_=\"articlePreviewListType10\")\n",
        "    if len(b) == 0: found = False\n",
        "    else: print(f\"[PAGE NO : {ipage}] [ARTICLES FOUND: {len(b)}]\")\n",
        "    for i in b:\n",
        "        news_links.append(\"https://www.tportal.hr\"+i.find(\"a\").get(\"href\"))\n",
        "        dates.append(\" \".join(i.find(\"h2\", class_=\"title publishedSort\").text.split()))\n",
        "    return news_links, dates, found"
      ]
    },
    {
      "cell_type": "code",
      "execution_count": null,
      "metadata": {
        "id": "U8HY5pc2LErF",
        "outputId": "1dbba888-1d33-4dbc-af0f-44dba5ef1456"
      },
      "outputs": [
        {
          "name": "stdout",
          "output_type": "stream",
          "text": [
            "[PAGE NO : 1] [ARTICLES FOUND: 10]\n",
            "[PAGE NO : 2] [ARTICLES FOUND: 10]\n",
            "[PAGE NO : 3] [ARTICLES FOUND: 9]\n",
            "[PAGE NO : 4] [ARTICLES FOUND: 7]\n",
            "[PAGE NO : 5] [ARTICLES FOUND: 10]\n",
            "[PAGE NO : 6] [ARTICLES FOUND: 7]\n",
            "[PAGE NO : 7] [ARTICLES FOUND: 8]\n",
            "[PAGE NO : 8] [ARTICLES FOUND: 2]\n",
            "[PAGE NO : 9] [NO MORE ARTICLES FOUND]\n",
            "   year Number of Related News\n",
            "0  2017                      2\n",
            "1  2018                     21\n",
            "2  2019                     16\n",
            "3  2020                     11\n",
            "4  2021                     10\n",
            "5  2022                      2\n"
          ]
        }
      ],
      "source": [
        "print(croatia2tportal(\"gdpr\"))"
      ]
    },
    {
      "cell_type": "markdown",
      "source": [
        "#### 3) DNEVNO.HR"
      ],
      "metadata": {
        "id": "dT-_RcMpL7Uq"
      }
    },
    {
      "cell_type": "code",
      "execution_count": null,
      "metadata": {
        "id": "azYw5K0ELErF"
      },
      "outputs": [],
      "source": [
        "@scrap_data(params={'iprocess': 64, 'url': 'https://www.dnevno.hr/?s={keyword}', 'pagination': list(range(1,2))})\n",
        "def croatia3dnevno(soup, ipage, news_links, dates):\n",
        "    found = True\n",
        "    b = soup.find_all('article', class_=\"post\")\n",
        "    if len(b) == 0: found = False\n",
        "    else: print(f\"[PAGE NO : {ipage}] [ARTICLES FOUND: {len(b)}]\")\n",
        "    for i in b:\n",
        "        news_links.append(\"\"+i.find(\"a\").get(\"href\"))\n",
        "        dates.append(\" \".join(i.find(\"time\", class_=\"date\").text.split()))\n",
        "    return news_links, dates, found"
      ]
    },
    {
      "cell_type": "code",
      "execution_count": null,
      "metadata": {
        "id": "rnliHQ9-LErF",
        "outputId": "ba391886-4f8e-4e2a-e6f5-2792f9f3206a"
      },
      "outputs": [
        {
          "name": "stdout",
          "output_type": "stream",
          "text": [
            "[PAGE NO : 1] [NO MORE ARTICLES FOUND]\n",
            "   year Number of Related News\n",
            "0  2017                      0\n",
            "1  2018                      0\n",
            "2  2019                      0\n",
            "3  2020                      0\n",
            "4  2021                      0\n",
            "5  2022                      0\n"
          ]
        }
      ],
      "source": [
        "print(croatia3dnevno(\"gdpr\"))"
      ]
    },
    {
      "cell_type": "markdown",
      "metadata": {
        "id": "_QKL0WLlLErF"
      },
      "source": [
        "---\n",
        "# Greece\n",
        "---"
      ]
    },
    {
      "cell_type": "markdown",
      "source": [
        "#### 1) PROTOTHEMA.GR"
      ],
      "metadata": {
        "id": "c1lBErdjL-WA"
      }
    },
    {
      "cell_type": "code",
      "execution_count": null,
      "metadata": {
        "id": "brEQBYOhLErF"
      },
      "outputs": [],
      "source": [
        "@scrap_data(params={'iprocess': 49, 'url': 'https://www.protothema.gr/ajax/Atcom.Sites.ProtoThema.Components.Search.Page/?pg={ipage}&q={keyword}', 'pagination': list(range(1,21))})\n",
        "def greece1protothema(soup, ipage, news_links, dates):\n",
        "    found = True\n",
        "    b = soup.find_all('div', class_=\"article\")\n",
        "    if len(b) == 0: found = False\n",
        "    else: print(f\"[PAGE NO : {ipage}] [ARTICLES FOUND: {len(b)}]\")\n",
        "    for i in b:\n",
        "        news_links.append(\"\"+i.find(\"a\").get(\"href\"))\n",
        "        dates.append(\" \".join(i.find(\"span\", class_=\"update_well\").text.split(',')[0].split()))\n",
        "    return news_links, dates, found"
      ]
    },
    {
      "cell_type": "code",
      "execution_count": null,
      "metadata": {
        "id": "BJum6ZLPLErF",
        "outputId": "bbba4278-2039-44a9-9afc-afddcb16132d"
      },
      "outputs": [
        {
          "name": "stdout",
          "output_type": "stream",
          "text": [
            "[PAGE NO : 1] [ARTICLES FOUND: 10]\n",
            "[PAGE NO : 2] [ARTICLES FOUND: 10]\n",
            "[PAGE NO : 3] [ARTICLES FOUND: 10]\n",
            "[PAGE NO : 4] [ARTICLES FOUND: 10]\n",
            "[PAGE NO : 5] [ARTICLES FOUND: 10]\n",
            "[PAGE NO : 6] [ARTICLES FOUND: 10]\n",
            "[PAGE NO : 7] [ARTICLES FOUND: 10]\n",
            "[PAGE NO : 8] [ARTICLES FOUND: 10]\n",
            "[PAGE NO : 9] [ARTICLES FOUND: 10]\n",
            "[PAGE NO : 10] [ARTICLES FOUND: 10]\n",
            "[PAGE NO : 11] [ARTICLES FOUND: 10]\n",
            "[PAGE NO : 12] [ARTICLES FOUND: 10]\n",
            "[PAGE NO : 13] [ARTICLES FOUND: 10]\n",
            "[PAGE NO : 14] [ARTICLES FOUND: 10]\n",
            "[PAGE NO : 15] [ARTICLES FOUND: 10]\n",
            "[PAGE NO : 16] [ARTICLES FOUND: 6]\n",
            "[PAGE NO : 17] [NO MORE ARTICLES FOUND]\n",
            "   year Number of Related News\n",
            "0  2017                      2\n",
            "1  2018                     40\n",
            "2  2019                     24\n",
            "3  2020                     42\n",
            "4  2021                     39\n",
            "5  2022                      9\n"
          ]
        }
      ],
      "source": [
        "print(greece1protothema(\"gdpr\"))"
      ]
    },
    {
      "cell_type": "markdown",
      "source": [
        "#### 2) IN.GR"
      ],
      "metadata": {
        "id": "8_hmi7YvMDpd"
      }
    },
    {
      "cell_type": "code",
      "execution_count": null,
      "metadata": {
        "id": "NWN0QLICLErF"
      },
      "outputs": [],
      "source": [
        "@scrap_data(params={'iprocess': 51, 'url': 'https://www.in.gr/search-results/3/?q={keyword}#gsc.tab=0&gsc.q={keyword}&gsc.page={ipage}', 'pagination': list(range(1,21))})\n",
        "def greece2in(soup, ipage, news_links, dates):\n",
        "    found = True\n",
        "    b = soup.find_all('div', class_=\"gsc-webResult gsc-result\")\n",
        "    if len(b) == 0: found = False\n",
        "    else: print(f\"[PAGE NO : {ipage}] [ARTICLES FOUND: {len(b)}]\")\n",
        "    for i in b:\n",
        "        news_links.append(\"\"+i.find(\"a\").get(\"href\"))\n",
        "        dates.append(\" \".join(i.find(\"div\", class_=\"gs-bidi-start-align gs-snippet\").text.split('...')[0].split()))\n",
        "    return news_links, dates, found"
      ]
    },
    {
      "cell_type": "code",
      "execution_count": null,
      "metadata": {
        "id": "AEjxEjrmLErF",
        "outputId": "33a629a7-9327-4094-861a-51a658e94d1b"
      },
      "outputs": [
        {
          "name": "stdout",
          "output_type": "stream",
          "text": [
            "[PAGE NO : 1] [ARTICLES FOUND: 20]\n",
            "[PAGE NO : 2] [ARTICLES FOUND: 20]\n",
            "[PAGE NO : 3] [ARTICLES FOUND: 20]\n",
            "[PAGE NO : 4] [ARTICLES FOUND: 20]\n",
            "[PAGE NO : 5] [ARTICLES FOUND: 20]\n",
            "[PAGE NO : 6] [ARTICLES FOUND: 20]\n",
            "[PAGE NO : 7] [ARTICLES FOUND: 20]\n",
            "[PAGE NO : 8] [ARTICLES FOUND: 20]\n",
            "[PAGE NO : 9] [ARTICLES FOUND: 20]\n",
            "[PAGE NO : 10] [ARTICLES FOUND: 20]\n",
            "[PAGE NO : 11] [ARTICLES FOUND: 20]\n",
            "[PAGE NO : 12] [ARTICLES FOUND: 20]\n",
            "[PAGE NO : 13] [ARTICLES FOUND: 20]\n",
            "[PAGE NO : 14] [ARTICLES FOUND: 20]\n",
            "[PAGE NO : 15] [ARTICLES FOUND: 20]\n",
            "[PAGE NO : 16] [ARTICLES FOUND: 20]\n",
            "[PAGE NO : 17] [ARTICLES FOUND: 20]\n",
            "[PAGE NO : 18] [ARTICLES FOUND: 20]\n",
            "[PAGE NO : 19] [ARTICLES FOUND: 20]\n",
            "[PAGE NO : 20] [ARTICLES FOUND: 20]\n",
            "   year Number of Related News\n",
            "0  2017                      0\n",
            "1  2018                      0\n",
            "2  2019                      0\n",
            "3  2020                    120\n",
            "4  2021                    200\n",
            "5  2022                     80\n"
          ]
        }
      ],
      "source": [
        "print(greece2in(\"gdpr\"))"
      ]
    },
    {
      "cell_type": "markdown",
      "source": [
        "#### 3) NEWSIT.GR"
      ],
      "metadata": {
        "id": "pspMJLlbMHuz"
      }
    },
    {
      "cell_type": "code",
      "execution_count": null,
      "metadata": {
        "id": "rIN2_p44LErF"
      },
      "outputs": [],
      "source": [
        "@scrap_data(params={'iprocess': 53, 'url': 'https://www.newsit.gr/page/{ipage}/?s={keyword}', 'pagination': list(range(1,21))})\n",
        "def greece3newsit(soup, ipage, news_links, dates):\n",
        "    found = True\n",
        "    b = soup.find_all('article', class_=\"blog-article\")\n",
        "    if len(b) == 0: found = False\n",
        "    else: print(f\"[PAGE NO : {ipage}] [ARTICLES FOUND: {len(b)}]\")\n",
        "    for i in b:\n",
        "        news_links.append(\"\"+i.find(\"a\").get(\"href\"))\n",
        "        dates.append(\" \".join(i.find(\"time\", class_=\"entry-date published\").text.split()))\n",
        "    return news_links, dates, found"
      ]
    },
    {
      "cell_type": "code",
      "execution_count": null,
      "metadata": {
        "id": "Jrt16-eMLErF",
        "outputId": "0965513b-5c79-4780-88a2-0b63babcbf52"
      },
      "outputs": [
        {
          "name": "stdout",
          "output_type": "stream",
          "text": [
            "[PAGE NO : 1] [ARTICLES FOUND: 20]\n",
            "[PAGE NO : 2] [ARTICLES FOUND: 20]\n",
            "[PAGE NO : 3] [ARTICLES FOUND: 20]\n",
            "[PAGE NO : 4] [ARTICLES FOUND: 20]\n",
            "[PAGE NO : 5] [ARTICLES FOUND: 1]\n",
            "[PAGE NO : 6] [NO MORE ARTICLES FOUND]\n",
            "   year Number of Related News\n",
            "0  2017                      0\n",
            "1  2018                     21\n",
            "2  2019                     22\n",
            "3  2020                     20\n",
            "4  2021                     15\n",
            "5  2022                      2\n"
          ]
        }
      ],
      "source": [
        "print(greece3newsit(\"gdpr\"))"
      ]
    },
    {
      "cell_type": "markdown",
      "source": [
        "#### 4) DIKAILOGIKA.GR"
      ],
      "metadata": {
        "id": "5GNvG9fWMLFF"
      }
    },
    {
      "cell_type": "code",
      "execution_count": null,
      "metadata": {
        "id": "K0bthQ3CLErF"
      },
      "outputs": [],
      "source": [
        "@scrap_data(params={'iprocess': 52, 'url': 'https://www.dikaiologitika.gr/site/search/{keyword}?searchword={keyword}&start={ipage}', 'pagination': list(map(lambda x: x*20,range(21)))})\n",
        "def greece4dikaiologitika(soup, ipage, news_links, dates):\n",
        "    found = True\n",
        "    b = soup.find_all('div', class_=\"itemContainer\")\n",
        "    if len(b) == 0: found = False\n",
        "    else: print(f\"[PAGE NO : {ipage}] [ARTICLES FOUND: {len(b)}]\")\n",
        "    for i in b:\n",
        "        news_links.append(\"https://www.dikaiologitika.gr\"+i.find(\"a\").get(\"href\"))\n",
        "        dates.append(\" \".join(i.find(\"span\", class_=\"genericItemDateCreated\").text.split('-')[0].split()))\n",
        "    return news_links, dates, found"
      ]
    },
    {
      "cell_type": "code",
      "execution_count": null,
      "metadata": {
        "id": "77EnL92ZLErF",
        "outputId": "7fae201b-2e6e-446e-faa6-2601edfe634c"
      },
      "outputs": [
        {
          "name": "stdout",
          "output_type": "stream",
          "text": [
            "[PAGE NO : 0] [ARTICLES FOUND: 20]\n",
            "[PAGE NO : 20] [ARTICLES FOUND: 20]\n",
            "[PAGE NO : 40] [ARTICLES FOUND: 20]\n",
            "[PAGE NO : 60] [ARTICLES FOUND: 20]\n",
            "[PAGE NO : 80] [ARTICLES FOUND: 20]\n",
            "[PAGE NO : 100] [ARTICLES FOUND: 20]\n",
            "[PAGE NO : 120] [ARTICLES FOUND: 20]\n",
            "[PAGE NO : 140] [ARTICLES FOUND: 20]\n",
            "[PAGE NO : 160] [ARTICLES FOUND: 13]\n",
            "[PAGE NO : 180] [NO MORE ARTICLES FOUND]\n",
            "   year Number of Related News\n",
            "0  2017                     20\n",
            "1  2018                     39\n",
            "2  2019                     26\n",
            "3  2020                     30\n",
            "4  2021                     43\n",
            "5  2022                     14\n"
          ]
        }
      ],
      "source": [
        "print(greece4dikaiologitika(\"gdpr\"))"
      ]
    },
    {
      "cell_type": "markdown",
      "metadata": {
        "id": "FtYpyzRtLErF"
      },
      "source": [
        "---\n",
        "# SLOVAKIA\n",
        "---"
      ]
    },
    {
      "cell_type": "markdown",
      "source": [
        "#### 1) TOPKY.SK"
      ],
      "metadata": {
        "id": "XeaNStWkMPkc"
      }
    },
    {
      "cell_type": "code",
      "execution_count": null,
      "metadata": {
        "id": "2UB9qBZuLErF"
      },
      "outputs": [],
      "source": [
        "@scrap_data(params={'iprocess': 44, 'url': 'https://www.topky.sk/search/{keyword}/{ipage}/', 'pagination': list(range(1,21))})\n",
        "def slovakia1topky(soup, ipage, news_links, dates):\n",
        "    found = True\n",
        "    b = soup.find_all('div', class_=\"entry\")\n",
        "    if len(b) == 0: found = False\n",
        "    else: print(f\"[PAGE NO : {ipage}] [ARTICLES FOUND: {len(b)}]\")\n",
        "    for i in b:\n",
        "        news_links.append(\"https://www.topky.sk\"+i.find(\"a\").get(\"href\"))\n",
        "        dates.append(\" \".join(i.find(\"p\", class_=\"time\").text.split(' ')[0].split()))\n",
        "    return news_links, dates, found"
      ]
    },
    {
      "cell_type": "code",
      "execution_count": null,
      "metadata": {
        "id": "WSSdWp5sLErG",
        "outputId": "6650dd94-d3d0-4caa-f9d8-5efb539b7615"
      },
      "outputs": [
        {
          "name": "stdout",
          "output_type": "stream",
          "text": [
            "[PAGE NO : 1] [ARTICLES FOUND: 10]\n",
            "[PAGE NO : 2] [ARTICLES FOUND: 10]\n",
            "[PAGE NO : 3] [ARTICLES FOUND: 10]\n",
            "[PAGE NO : 4] [ARTICLES FOUND: 10]\n",
            "[PAGE NO : 5] [ARTICLES FOUND: 10]\n",
            "[PAGE NO : 6] [ARTICLES FOUND: 10]\n",
            "[PAGE NO : 7] [ARTICLES FOUND: 10]\n",
            "[PAGE NO : 8] [NO MORE ARTICLES FOUND]\n",
            "   year Number of Related News\n",
            "0  2017                      2\n",
            "1  2018                     23\n",
            "2  2019                     15\n",
            "3  2020                     14\n",
            "4  2021                     13\n",
            "5  2022                      3\n"
          ]
        }
      ],
      "source": [
        "print(slovakia1topky(\"gdpr\"))"
      ]
    },
    {
      "cell_type": "markdown",
      "source": [
        "#### 2) TERAZ.SK"
      ],
      "metadata": {
        "id": "8UwnC_Q6MTon"
      }
    },
    {
      "cell_type": "code",
      "execution_count": null,
      "metadata": {
        "id": "ixuDfmubLErG"
      },
      "outputs": [],
      "source": [
        "@scrap_data(params={'iprocess': 47, 'url': 'https://www.teraz.sk/search?q={keyword}&p={ipage}', 'pagination': list(range(1,21))})\n",
        "def slovakia2teraz(soup, ipage, news_links, dates):\n",
        "    found = True\n",
        "    b = soup.find_all('div', class_=\"mediaListing-item\")\n",
        "    if len(b) == 0: found = False\n",
        "    else: print(f\"[PAGE NO : {ipage}] [ARTICLES FOUND: {len(b)}]\")\n",
        "    for i in b:\n",
        "        news_links.append(\"https://www.teraz.sk\"+i.find(\"a\").get(\"href\"))\n",
        "        dates.append(\" \".join(i.find(\"time\").text.split()))\n",
        "    return news_links, dates, found"
      ]
    },
    {
      "cell_type": "code",
      "execution_count": null,
      "metadata": {
        "id": "dINjJHrdLErG",
        "outputId": "cbab06f6-f788-4924-d5b1-75bc0e2f40be"
      },
      "outputs": [
        {
          "name": "stdout",
          "output_type": "stream",
          "text": [
            "[PAGE NO : 1] [ARTICLES FOUND: 20]\n",
            "[PAGE NO : 2] [ARTICLES FOUND: 20]\n",
            "[PAGE NO : 3] [ARTICLES FOUND: 20]\n",
            "[PAGE NO : 4] [ARTICLES FOUND: 20]\n",
            "[PAGE NO : 5] [ARTICLES FOUND: 20]\n",
            "[PAGE NO : 6] [ARTICLES FOUND: 20]\n",
            "[PAGE NO : 7] [ARTICLES FOUND: 20]\n",
            "[PAGE NO : 8] [ARTICLES FOUND: 20]\n",
            "[PAGE NO : 9] [ARTICLES FOUND: 20]\n",
            "[PAGE NO : 10] [ARTICLES FOUND: 13]\n",
            "[PAGE NO : 11] [NO MORE ARTICLES FOUND]\n",
            "   year Number of Related News\n",
            "0  2017                      7\n",
            "1  2018                     75\n",
            "2  2019                     52\n",
            "3  2020                     24\n",
            "4  2021                     26\n",
            "5  2022                      9\n"
          ]
        }
      ],
      "source": [
        "print(slovakia2teraz(\"gdpr\"))"
      ]
    },
    {
      "cell_type": "markdown",
      "source": [
        "#### 3) AKTUALITY.SK"
      ],
      "metadata": {
        "id": "5wNtpSbKMWq-"
      }
    },
    {
      "cell_type": "code",
      "execution_count": null,
      "metadata": {
        "id": "HTwBuFeHLErG"
      },
      "outputs": [],
      "source": [
        "@scrap_data(params={'iprocess': 42, 'url': 'https://www.aktuality.sk/vyhladavanie/{ipage}/?search%5Btext%5D={keyword}&search%5Bzdroj%5D=spravy', 'pagination': list(range(1,21))})\n",
        "def slovakia3aktuality(soup, ipage, news_links, dates):\n",
        "    found = True\n",
        "    b = soup.find_all('li', class_=\"article-item list-item\")\n",
        "    if len(b) == 0: found = False\n",
        "    else: print(f\"[PAGE NO : {ipage}] [ARTICLES FOUND: {len(b)}]\")\n",
        "    for i in b:\n",
        "        news_links.append(\"\"+i.find(\"a\").get(\"href\"))\n",
        "        dates.append(\" \".join(i.find(\"span\", class_=\"article-time\").text.split(' ')[0].split()))\n",
        "    return news_links, dates, found"
      ]
    },
    {
      "cell_type": "code",
      "execution_count": null,
      "metadata": {
        "id": "YitC9xcmLErG"
      },
      "outputs": [],
      "source": [
        "print(slovakia3aktuality('gdpr'))"
      ]
    },
    {
      "cell_type": "markdown",
      "source": [
        "---\n",
        "\n",
        "# OUTPUT \n",
        "\n",
        "---"
      ],
      "metadata": {
        "id": "Ct29-JMnMalz"
      }
    },
    {
      "cell_type": "markdown",
      "metadata": {
        "id": "i2DTNXNFAKJ4"
      },
      "source": [
        "Each time, one will run the function for a certain country, it will output two excel files for each keyword:\n",
        "\n",
        "- number of news articles found for each keyword per year (2017-2022),\n",
        "- links of news articles found with date (for cross-checks).\n",
        "\n",
        "Naming conventions for the files that you will find in the folder 'results' > country_name > keywordX, keywordY, etc.:\n",
        "\n",
        "country + news site: links for cross-checking\n",
        "\n",
        "\"keyword\" + country + news site: statistics\n"
      ]
    }
  ],
  "metadata": {
    "colab": {
      "collapsed_sections": [],
      "name": "keyword_scraper.ipynb",
      "provenance": [],
      "include_colab_link": true
    },
    "interpreter": {
      "hash": "05b68caa059241f19d4d9e71196d54d6acb07590019854b9cb64c25a94c7e7f6"
    },
    "kernelspec": {
      "display_name": "Python 3.9.0 ('scrapper')",
      "language": "python",
      "name": "python3"
    },
    "language_info": {
      "codemirror_mode": {
        "name": "ipython",
        "version": 3
      },
      "file_extension": ".py",
      "mimetype": "text/x-python",
      "name": "python",
      "nbconvert_exporter": "python",
      "pygments_lexer": "ipython3",
      "version": "3.9.12"
    }
  },
  "nbformat": 4,
  "nbformat_minor": 0
}