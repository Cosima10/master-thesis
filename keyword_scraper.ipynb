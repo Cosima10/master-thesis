{
  "cells": [
    {
      "cell_type": "markdown",
      "metadata": {
        "id": "view-in-github",
        "colab_type": "text"
      },
      "source": [
        "<a href=\"https://colab.research.google.com/github/Cosima10/master-thesis/blob/main/keyword_scraper.ipynb\" target=\"_parent\"><img src=\"https://colab.research.google.com/assets/colab-badge.svg\" alt=\"Open In Colab\"/></a>"
      ]
    },
    {
      "cell_type": "markdown",
      "metadata": {
        "id": "6DP2WSlNRmqw"
      },
      "source": [
        "---\n",
        "\n",
        "## Preparation\n",
        "\n",
        "---\n"
      ]
    },
    {
      "cell_type": "markdown",
      "metadata": {
        "id": "xX4VBFjyLEq4"
      },
      "source": [
        "#### <span style=\"color:pink\"> USE THIS MODULE IF YOU ARE RUNNING IT IN GOOGLE COLAB </span>"
      ]
    },
    {
      "cell_type": "code",
      "execution_count": null,
      "metadata": {
        "colab": {
          "base_uri": "https://localhost:8080/"
        },
        "id": "LatzIlSM-6vg",
        "outputId": "fdb04d9b-dc35-489e-ffb6-67fc807e3ad9"
      },
      "outputs": [
        {
          "output_type": "stream",
          "name": "stdout",
          "text": [
            "Mounted at /content/drive\n"
          ]
        }
      ],
      "source": [
        "from google.colab import drive\n",
        "drive.mount('/content/drive')"
      ]
    },
    {
      "cell_type": "code",
      "execution_count": null,
      "metadata": {
        "colab": {
          "base_uri": "https://localhost:8080/"
        },
        "id": "YmjYjDb1_yAr",
        "outputId": "ee49ac3c-50a0-4086-b4dc-8e135efe8783"
      },
      "outputs": [
        {
          "output_type": "stream",
          "name": "stdout",
          "text": [
            "Looking in indexes: https://pypi.org/simple, https://us-python.pkg.dev/colab-wheels/public/simple/\n",
            "Collecting selenium\n",
            "  Downloading selenium-4.2.0-py3-none-any.whl (983 kB)\n",
            "\u001b[K     |████████████████████████████████| 983 kB 24.5 MB/s \n",
            "\u001b[?25hCollecting urllib3[secure,socks]~=1.26\n",
            "  Downloading urllib3-1.26.9-py2.py3-none-any.whl (138 kB)\n",
            "\u001b[K     |████████████████████████████████| 138 kB 56.4 MB/s \n",
            "\u001b[?25hCollecting trio-websocket~=0.9\n",
            "  Downloading trio_websocket-0.9.2-py3-none-any.whl (16 kB)\n",
            "Collecting trio~=0.17\n",
            "  Downloading trio-0.21.0-py3-none-any.whl (358 kB)\n",
            "\u001b[K     |████████████████████████████████| 358 kB 58.5 MB/s \n",
            "\u001b[?25hRequirement already satisfied: idna in /usr/local/lib/python3.7/dist-packages (from trio~=0.17->selenium) (2.10)\n",
            "Requirement already satisfied: sortedcontainers in /usr/local/lib/python3.7/dist-packages (from trio~=0.17->selenium) (2.4.0)\n",
            "Requirement already satisfied: attrs>=19.2.0 in /usr/local/lib/python3.7/dist-packages (from trio~=0.17->selenium) (21.4.0)\n",
            "Collecting async-generator>=1.9\n",
            "  Downloading async_generator-1.10-py3-none-any.whl (18 kB)\n",
            "Collecting outcome\n",
            "  Downloading outcome-1.1.0-py2.py3-none-any.whl (9.7 kB)\n",
            "Collecting sniffio\n",
            "  Downloading sniffio-1.2.0-py3-none-any.whl (10 kB)\n",
            "Collecting wsproto>=0.14\n",
            "  Downloading wsproto-1.1.0-py3-none-any.whl (24 kB)\n",
            "Requirement already satisfied: PySocks!=1.5.7,<2.0,>=1.5.6 in /usr/local/lib/python3.7/dist-packages (from urllib3[secure,socks]~=1.26->selenium) (1.7.1)\n",
            "Collecting cryptography>=1.3.4\n",
            "  Downloading cryptography-37.0.2-cp36-abi3-manylinux_2_24_x86_64.whl (4.0 MB)\n",
            "\u001b[K     |████████████████████████████████| 4.0 MB 47.5 MB/s \n",
            "\u001b[?25hRequirement already satisfied: certifi in /usr/local/lib/python3.7/dist-packages (from urllib3[secure,socks]~=1.26->selenium) (2022.5.18.1)\n",
            "Collecting pyOpenSSL>=0.14\n",
            "  Downloading pyOpenSSL-22.0.0-py2.py3-none-any.whl (55 kB)\n",
            "\u001b[K     |████████████████████████████████| 55 kB 5.0 MB/s \n",
            "\u001b[?25hRequirement already satisfied: cffi>=1.12 in /usr/local/lib/python3.7/dist-packages (from cryptography>=1.3.4->urllib3[secure,socks]~=1.26->selenium) (1.15.0)\n",
            "Requirement already satisfied: pycparser in /usr/local/lib/python3.7/dist-packages (from cffi>=1.12->cryptography>=1.3.4->urllib3[secure,socks]~=1.26->selenium) (2.21)\n",
            "Collecting h11<1,>=0.9.0\n",
            "  Downloading h11-0.13.0-py3-none-any.whl (58 kB)\n",
            "\u001b[K     |████████████████████████████████| 58 kB 7.1 MB/s \n",
            "\u001b[?25hRequirement already satisfied: typing-extensions in /usr/local/lib/python3.7/dist-packages (from h11<1,>=0.9.0->wsproto>=0.14->trio-websocket~=0.9->selenium) (4.2.0)\n",
            "Installing collected packages: sniffio, outcome, h11, cryptography, async-generator, wsproto, urllib3, trio, pyOpenSSL, trio-websocket, selenium\n",
            "  Attempting uninstall: urllib3\n",
            "    Found existing installation: urllib3 1.24.3\n",
            "    Uninstalling urllib3-1.24.3:\n",
            "      Successfully uninstalled urllib3-1.24.3\n",
            "\u001b[31mERROR: pip's dependency resolver does not currently take into account all the packages that are installed. This behaviour is the source of the following dependency conflicts.\n",
            "requests 2.23.0 requires urllib3!=1.25.0,!=1.25.1,<1.26,>=1.21.1, but you have urllib3 1.26.9 which is incompatible.\n",
            "datascience 0.10.6 requires folium==0.2.1, but you have folium 0.8.3 which is incompatible.\u001b[0m\n",
            "Successfully installed async-generator-1.10 cryptography-37.0.2 h11-0.13.0 outcome-1.1.0 pyOpenSSL-22.0.0 selenium-4.2.0 sniffio-1.2.0 trio-0.21.0 trio-websocket-0.9.2 urllib3-1.26.9 wsproto-1.1.0\n",
            "\u001b[31mERROR: Invalid requirement: 'selenium,'\u001b[0m\n",
            "Get:1 https://cloud.r-project.org/bin/linux/ubuntu bionic-cran40/ InRelease [3,626 B]\n",
            "Get:2 https://developer.download.nvidia.com/compute/cuda/repos/ubuntu1804/x86_64  InRelease [1,581 B]\n",
            "Get:3 http://security.ubuntu.com/ubuntu bionic-security InRelease [88.7 kB]\n",
            "Hit:4 http://archive.ubuntu.com/ubuntu bionic InRelease\n",
            "Get:5 http://ppa.launchpad.net/c2d4u.team/c2d4u4.0+/ubuntu bionic InRelease [15.9 kB]\n",
            "Ign:6 https://developer.download.nvidia.com/compute/machine-learning/repos/ubuntu1804/x86_64  InRelease\n",
            "Hit:7 https://developer.download.nvidia.com/compute/machine-learning/repos/ubuntu1804/x86_64  Release\n",
            "Get:8 http://archive.ubuntu.com/ubuntu bionic-updates InRelease [88.7 kB]\n",
            "Hit:9 http://ppa.launchpad.net/cran/libgit2/ubuntu bionic InRelease\n",
            "Get:10 http://archive.ubuntu.com/ubuntu bionic-backports InRelease [74.6 kB]\n",
            "Get:11 https://developer.download.nvidia.com/compute/cuda/repos/ubuntu1804/x86_64  Packages [806 kB]\n",
            "Get:12 http://ppa.launchpad.net/deadsnakes/ppa/ubuntu bionic InRelease [15.9 kB]\n",
            "Get:13 http://ppa.launchpad.net/graphics-drivers/ppa/ubuntu bionic InRelease [21.3 kB]\n",
            "Get:15 http://ppa.launchpad.net/c2d4u.team/c2d4u4.0+/ubuntu bionic/main Sources [1,992 kB]\n",
            "Get:16 http://security.ubuntu.com/ubuntu bionic-security/restricted amd64 Packages [982 kB]\n",
            "Get:17 http://security.ubuntu.com/ubuntu bionic-security/main amd64 Packages [2,830 kB]\n",
            "Get:18 http://security.ubuntu.com/ubuntu bionic-security/universe amd64 Packages [1,515 kB]\n",
            "Get:19 http://ppa.launchpad.net/c2d4u.team/c2d4u4.0+/ubuntu bionic/main amd64 Packages [1,021 kB]\n",
            "Get:20 http://archive.ubuntu.com/ubuntu bionic-updates/restricted amd64 Packages [1,015 kB]\n",
            "Get:21 http://archive.ubuntu.com/ubuntu bionic-updates/main amd64 Packages [3,262 kB]\n",
            "Get:22 http://archive.ubuntu.com/ubuntu bionic-updates/universe amd64 Packages [2,290 kB]\n",
            "Get:23 http://ppa.launchpad.net/deadsnakes/ppa/ubuntu bionic/main amd64 Packages [45.3 kB]\n",
            "Get:24 http://ppa.launchpad.net/graphics-drivers/ppa/ubuntu bionic/main amd64 Packages [47.7 kB]\n",
            "Fetched 16.1 MB in 4s (4,598 kB/s)\n",
            "Reading package lists... Done\n",
            "Reading package lists... Done\n",
            "Building dependency tree       \n",
            "Reading state information... Done\n",
            "The following package was automatically installed and is no longer required:\n",
            "  libnvidia-common-460\n",
            "Use 'apt autoremove' to remove it.\n",
            "The following additional packages will be installed:\n",
            "  chromium-browser chromium-browser-l10n chromium-codecs-ffmpeg-extra\n",
            "Suggested packages:\n",
            "  webaccounts-chromium-extension unity-chromium-extension\n",
            "The following NEW packages will be installed:\n",
            "  chromium-browser chromium-browser-l10n chromium-chromedriver\n",
            "  chromium-codecs-ffmpeg-extra\n",
            "0 upgraded, 4 newly installed, 0 to remove and 87 not upgraded.\n",
            "Need to get 89.8 MB of archives.\n",
            "After this operation, 302 MB of additional disk space will be used.\n",
            "Get:1 http://archive.ubuntu.com/ubuntu bionic-updates/universe amd64 chromium-codecs-ffmpeg-extra amd64 101.0.4951.64-0ubuntu0.18.04.1 [1,142 kB]\n",
            "Get:2 http://archive.ubuntu.com/ubuntu bionic-updates/universe amd64 chromium-browser amd64 101.0.4951.64-0ubuntu0.18.04.1 [78.5 MB]\n",
            "Get:3 http://archive.ubuntu.com/ubuntu bionic-updates/universe amd64 chromium-browser-l10n all 101.0.4951.64-0ubuntu0.18.04.1 [4,980 kB]\n",
            "Get:4 http://archive.ubuntu.com/ubuntu bionic-updates/universe amd64 chromium-chromedriver amd64 101.0.4951.64-0ubuntu0.18.04.1 [5,153 kB]\n",
            "Fetched 89.8 MB in 2s (51.6 MB/s)\n",
            "Selecting previously unselected package chromium-codecs-ffmpeg-extra.\n",
            "(Reading database ... 155632 files and directories currently installed.)\n",
            "Preparing to unpack .../chromium-codecs-ffmpeg-extra_101.0.4951.64-0ubuntu0.18.04.1_amd64.deb ...\n",
            "Unpacking chromium-codecs-ffmpeg-extra (101.0.4951.64-0ubuntu0.18.04.1) ...\n",
            "Selecting previously unselected package chromium-browser.\n",
            "Preparing to unpack .../chromium-browser_101.0.4951.64-0ubuntu0.18.04.1_amd64.deb ...\n",
            "Unpacking chromium-browser (101.0.4951.64-0ubuntu0.18.04.1) ...\n",
            "Selecting previously unselected package chromium-browser-l10n.\n",
            "Preparing to unpack .../chromium-browser-l10n_101.0.4951.64-0ubuntu0.18.04.1_all.deb ...\n",
            "Unpacking chromium-browser-l10n (101.0.4951.64-0ubuntu0.18.04.1) ...\n",
            "Selecting previously unselected package chromium-chromedriver.\n",
            "Preparing to unpack .../chromium-chromedriver_101.0.4951.64-0ubuntu0.18.04.1_amd64.deb ...\n",
            "Unpacking chromium-chromedriver (101.0.4951.64-0ubuntu0.18.04.1) ...\n",
            "Setting up chromium-codecs-ffmpeg-extra (101.0.4951.64-0ubuntu0.18.04.1) ...\n",
            "Setting up chromium-browser (101.0.4951.64-0ubuntu0.18.04.1) ...\n",
            "update-alternatives: using /usr/bin/chromium-browser to provide /usr/bin/x-www-browser (x-www-browser) in auto mode\n",
            "update-alternatives: using /usr/bin/chromium-browser to provide /usr/bin/gnome-www-browser (gnome-www-browser) in auto mode\n",
            "Setting up chromium-chromedriver (101.0.4951.64-0ubuntu0.18.04.1) ...\n",
            "Setting up chromium-browser-l10n (101.0.4951.64-0ubuntu0.18.04.1) ...\n",
            "Processing triggers for man-db (2.8.3-2ubuntu0.1) ...\n",
            "Processing triggers for hicolor-icon-theme (0.17-2) ...\n",
            "Processing triggers for mime-support (3.60ubuntu1) ...\n",
            "Processing triggers for libc-bin (2.27-3ubuntu1.3) ...\n",
            "/sbin/ldconfig.real: /usr/local/lib/python3.7/dist-packages/ideep4py/lib/libmkldnn.so.0 is not a symbolic link\n",
            "\n",
            "cp: target 'usr/bin' is not a directory\n"
          ]
        },
        {
          "output_type": "stream",
          "name": "stderr",
          "text": [
            "/usr/local/lib/python3.7/dist-packages/ipykernel_launcher.py:17: DeprecationWarning: use options instead of chrome_options\n"
          ]
        }
      ],
      "source": [
        "import time\n",
        "!pip install selenium\n",
        "from selenium import webdriver\n",
        "import sys\n",
        "import numpy as np\n",
        "from bs4 import BeautifulSoup\n",
        "import pandas as pd\n",
        "! pip install selenium, webdriver_manager\n",
        "! apt-get update\n",
        "! apt install chromium-chromedriver\n",
        "! cp / usr/lib/chromium-browser/chromedriver / usr/bin\n",
        "sys.path.insert(0, '/usr/lib/chromium-browser/chromedriver')\n",
        "chrome_options = webdriver.ChromeOptions()\n",
        "chrome_options.add_argument('--headless')\n",
        "chrome_options.add_argument('--no-sandbox')\n",
        "chrome_options.add_argument('--disable-dev-shm-usage')\n",
        "wd = webdriver.Chrome('chromedriver', chrome_options=chrome_options)\n",
        "driver = wd\n",
        "import os\n",
        "import re\n",
        "\n",
        "path_source = \"/content/drive/MyDrive/scraper/df link.xlsx\"\n",
        "path_output = \"/content/drive/MyDrive/results/\"\n",
        "if not os.path.exists(path_output):\n",
        "    os.makedirs(path_output)"
      ]
    },
    {
      "cell_type": "markdown",
      "metadata": {
        "id": "6jmM5cwSLEq6"
      },
      "source": [
        "#### <span style=\"color:pink\"> USE THIS MODULE IF YOU ARE RUNNING IT ON YOUR LOCAL MACHINE </span>"
      ]
    },
    {
      "cell_type": "code",
      "execution_count": null,
      "metadata": {
        "id": "v2hf6RoiLEq7"
      },
      "outputs": [],
      "source": [
        "# !pip install selenium, webdriver_manager, numpy, pandas\n",
        "# import time\n",
        "# import numpy as np\n",
        "# from bs4 import BeautifulSoup\n",
        "# import pandas as pd\n",
        "# import sys\n",
        "# from selenium import webdriver\n",
        "# from webdriver_manager.chrome import ChromeDriverManager\n",
        "# import os\n",
        "# chrome_options = webdriver.ChromeOptions()\n",
        "# chrome_options.add_argument('--headless')\n",
        "# chrome_options.add_argument('--no-sandbox')\n",
        "# chrome_options.add_argument('--disable-dev-shm-usage')\n",
        "# wd = webdriver.Chrome(ChromeDriverManager().install(), options=chrome_options)\n",
        "# driver = wd\n",
        "# cwd = os.getcwd()\n",
        "# cwd\n",
        "\n",
        "# path_source = cwd+\"/df link.xlsx\"\n",
        "# path_output = cwd+\"/result/\"\n",
        "# if not os.path.exists(path_output):\n",
        "#     os.makedirs(path_output)\n"
      ]
    },
    {
      "cell_type": "markdown",
      "source": [
        "---\n",
        "\n",
        "# SCRAPER\n",
        "\n",
        "---"
      ],
      "metadata": {
        "id": "QPCXqcQUKYWI"
      }
    },
    {
      "cell_type": "code",
      "execution_count": null,
      "metadata": {
        "id": "3hs8sLae-ASO"
      },
      "outputs": [],
      "source": [
        "# initialising string\n",
        "\n",
        "def hapusspecialcharacter(ini_string):\n",
        "    getVals = list([val for val in ini_string\n",
        "                    if val.isalpha() or val.isnumeric() or val == \" \"])\n",
        "    result = \"\".join(getVals)\n",
        "    return result\n",
        "\n",
        "\n",
        "def unique(list1):\n",
        "    unique_list = []\n",
        "    for x in list1:\n",
        "        if x not in unique_list:\n",
        "            unique_list.append(x)\n",
        "    return(unique_list)\n",
        "\n",
        "\n",
        "def years_check(year, df):\n",
        "    number_of_news_in_year = len(df[df['date'].str.contains(str(year))])\n",
        "    return number_of_news_in_year\n",
        "\n",
        "df_link = pd.read_excel(path_source)"
      ]
    },
    {
      "cell_type": "code",
      "execution_count": null,
      "metadata": {
        "id": "mbhXFCMoDfhl"
      },
      "outputs": [],
      "source": [
        "# create output folders and files \n",
        "\n",
        "def createExcelFiles(iprocess, kamus, keyword):\n",
        "    if not os.path.exists(f\"{path_output}/{df_link['country'][iprocess]}\"):\n",
        "        os.makedirs(f\"{path_output}/{df_link['country'][iprocess]}\")\n",
        "\n",
        "    results_path = f\"{path_output}/{df_link['country'][iprocess]}/\"\n",
        "    \n",
        "    df = pd.DataFrame(kamus).astype(str)\n",
        "    file_name = f\"{results_path}Links {df_link['country'][iprocess]} {df_link['number'][iprocess]} {df_link['link'][iprocess].split('/')[2].replace('.','_')}.xlsx\"\n",
        "    # if file exist\n",
        "    if os.path.exists(file_name):   mode = 'a'\n",
        "    else: mode = 'w'\n",
        "    with pd.ExcelWriter(file_name, mode=mode, engine=\"openpyxl\") as writer:\n",
        "        df.to_excel(writer, sheet_name=keyword, index=False)\n",
        "\n",
        "    yearList = []\n",
        "    counterList = []\n",
        "    for i in range(2023)[-6:]:\n",
        "        yearList.append(i)\n",
        "        counterList.append(years_check(i, df))\n",
        "\n",
        "    file_nameCek = f\"{results_path}Stats {df_link['country'][iprocess]} {df_link['number'][iprocess]} {df_link['link'][iprocess].split('/')[2].replace('.','_')}.xlsx\"\n",
        "    kamusCek = {\"year\": yearList, \"Number of Related News\": counterList}\n",
        "    dfCek = pd.DataFrame(kamusCek).astype(str)\n",
        "    if os.path.exists(file_nameCek):   mode = 'a'\n",
        "    else: mode = 'w'\n",
        "    with pd.ExcelWriter(file_nameCek, mode=mode, engine=\"openpyxl\") as writer:\n",
        "        dfCek.to_excel(writer, sheet_name=keyword, index=False)\n",
        "    return dfCek"
      ]
    },
    {
      "cell_type": "markdown",
      "metadata": {
        "id": "W6J3d8G4LEq9"
      },
      "source": [
        "---\n",
        "\n",
        "## DECORATOR\n",
        "replacing the common part of each scraper and therewith reducing redundancy\n",
        "\n",
        "---"
      ]
    },
    {
      "cell_type": "code",
      "execution_count": null,
      "metadata": {
        "id": "FvjbSEHdLEq9"
      },
      "outputs": [],
      "source": [
        "def scrap_data(params):\n",
        "    def scrap_decorator(fn):\n",
        "        tick = time.time()\n",
        "        iprocess = params.get('iprocess')\n",
        "        url = params.get('url')\n",
        "        pagination = params.get('pagination')\n",
        "\n",
        "        def wrapper(*args, **kwargs):\n",
        "            keyword = args[0] if args else kwargs.get('keyword', None)\n",
        "            news_links = []\n",
        "            dates = []\n",
        "            for ipage in pagination:\n",
        "                wd.get(url.format(keyword=keyword, ipage=ipage))  # link with search query\n",
        "                content = driver.page_source.encode('utf-8').strip()\n",
        "                soup = BeautifulSoup(content)\n",
        "                news_links, dates, found = fn(soup, ipage, news_links, dates)\n",
        "                if not found:\n",
        "                    print(f\"[PAGE NO : {ipage}] [NO MORE ARTICLES FOUND]\")\n",
        "                    break\n",
        "                \n",
        "            kamus = {\"news link\": news_links, \"date\": dates}\n",
        "            print(f'[Website: {url.split(\"/\")[2]}] [Keyword: {keyword}] [Time Taken: {round(time.time() - tick, 2)} sec]')\n",
        "            return createExcelFiles(iprocess, kamus, keyword)\n",
        "\n",
        "        return wrapper\n",
        "    return scrap_decorator"
      ]
    },
    {
      "cell_type": "markdown",
      "metadata": {
        "id": "hVujCXi2LEq-"
      },
      "source": [
        "---\n",
        "\n",
        "# GERMANY\n",
        "\n",
        "---"
      ]
    },
    {
      "cell_type": "markdown",
      "metadata": {
        "id": "qJewdJNwLEq-"
      },
      "source": [
        "#### 1) NTV"
      ]
    },
    {
      "cell_type": "code",
      "execution_count": null,
      "metadata": {
        "id": "uAiITkCSLEq-"
      },
      "outputs": [],
      "source": [
        "@scrap_data(params={'iprocess': 7, 'url': 'https://www.ntv.de/suche/?q={keyword}&at=all&page={ipage}', 'pagination': list(range(1,21))})\n",
        "def germany1ntv(soup, ipage, news_links, dates):\n",
        "    found = True\n",
        "    b = soup.find('div', class_='search__results').find_all(\"article\")\n",
        "    if len(b) == 0: found = False\n",
        "    else: print(f\"[PAGE NO : {ipage}] [ARTICLES FOUND: {len(b)}]\")\n",
        "    for i in b:\n",
        "        link = i.find(\"a\")\n",
        "        if link:\n",
        "            news_links.append(\"\"+i.find(\"a\").get(\"href\"))\n",
        "            dates.append(\" \".join(i.find(\"span\", \"teaser__date\").text.split()))\n",
        "    return news_links, dates, found"
      ]
    },
    {
      "cell_type": "code",
      "execution_count": null,
      "metadata": {
        "colab": {
          "base_uri": "https://localhost:8080/"
        },
        "id": "9xRUJiyuLEq-",
        "outputId": "cc9e0751-2a6c-449b-fd83-b1927063e588"
      },
      "outputs": [
        {
          "output_type": "stream",
          "name": "stdout",
          "text": [
            "[PAGE NO : 1] [ARTICLES FOUND: 20]\n",
            "[PAGE NO : 2] [ARTICLES FOUND: 20]\n",
            "[PAGE NO : 3] [ARTICLES FOUND: 20]\n",
            "[PAGE NO : 4] [ARTICLES FOUND: 20]\n",
            "[PAGE NO : 5] [ARTICLES FOUND: 20]\n",
            "[PAGE NO : 6] [ARTICLES FOUND: 20]\n",
            "[PAGE NO : 7] [ARTICLES FOUND: 20]\n",
            "[PAGE NO : 8] [ARTICLES FOUND: 20]\n",
            "[PAGE NO : 9] [ARTICLES FOUND: 14]\n",
            "[PAGE NO : 10] [NO MORE ARTICLES FOUND]\n",
            "   year Number of Related News\n",
            "0  2017                      3\n",
            "1  2018                     91\n",
            "2  2019                     34\n",
            "3  2020                     15\n",
            "4  2021                     23\n",
            "5  2022                      7\n"
          ]
        }
      ],
      "source": [
        "#TEST \n",
        "#print(germany1ntv(\"dsgvo\"))"
      ]
    },
    {
      "cell_type": "markdown",
      "metadata": {
        "id": "vY-U2g2ULEq_"
      },
      "source": [
        "#### 2) Deutsche Welle"
      ]
    },
    {
      "cell_type": "code",
      "execution_count": null,
      "metadata": {
        "id": "3ythOlN_LEq_"
      },
      "outputs": [],
      "source": [
        "@scrap_data(params={'iprocess': 9, 'url': 'https://www.dw.com/search/?languageCode=en&item={keyword}&searchNavigationId=9097&sort=DATE&resultsCounter=10000', 'pagination': list(range(1,21))})\n",
        "def germany2dw(soup, ipage, news_links, dates):\n",
        "    found = True\n",
        "    b = soup.find_all(\"div\", \"searchResult\")\n",
        "    if len(b) == 0: found = False\n",
        "    else: print(f\"[PAGE NO : {ipage}] [ARTICLES FOUND: {len(b)}]\")\n",
        "    for i in b:\n",
        "        link = i.find(\"a\")\n",
        "        if link:\n",
        "            news_links.append(\"\"+i.find(\"a\").get(\"href\"))\n",
        "            dates.append(\" \".join(i.find(\"span\", \"date\").text.split()))\n",
        "    return news_links, dates, found"
      ]
    },
    {
      "cell_type": "markdown",
      "metadata": {
        "id": "iVOALH_SLEq_"
      },
      "source": [
        "#### 3) Frankfurter Allgemeine Zeitung"
      ]
    },
    {
      "cell_type": "code",
      "execution_count": null,
      "metadata": {
        "id": "gsYf6VugLEq_"
      },
      "outputs": [],
      "source": [
        "@scrap_data(params={'iprocess': 10, 'url': 'https://www.faz.net/suche/s{ipage}.html?ct=article&ct=audio&ct=blog&ct=gallery&ct=infografik&ct=storytelling&ct=video&&query={keyword}#listPagination', 'pagination': list(range(1,21))})\n",
        "def germany3faz(soup, ipage, news_links, dates):\n",
        "    found = True\n",
        "    b = soup.find_all(\"li\", \"lst-Teaser_Item\")\n",
        "    if len(b) == 0: found = False\n",
        "    else: print(f\"[PAGE NO : {ipage}] [ARTICLES FOUND: {len(b)}]\")\n",
        "    for i in b:\n",
        "        link = i.find(\"a\")\n",
        "        if link:\n",
        "            news_links.append(\"\"+i.find(\"a\").get(\"href\"))\n",
        "            dates.append(\" \".join(i.find(\"time\").text.split()))\n",
        "    return news_links, dates, found"
      ]
    },
    {
      "cell_type": "markdown",
      "metadata": {
        "id": "h1qy8np-LErA"
      },
      "source": [
        "---\n",
        "\n",
        "# DENMARK\n",
        "\n",
        "---"
      ]
    },
    {
      "cell_type": "markdown",
      "metadata": {
        "id": "4vv9LTQQLErA"
      },
      "source": [
        "#### 1) INFORMATION.DK"
      ]
    },
    {
      "cell_type": "code",
      "execution_count": null,
      "metadata": {
        "id": "UH67LvcoLErA"
      },
      "outputs": [],
      "source": [
        "@scrap_data(params={'iprocess': 0, 'url': 'https://www.information.dk/search/site/{keyword}?page={ipage}', 'pagination': list(range(1,21))})\n",
        "def denmark1information(soup, ipage, news_links, dates):\n",
        "    found = True\n",
        "    b = soup.find_all(\"div\", {\"typeof\": \"sioc:Item foaf:Document\"})\n",
        "    if len(b) == 0: found = False\n",
        "    else: print(f\"[PAGE NO : {ipage}] [ARTICLES FOUND: {len(b)}]\")\n",
        "    for i in b:\n",
        "        link = i.find(\"a\")\n",
        "        if link:\n",
        "            news_links.append(\"https://www.information.dk\"+i.find(\"a\").get(\"href\"))\n",
        "            dates.append(\" \".join(i.find(\"li\", \"date first\").text.split()))\n",
        "    return news_links, dates, found"
      ]
    },
    {
      "cell_type": "markdown",
      "metadata": {
        "id": "USDXvOpZLErA"
      },
      "source": [
        "#### 2) POLITIKEN.DK"
      ]
    },
    {
      "cell_type": "code",
      "execution_count": null,
      "metadata": {
        "id": "bgwTGazHLErA"
      },
      "outputs": [],
      "source": [
        "@scrap_data(params={'iprocess': 1, 'url': 'https://politiken.dk/search/?q={keyword}&target=pol&sort=pd&page={ipage}', 'pagination': list(range(1,21))})\n",
        "def denmark2politiken(soup, ipage, news_links, dates):\n",
        "    found = True\n",
        "    b = soup.find_all(\"div\", \"search-result__article u-padding--vertical-normal\")\n",
        "    if len(b) == 0: found = False\n",
        "    else: print(f\"[PAGE NO : {ipage}] [ARTICLES FOUND: {len(b)}]\")\n",
        "    for i in b:\n",
        "        link = i.find(\"a\")\n",
        "        if link:\n",
        "            news_links.append(\"https://politiken.dk/\"+i.find(\"a\").get(\"href\"))\n",
        "            dates.append(\" \".join(i.find(\"time\").text.split()))\n",
        "    return news_links, dates, found"
      ]
    },
    {
      "cell_type": "markdown",
      "metadata": {
        "id": "vfelc1fiLErA"
      },
      "source": [
        "#### 3) BERLINGSKE.DK"
      ]
    },
    {
      "cell_type": "code",
      "execution_count": null,
      "metadata": {
        "id": "Z5GmQh2qLErB"
      },
      "outputs": [],
      "source": [
        "@scrap_data(params={'iprocess': 4, 'url': 'https://www.berlingske.dk/search?query={keyword}&limit=10&offset={ipage}0', 'pagination': list(range(1,21))})\n",
        "def denmark3berlingske(soup, ipage, news_links, dates):\n",
        "    found = True\n",
        "    b = soup.find_all(\"div\", \"teaser__description align-self-top w-100\")\n",
        "    if len(b) == 0: found = False\n",
        "    else: print(f\"[PAGE NO : {ipage}] [ARTICLES FOUND: {len(b)}]\")\n",
        "    for i in b:\n",
        "        link = i.find(\"a\")\n",
        "        if link:\n",
        "            news_links.append(\"https://www.berlingske.dk/\"+i.find(\"a\").get(\"href\"))\n",
        "            dates.append(\" \".join(i.find(\"div\",\"teaser__date\").text.split()))\n",
        "    return news_links, dates, found"
      ]
    },
    {
      "cell_type": "markdown",
      "metadata": {
        "id": "yet7Xff2LErB"
      },
      "source": [
        "#### 4) JV.DK"
      ]
    },
    {
      "cell_type": "code",
      "execution_count": null,
      "metadata": {
        "id": "nKCOWlsCLErB"
      },
      "outputs": [],
      "source": [
        "@scrap_data(params={'iprocess': 2, 'url': 'https://jv.dk/soeg?keywords={keyword}&limit=10&offset={ipage}0', 'pagination': list(range(1,21))})\n",
        "def denmark4jv(soup, ipage, news_links, dates):\n",
        "    found = True\n",
        "    b = soup.find('div', class_='page-block').find_all(\"article\")\n",
        "    if len(b) == 0: found = False\n",
        "    else: print(f\"[PAGE NO : {ipage}] [ARTICLES FOUND: {len(b)}]\")\n",
        "    for i in b:\n",
        "        link = i.find(\"a\")\n",
        "        if link:\n",
        "            news_links.append(\"https://jv.dk/\"+i.find(\"a\").get(\"href\"))\n",
        "            dates.append(\" \".join(i.find(\"time\", \"search-result__date\").text.split()))\n",
        "    return news_links, dates, found"
      ]
    },
    {
      "cell_type": "markdown",
      "metadata": {
        "id": "u3Ry3m7YLErB"
      },
      "source": [
        "---\n",
        "\n",
        "# AUSTRIA\n",
        "\n",
        "---"
      ]
    },
    {
      "cell_type": "markdown",
      "metadata": {
        "id": "_pybEF5oLErB"
      },
      "source": [
        "#### 1) WIENER ZEITUNG"
      ]
    },
    {
      "cell_type": "code",
      "execution_count": null,
      "metadata": {
        "id": "MnZN0ZGTLErB"
      },
      "outputs": [],
      "source": [
        "@scrap_data(params={'iprocess': 23, 'url': 'https://www.wienerzeitung.at/suche/?such={keyword}&date_min=20220112&date_max=20220412&em_page={ipage}', 'pagination': list(range(1,21))})\n",
        "def austria1wienerzeitung(soup, ipage, news_links, dates):\n",
        "    found = True\n",
        "    b = soup.find_all(\"div\", \"col-12 col-md-4 em_mobile_list_layout\")\n",
        "    if len(b) == 0: found = False\n",
        "    else: print(f\"[PAGE NO : {ipage}] [ARTICLES FOUND: {len(b)}]\")\n",
        "    for i in b:\n",
        "        link = i.find(\"a\")\n",
        "        if link:\n",
        "            news_links.append(\"\"+i.find(\"a\").get(\"href\"))\n",
        "            dates.append(\" \".join(i.find(\"time\").text.split()))\n",
        "    return news_links, dates, found"
      ]
    },
    {
      "cell_type": "markdown",
      "metadata": {
        "id": "411mzmuGLErC"
      },
      "source": [
        "#### 2) KLEINE ZEITUNG"
      ]
    },
    {
      "cell_type": "code",
      "execution_count": null,
      "metadata": {
        "id": "1tj7B9csLErC"
      },
      "outputs": [],
      "source": [
        "@scrap_data(params={'iprocess': 24, 'url': 'https://www.kleinezeitung.at/user/search.do?action=1&resultsPage={ipage}&resetForm=0&type=4196%2C4193%2C4206&searchText={keyword}', 'pagination': list(range(1,21))})\n",
        "def austria2kleinezeitung(soup, ipage, news_links, dates):\n",
        "    found = True\n",
        "    b = soup.find('section', class_='article-card--search').find_all(\"article\")\n",
        "    if len(b) == 0: found = False\n",
        "    else: print(f\"[PAGE NO : {ipage}] [ARTICLES FOUND: {len(b)}]\")\n",
        "    for i in b:\n",
        "        link = i.find(\"a\")\n",
        "        if link:\n",
        "            news_links.append(\"\"+i.find(\"a\").get(\"href\"))\n",
        "        try:\n",
        "            dates.append(\" \".join(i.find(\"small\", \"article-card__date\").text.split()))\n",
        "        except: dates.append(\" \".join(\"\"))\n",
        "    return news_links, dates, found"
      ]
    },
    {
      "cell_type": "markdown",
      "metadata": {
        "id": "k45FCf0gLErC"
      },
      "source": [
        "#### 3) DIE PRESSE"
      ]
    },
    {
      "cell_type": "code",
      "execution_count": null,
      "metadata": {
        "id": "N-PFQG9ALErC"
      },
      "outputs": [],
      "source": [
        "@scrap_data(params={'iprocess': 26, 'url': 'https://www.diepresse.com/suche?s={keyword}&p={ipage}', 'pagination': list(range(1,21))})\n",
        "def austria3diepresse(soup, ipage, news_links, dates):\n",
        "    found = True\n",
        "    b = soup.find_all(\"div\", \"card__content\")\n",
        "    if len(b) == 0: found = False\n",
        "    else: print(f\"[PAGE NO : {ipage}] [ARTICLES FOUND: {len(b)}]\")\n",
        "    for i in b:\n",
        "        link = i.find(\"a\")\n",
        "        if link:\n",
        "            news_links.append(\"\"+i.find(\"a\").get(\"href\"))\n",
        "            try:    dates.append(\" \".join(i.find(\"div\", \"card__header\").get_text().split()))\n",
        "            except: dates.append(\"\")\n",
        "    return news_links, dates, found"
      ]
    },
    {
      "cell_type": "markdown",
      "metadata": {
        "id": "oeLvKYb_LErC"
      },
      "source": [
        "---\n",
        "\n",
        "# PORTUGAL\n",
        "\n",
        "---"
      ]
    },
    {
      "cell_type": "markdown",
      "metadata": {
        "id": "WBHBy46vLErC"
      },
      "source": [
        "#### 1) OBSERVADOR"
      ]
    },
    {
      "cell_type": "code",
      "execution_count": null,
      "metadata": {
        "id": "2emZA-NoLErC"
      },
      "outputs": [],
      "source": [
        "def portugal1observador(keyword):\n",
        "    news_links = []\n",
        "    dates = []\n",
        "    iprocess = 31\n",
        "    print(\"[WEBSITE: OBSERVADOR]\")\n",
        "    wd.get(f\"https://observador.pt/pesquisa/?q={keyword}\")    \n",
        "    for ipage in list(range(21))[1:]:\n",
        "        content = driver.page_source.encode('utf-8').strip()\n",
        "        soup = BeautifulSoup(content)\n",
        "        b = soup.find_all(\"div\", \"gsc-webResult gsc-result\")\n",
        "        print(f\"[PAGE NO : {ipage}] [ARTICLES FOUND: {len(b)}]\")\n",
        "        for i in b:\n",
        "            link = i.find(\"a\")\n",
        "            if link:\n",
        "                news_links.append(\"\"+i.find(\"a\").get(\"href\"))\n",
        "                try:\n",
        "                    dates.append(\" \".join(i.find(\"div\", \"gs-visibleUrl-breadcrumb\").find_all('span')[1].text.split()))\n",
        "                except:\n",
        "                    dates.append(\"\")\n",
        "                try:\n",
        "                    wd.find_element_by_xpath('//*[@id=\"___gcse_0\"]/div/div/div/div[5]/div[2]/div/div/div[2]/div/div[ipage]'.replace(\"ipage\", str(ipage))).click()\n",
        "                    time.sleep(2)\n",
        "                except:\n",
        "                    y = 0\n",
        "    kamus = {\"news link\": news_links, \"date\": dates}\n",
        "    return createExcelFiles(iprocess, kamus, keyword)\n"
      ]
    },
    {
      "cell_type": "markdown",
      "metadata": {
        "id": "B_dDLY5BLErC"
      },
      "source": [
        "#### 2) DN.PT"
      ]
    },
    {
      "cell_type": "code",
      "execution_count": null,
      "metadata": {
        "id": "yd7wb-N_LErD"
      },
      "outputs": [],
      "source": [
        "def portugal2dn(keyword):\n",
        "    news_links = []\n",
        "    dates = []\n",
        "    iprocess = 30\n",
        "    print(\"[WEBSITE: DN]\")\n",
        "    wd.get(f\"https://www.dn.pt/pesquisa.html?q={keyword}\")    \n",
        "    for ipage in list(range(21))[1:]:\n",
        "        content = driver.page_source.encode('utf-8').strip()\n",
        "        soup = BeautifulSoup(content)\n",
        "        b = soup.find_all(\"div\", \"gsc-webResult gsc-result\")\n",
        "        print(f\"[PAGE NO : {ipage}] [ARTICLES FOUND: {len(b)}]\")\n",
        "        for i in b:\n",
        "            link = i.find(\"a\")\n",
        "            if link:\n",
        "                news_links.append(\"\"+i.find(\"a\").get(\"href\"))\n",
        "                try:\n",
        "                    dates.append(\" \".join(i.find(\"div\", \"gs-bidi-start-align gs-snippet\").text.split('...')[0].split()))\n",
        "                except:\n",
        "                    dates.append(\"\")\n",
        "                try:\n",
        "                    time.sleep(1)\n",
        "                    wd.find_element_by_xpath('//*[@id=\"___gcse_0\"]/div/div/div/div[5]/div[2]/div/div/div[2]/div/div[ipage]'.replace(\"ipage\", str(ipage))).click()\n",
        "                    time.sleep(2)\n",
        "                except:\n",
        "                    y = 0\n",
        "    kamus = {\"news link\": news_links, \"date\": dates}\n",
        "    return createExcelFiles(iprocess, kamus, keyword)"
      ]
    },
    {
      "cell_type": "markdown",
      "metadata": {
        "id": "95Cw-id3LErD"
      },
      "source": [
        "#### 3) DNOTICIAS.PT"
      ]
    },
    {
      "cell_type": "code",
      "execution_count": null,
      "metadata": {
        "id": "FIxCNyYiLErD"
      },
      "outputs": [],
      "source": [
        "@scrap_data(params={'iprocess': 32, 'url': 'https://pesquisa.dnoticias.pt/elastic/results/?search={keyword}&page={ipage}', 'pagination': list(range(1,21))})\n",
        "def portugal3dnoticias(soup, ipage, news_links, dates):\n",
        "    found = True\n",
        "    b = soup.find('ul', class_='search-list-results').find_all('li')\n",
        "    if len(b) == 0: found = False\n",
        "    else: print(f\"[PAGE NO : {ipage}] [ARTICLES FOUND: {len(b)}]\")\n",
        "    for i in b:\n",
        "        link = i.find(\"a\")\n",
        "        if link:\n",
        "            news_links.append(\"\"+i.find(\"a\").get(\"href\"))\n",
        "            dates.append(\" \".join(i.find(\"span\", \"search-result-date\").text.split()))\n",
        "    return news_links, dates, found"
      ]
    },
    {
      "cell_type": "markdown",
      "metadata": {
        "id": "N2MQkzb4LErD"
      },
      "source": [
        "---\n",
        "\n",
        "# ITALY\n",
        "\n",
        "---"
      ]
    },
    {
      "cell_type": "markdown",
      "metadata": {
        "id": "Zch0E-c5LErD"
      },
      "source": [
        "#### 1) REPUBBLICA.IT"
      ]
    },
    {
      "cell_type": "code",
      "execution_count": null,
      "metadata": {
        "id": "0PwSpcV-LErD"
      },
      "outputs": [],
      "source": [
        "@scrap_data(params={'iprocess': 33, 'url': 'https://ricerca.repubblica.it/ricerca/repubblica?query={keyword}&view=repubblica&ref=HRHS&page={ipage}', 'pagination': list(range(1,21))})\n",
        "def italy1repubblica(soup, ipage, news_links, dates):\n",
        "    found = True\n",
        "    b = soup.find_all(\"article\")\n",
        "    if len(b) == 0: found = False\n",
        "    else: print(f\"[PAGE NO : {ipage}] [ARTICLES FOUND: {len(b)}]\")\n",
        "    for i in b:\n",
        "        link = i.find(\"a\")\n",
        "        if link:\n",
        "            news_links.append(\"\"+i.find(\"a\").get(\"href\"))\n",
        "            dates.append(\" \".join(i.find(\"time\").text.split()))\n",
        "    return news_links, dates, found"
      ]
    },
    {
      "cell_type": "markdown",
      "metadata": {
        "id": "bS3BOE0QLErD"
      },
      "source": [
        "#### 2) TODAY.IT"
      ]
    },
    {
      "cell_type": "code",
      "execution_count": null,
      "metadata": {
        "id": "cWPmccCcLErD"
      },
      "outputs": [],
      "source": [
        "@scrap_data(params={'iprocess': 40, 'url': 'https://www.today.it/search/query/{keyword}/pag/{ipage}', 'pagination': list(range(1,21))})\n",
        "def italy2today(soup, ipage, news_links, dates):\n",
        "    found = True\n",
        "    b = soup.find_all(\"article\")\n",
        "    if len(b) == 0: found = False\n",
        "    else: print(f\"[PAGE NO : {ipage}] [ARTICLES FOUND: {len(b)}]\")\n",
        "    for i in b:\n",
        "        link = i.find(\"a\")\n",
        "        if link:\n",
        "            news_links.append(\"\"+i.find(\"span\", class_='c-story__byline').find('a').get(\"href\"))\n",
        "            dates.append(\" \".join(i.find(\"span\", class_='c-story__byline').text.split(',')[-1].split()))\n",
        "    return news_links, dates, found"
      ]
    },
    {
      "cell_type": "markdown",
      "metadata": {
        "id": "PpadBZq8LErE"
      },
      "source": [
        "#### 3) ILPOST.IT"
      ]
    },
    {
      "cell_type": "code",
      "execution_count": null,
      "metadata": {
        "id": "VIxNc3vfLErE"
      },
      "outputs": [],
      "source": [
        "@scrap_data(params={'iprocess': 39, 'url': 'https://www.ilpost.it/search_gcse/?q={keyword}#gsc.tab=0&gsc.q={keyword}&gsc.page={ipage}', 'pagination': list(range(1,21))})\n",
        "def italy3ilpost(soup, ipage, news_links, dates):\n",
        "    found = True\n",
        "    b = soup.find_all(\"div\", class_='gsc-webResult gsc-result')\n",
        "    if len(b) == 0: found = False\n",
        "    else: print(f\"[PAGE NO : {ipage}] [ARTICLES FOUND: {len(b)}]\")\n",
        "    for i in b:\n",
        "        link = i.find(\"a\")\n",
        "        if link:\n",
        "            news_links.append(\"\"+i.find('a').get(\"href\"))\n",
        "            dates.append(\" \".join(i.find(\"div\", class_='gs-visibleUrl-breadcrumb').find_all('span')[1].text.split()))\n",
        "    return news_links, dates, found"
      ]
    },
    {
      "cell_type": "markdown",
      "metadata": {
        "id": "wKTJPISNLErE"
      },
      "source": [
        "---\n",
        "\n",
        "# BULGARIA\n",
        "\n",
        "---"
      ]
    },
    {
      "cell_type": "markdown",
      "source": [
        "#### 1) VESTI.BG"
      ],
      "metadata": {
        "id": "SZ-llpy6Lkxf"
      }
    },
    {
      "cell_type": "code",
      "execution_count": null,
      "metadata": {
        "id": "HqUHsslmLErE"
      },
      "outputs": [],
      "source": [
        "@scrap_data(params={'iprocess': 65, 'url': 'https://www.vesti.bg/tarsene?q={keyword}', 'pagination': list(range(1,2))})\n",
        "def bulgaria1vesiti(soup, ipage, news_links, dates):\n",
        "    found = True\n",
        "    b = soup.find_all(\"div\", class_=\"list-item list-item-category\")\n",
        "    if len(b) == 0: found = False\n",
        "    else: print(f\"[PAGE NO : {ipage}] [ARTICLES FOUND: {len(b)}]\")\n",
        "    for i in b:\n",
        "        link = i.find(\"a\")\n",
        "        if link:\n",
        "            news_links.append(\"\"+i.find('a').get(\"href\"))\n",
        "            dates.append(\" \".join(i.find(\"span\", class_=\"label-time\").text.split()))\n",
        "    return news_links, dates, found"
      ]
    },
    {
      "cell_type": "markdown",
      "source": [
        "#### 2) 24CHASA.BG"
      ],
      "metadata": {
        "id": "0a2Ear6mLouO"
      }
    },
    {
      "cell_type": "code",
      "execution_count": null,
      "metadata": {
        "id": "ihkXxz7WLErE"
      },
      "outputs": [],
      "source": [
        "@scrap_data(params={'iprocess': 66, 'url': 'https://www.24chasa.bg/Search?what={keyword}&page={ipage}', 'pagination': list(range(1,21))})\n",
        "def bulgaria2chasa(soup, ipage, news_links, dates):\n",
        "    found = True\n",
        "    b = soup.find_all(\"div\", class_=\"entry-short\")\n",
        "    if len(b) == 0: found = False\n",
        "    else: print(f\"[PAGE NO : {ipage}] [ARTICLES FOUND: {len(b)}]\")\n",
        "    for i in b:\n",
        "        link = i.find(\"a\")\n",
        "        if link:\n",
        "            news_links.append(\"\"+i.find('a').get(\"href\"))\n",
        "            dates.append(\" \".join(i.find(\"span\", class_=\"article-date\").text.split('|')[-1].split()))\n",
        "    return news_links, dates, found"
      ]
    },
    {
      "cell_type": "markdown",
      "source": [
        "#### 3) BLITZ.BG"
      ],
      "metadata": {
        "id": "vBuS3HqVLrq9"
      }
    },
    {
      "cell_type": "code",
      "execution_count": null,
      "metadata": {
        "id": "0pMYeTpHLErE"
      },
      "outputs": [],
      "source": [
        "@scrap_data(params={'iprocess': 67, 'url': 'https://blitz.bg/search?q={keyword}&page={ipage}', 'pagination': list(range(1,21))})\n",
        "def bulgaria3blitz(soup, ipage, news_links, dates):\n",
        "    found = True\n",
        "    b = soup.find_all(\"div\", class_=\"tech-news-content mt-0\")\n",
        "    if len(b) == 0: found = False\n",
        "    else: print(f\"[PAGE NO : {ipage}] [ARTICLES FOUND: {len(b)}]\")\n",
        "    for i in b:\n",
        "        link = i.find(\"a\")\n",
        "        if link:\n",
        "            news_links.append(\"\"+i.find('a').get(\"href\"))\n",
        "            dates.append(\" \".join(i.find_all(\"p\")[-1].find(\"span\").text.split()))\n",
        "    return news_links, dates, found"
      ]
    },
    {
      "cell_type": "markdown",
      "source": [
        "#### 4) FAKTI.BG"
      ],
      "metadata": {
        "id": "o6RGxWPrLwgb"
      }
    },
    {
      "cell_type": "code",
      "execution_count": null,
      "metadata": {
        "id": "-svftlhzLErE"
      },
      "outputs": [],
      "source": [
        "@scrap_data(params={'iprocess': 68, 'url': 'https://fakti.bg/search?q={keyword}&page={ipage}', 'pagination': list(range(1,21))})\n",
        "def bulgaria4fakti(soup, ipage, news_links, dates):\n",
        "    found = True\n",
        "    b = soup.find('section', id='main').find_all(\"li\")[:21]\n",
        "    if len(b) == 0: found = False\n",
        "    else: print(f\"[PAGE NO : {ipage}] [ARTICLES FOUND: {len(b)}]\")\n",
        "    for i in b:\n",
        "        link = i.find(\"a\")\n",
        "        if link:\n",
        "            news_links.append(\"https://fakti.bg\"+i.find(\"a\").get(\"href\"))\n",
        "            dates.append(\" \".join(i.find(\"div\", class_=\"ndtvc\").find(\"div\").text.split()))\n",
        "    return news_links, dates, found"
      ]
    },
    {
      "cell_type": "markdown",
      "metadata": {
        "id": "fZbnUfguLErE"
      },
      "source": [
        "---\n",
        "# CROATIA\n",
        "---\n"
      ]
    },
    {
      "cell_type": "markdown",
      "source": [
        "#### 1) INDEX.HR"
      ],
      "metadata": {
        "id": "KlD_xzxNL0aX"
      }
    },
    {
      "cell_type": "code",
      "execution_count": null,
      "metadata": {
        "id": "QAraJyH0LErE"
      },
      "outputs": [],
      "source": [
        "@scrap_data(params={'iprocess': 58, 'url': 'https://www.index.hr/trazi.aspx?upit={keyword}&page={ipage}', 'pagination': list(range(1,21))})\n",
        "def croatia1index(soup, ipage, news_links, dates):\n",
        "    found = True\n",
        "    b = soup.find_all('div', class_=\"grid-items-list\")\n",
        "    if len(b) == 0: found = False\n",
        "    else: print(f\"[PAGE NO : {ipage}] [ARTICLES FOUND: {len(b)}]\")\n",
        "    for i in b:\n",
        "        link = i.find(\"a\")\n",
        "        if link:\n",
        "            news_links.append(\"https://www.index.hr\"+i.find(\"a\").get(\"href\"))\n",
        "            dates.append(\" \".join(i.find(\"div\", class_=\"publish-date\").text.split()))\n",
        "    return news_links, dates, found"
      ]
    },
    {
      "cell_type": "markdown",
      "source": [
        "#### 2) TPORTAL.HR"
      ],
      "metadata": {
        "id": "3l_Kaa2xL3t0"
      }
    },
    {
      "cell_type": "code",
      "execution_count": null,
      "metadata": {
        "id": "Cis_3dazLErF"
      },
      "outputs": [],
      "source": [
        "@scrap_data(params={'iprocess': 62, 'url': 'https://www.tportal.hr/pretrazivanje?query={keyword}&page={ipage}', 'pagination': list(range(1,21))})\n",
        "def croatia2tportal(soup, ipage, news_links, dates):\n",
        "    found = True\n",
        "    b = soup.find_all('div', class_=\"articlePreviewListType10\")\n",
        "    if len(b) == 0: found = False\n",
        "    else: print(f\"[PAGE NO : {ipage}] [ARTICLES FOUND: {len(b)}]\")\n",
        "    for i in b:\n",
        "        link = i.find(\"a\")\n",
        "        if link:\n",
        "            news_links.append(\"https://www.tportal.hr\"+i.find(\"a\").get(\"href\"))\n",
        "            dates.append(\" \".join(i.find(\"h2\", class_=\"title publishedSort\").text.split()))\n",
        "    return news_links, dates, found"
      ]
    },
    {
      "cell_type": "markdown",
      "source": [
        "#### 3) DNEVNO.HR"
      ],
      "metadata": {
        "id": "dT-_RcMpL7Uq"
      }
    },
    {
      "cell_type": "code",
      "execution_count": null,
      "metadata": {
        "id": "azYw5K0ELErF"
      },
      "outputs": [],
      "source": [
        "@scrap_data(params={'iprocess': 64, 'url': 'https://www.dnevno.hr/?s={keyword}', 'pagination': list(range(1,2))})\n",
        "def croatia3dnevno(soup, ipage, news_links, dates):\n",
        "    found = True\n",
        "    b = soup.find_all('article', class_=\"post\")\n",
        "    if len(b) == 0: found = False\n",
        "    else: print(f\"[PAGE NO : {ipage}] [ARTICLES FOUND: {len(b)}]\")\n",
        "    for i in b:\n",
        "        link = i.find(\"a\")\n",
        "        if link:\n",
        "            news_links.append(\"\"+i.find(\"a\").get(\"href\"))\n",
        "            dates.append(\" \".join(i.find(\"time\", class_=\"date\").text.split()))\n",
        "    return news_links, dates, found"
      ]
    },
    {
      "cell_type": "markdown",
      "metadata": {
        "id": "_QKL0WLlLErF"
      },
      "source": [
        "---\n",
        "# Greece\n",
        "---"
      ]
    },
    {
      "cell_type": "markdown",
      "source": [
        "#### 1) PROTOTHEMA.GR"
      ],
      "metadata": {
        "id": "c1lBErdjL-WA"
      }
    },
    {
      "cell_type": "code",
      "execution_count": null,
      "metadata": {
        "id": "brEQBYOhLErF"
      },
      "outputs": [],
      "source": [
        "@scrap_data(params={'iprocess': 49, 'url': 'https://www.protothema.gr/ajax/Atcom.Sites.ProtoThema.Components.Search.Page/?pg={ipage}&q={keyword}', 'pagination': list(range(1,21))})\n",
        "def greece1protothema(soup, ipage, news_links, dates):\n",
        "    found = True\n",
        "    b = soup.find_all('div', class_=\"article\")\n",
        "    if len(b) == 0: found = False\n",
        "    else: print(f\"[PAGE NO : {ipage}] [ARTICLES FOUND: {len(b)}]\")\n",
        "    for i in b:\n",
        "        link = i.find(\"a\")\n",
        "        if link:\n",
        "            news_links.append(\"\"+i.find(\"a\").get(\"href\"))\n",
        "            dates.append(\" \".join(i.find(\"span\", class_=\"update_well\").text.split(',')[0].split()))\n",
        "    return news_links, dates, found"
      ]
    },
    {
      "cell_type": "markdown",
      "source": [
        "#### 2) IN.GR"
      ],
      "metadata": {
        "id": "8_hmi7YvMDpd"
      }
    },
    {
      "cell_type": "code",
      "execution_count": null,
      "metadata": {
        "id": "NWN0QLICLErF"
      },
      "outputs": [],
      "source": [
        "@scrap_data(params={'iprocess': 51, 'url': 'https://www.in.gr/search-results/3/?q={keyword}#gsc.tab=0&gsc.q={keyword}&gsc.page={ipage}', 'pagination': list(range(1,21))})\n",
        "def greece2in(soup, ipage, news_links, dates):\n",
        "    found = True\n",
        "    b = soup.find_all('div', class_=\"gsc-webResult gsc-result\")\n",
        "    if len(b) == 0: found = False\n",
        "    else: print(f\"[PAGE NO : {ipage}] [ARTICLES FOUND: {len(b)}]\")\n",
        "    for i in b:\n",
        "        link = i.find(\"a\")\n",
        "        if link:\n",
        "            news_links.append(\"\"+i.find(\"a\").get(\"href\"))\n",
        "            dates.append(\" \".join(i.find(\"div\", class_=\"gs-bidi-start-align gs-snippet\").text.split('...')[0].split()))\n",
        "    return news_links, dates, found"
      ]
    },
    {
      "cell_type": "markdown",
      "source": [
        "#### 3) NEWSIT.GR"
      ],
      "metadata": {
        "id": "pspMJLlbMHuz"
      }
    },
    {
      "cell_type": "code",
      "execution_count": null,
      "metadata": {
        "id": "rIN2_p44LErF"
      },
      "outputs": [],
      "source": [
        "@scrap_data(params={'iprocess': 53, 'url': 'https://www.newsit.gr/page/{ipage}/?s={keyword}', 'pagination': list(range(1,21))})\n",
        "def greece3newsit(soup, ipage, news_links, dates):\n",
        "    found = True\n",
        "    b = soup.find_all('article', class_=\"blog-article\")\n",
        "    if len(b) == 0: found = False\n",
        "    else: print(f\"[PAGE NO : {ipage}] [ARTICLES FOUND: {len(b)}]\")\n",
        "    for i in b:\n",
        "        link = i.find(\"a\")\n",
        "        if link:\n",
        "            news_links.append(\"\"+i.find(\"a\").get(\"href\"))\n",
        "            dates.append(\" \".join(i.find(\"time\", class_=\"entry-date published\").text.split()))\n",
        "    return news_links, dates, found"
      ]
    },
    {
      "cell_type": "markdown",
      "source": [
        "#### 4) DIKAILOGIKA.GR"
      ],
      "metadata": {
        "id": "5GNvG9fWMLFF"
      }
    },
    {
      "cell_type": "code",
      "execution_count": null,
      "metadata": {
        "id": "K0bthQ3CLErF"
      },
      "outputs": [],
      "source": [
        "@scrap_data(params={'iprocess': 52, 'url': 'https://www.dikaiologitika.gr/site/search/{keyword}?searchword={keyword}&start={ipage}', 'pagination': list(map(lambda x: x*20,range(21)))})\n",
        "def greece4dikaiologitika(soup, ipage, news_links, dates):\n",
        "    found = True\n",
        "    b = soup.find_all('div', class_=\"itemContainer\")\n",
        "    if len(b) == 0: found = False\n",
        "    else: print(f\"[PAGE NO : {ipage}] [ARTICLES FOUND: {len(b)}]\")\n",
        "    for i in b:\n",
        "        link = i.find(\"a\")\n",
        "        if link:\n",
        "            news_links.append(\"https://www.dikaiologitika.gr\"+i.find(\"a\").get(\"href\"))\n",
        "            dates.append(\" \".join(i.find(\"span\", class_=\"genericItemDateCreated\").text.split('-')[0].split()))\n",
        "    return news_links, dates, found"
      ]
    },
    {
      "cell_type": "markdown",
      "metadata": {
        "id": "FtYpyzRtLErF"
      },
      "source": [
        "---\n",
        "# SLOVAKIA\n",
        "---"
      ]
    },
    {
      "cell_type": "markdown",
      "source": [
        "#### 1) TOPKY.SK"
      ],
      "metadata": {
        "id": "XeaNStWkMPkc"
      }
    },
    {
      "cell_type": "code",
      "execution_count": null,
      "metadata": {
        "id": "2UB9qBZuLErF"
      },
      "outputs": [],
      "source": [
        "@scrap_data(params={'iprocess': 44, 'url': 'https://www.topky.sk/search/{keyword}/{ipage}/', 'pagination': list(range(1,21))})\n",
        "def slovakia1topky(soup, ipage, news_links, dates):\n",
        "    found = True\n",
        "    b = soup.find_all('div', class_=\"entry\")\n",
        "    if len(b) == 0: found = False\n",
        "    else: print(f\"[PAGE NO : {ipage}] [ARTICLES FOUND: {len(b)}]\")\n",
        "    for i in b:\n",
        "        link = i.find(\"a\")\n",
        "        if link:\n",
        "            news_links.append(\"https://www.topky.sk\"+i.find(\"a\").get(\"href\"))\n",
        "            dates.append(\" \".join(i.find(\"p\", class_=\"time\").text.split(' ')[0].split()))\n",
        "    return news_links, dates, found"
      ]
    },
    {
      "cell_type": "markdown",
      "source": [
        "#### 2) TERAZ.SK"
      ],
      "metadata": {
        "id": "8UwnC_Q6MTon"
      }
    },
    {
      "cell_type": "code",
      "execution_count": null,
      "metadata": {
        "id": "ixuDfmubLErG"
      },
      "outputs": [],
      "source": [
        "@scrap_data(params={'iprocess': 47, 'url': 'https://www.teraz.sk/search?q={keyword}&p={ipage}', 'pagination': list(range(1,21))})\n",
        "def slovakia2teraz(soup, ipage, news_links, dates):\n",
        "    found = True\n",
        "    b = soup.find_all('div', class_=\"mediaListing-item\")\n",
        "    if len(b) == 0: found = False\n",
        "    else: print(f\"[PAGE NO : {ipage}] [ARTICLES FOUND: {len(b)}]\")\n",
        "    for i in b:\n",
        "        link = i.find(\"a\")\n",
        "        if link:\n",
        "            news_links.append(\"https://www.teraz.sk\"+i.find(\"a\").get(\"href\"))\n",
        "            dates.append(\" \".join(i.find(\"time\").text.split()))\n",
        "    return news_links, dates, found"
      ]
    },
    {
      "cell_type": "markdown",
      "source": [
        "#### 3) PRAVDA.SK"
      ],
      "metadata": {
        "id": "5wNtpSbKMWq-"
      }
    },
    {
      "cell_type": "code",
      "execution_count": null,
      "metadata": {
        "id": "HTwBuFeHLErG"
      },
      "outputs": [],
      "source": [
        "date_regex = re.compile('20[0-9]{2}')\n",
        "@scrap_data(params={'iprocess': 45, 'url': 'https://www.pravda.sk/vyhladavanie/?q={keyword}&ie=utf-8&as_sitesearch=pravda.sk', 'pagination': list(range(1,20))})\n",
        "def slovakia3pravda(soup, ipage, news_links, dates):\n",
        "    found = True\n",
        "    b = soup.find_all('div', class_=\"gsc-table-cell-snippet-close\")\n",
        "    print(len(b))\n",
        "    if len(b) == 0: found = False\n",
        "    else: print(f\"[PAGE NO : {ipage}] [ARTICLES FOUND: {len(b)}]\")\n",
        "    for i in b:\n",
        "        link = i.find(\"a\")\n",
        "        try:\n",
        "            date_div = \"\".join(i.find('div', class_='gs-bidi-start-align gs-snippet').text.split())\n",
        "            date = date_regex.findall(date_div)\n",
        "            if date: date = \",\".join(date)\n",
        "            else: date = \"\"\n",
        "        except: date = \"\"\n",
        "        if link:\n",
        "            news_links.append(i.find(\"a\").get(\"href\"))\n",
        "            dates.append(date)\n",
        "    return news_links, dates, found"
      ]
    },
    {
      "cell_type": "markdown",
      "source": [
        "---\n",
        "\n",
        "# OUTPUT \n",
        "\n",
        "---"
      ],
      "metadata": {
        "id": "Ct29-JMnMalz"
      }
    },
    {
      "cell_type": "markdown",
      "metadata": {
        "id": "i2DTNXNFAKJ4"
      },
      "source": [
        "Each time, one will run the function for a certain news site of a country, it will output two excel files with the following data:\n",
        "\n",
        "- Excel file 1: number of news articles found for each keyword per year (2017-2022), each keyword is in a different sheet within the same excel file,\n",
        "- Excel file 2: links of news articles per date (for cross-checks) separated for each keyword in a different sheet.\n",
        "\n",
        "Naming conventions for the files that you will find in the folder 'results' > country_name:\n",
        "\n",
        "- Result + country_name + news_site_name: statistics \n",
        "\n",
        "- country_name + news_site_name: links for cross-checking\n"
      ]
    },
    {
      "cell_type": "markdown",
      "source": [
        "---\n",
        "\n",
        "# RUN THE CODE\n",
        "\n",
        "---"
      ],
      "metadata": {
        "id": "C9tH88MWwgts"
      }
    },
    {
      "cell_type": "code",
      "source": [
        "DK_keyword_list = [\"gdpr\", \"privatliv\", \"Databeskyttelsesloven\", \"web tracking\", \"online tracking\", \"digital analytics\", \"data protection authorities\"]\n",
        "\n",
        "for keyword in DK_keyword_list:\n",
        "    print(denmark1information(keyword))\n",
        "    print(denmark2politiken(keyword))\n",
        "    print(denmark3berlingske(keyword))\n",
        "    #print(denmark4jv(keyword))"
      ],
      "metadata": {
        "colab": {
          "base_uri": "https://localhost:8080/"
        },
        "id": "bMmjLMnidnPn",
        "outputId": "1e8afb62-dd5b-4a4b-e930-e723cfa17276"
      },
      "execution_count": null,
      "outputs": [
        {
          "output_type": "stream",
          "name": "stdout",
          "text": [
            "[PAGE NO : 1] [ARTICLES FOUND: 20]\n",
            "[PAGE NO : 2] [ARTICLES FOUND: 20]\n",
            "[PAGE NO : 3] [ARTICLES FOUND: 20]\n",
            "[PAGE NO : 4] [ARTICLES FOUND: 20]\n",
            "[PAGE NO : 5] [ARTICLES FOUND: 20]\n",
            "[PAGE NO : 6] [ARTICLES FOUND: 6]\n",
            "[PAGE NO : 7] [NO MORE ARTICLES FOUND]\n",
            "[Website: www.information.dk] [Keyword: gdpr] [Time Taken: 68.46 sec]\n",
            "   year Number of Related News\n",
            "0  2017                      1\n",
            "1  2018                     27\n",
            "2  2019                     34\n",
            "3  2020                     27\n",
            "4  2021                     16\n",
            "5  2022                      0\n",
            "[PAGE NO : 1] [ARTICLES FOUND: 20]\n",
            "[PAGE NO : 2] [ARTICLES FOUND: 20]\n",
            "[PAGE NO : 3] [ARTICLES FOUND: 20]\n",
            "[PAGE NO : 4] [ARTICLES FOUND: 20]\n",
            "[PAGE NO : 5] [ARTICLES FOUND: 20]\n",
            "[PAGE NO : 6] [ARTICLES FOUND: 20]\n",
            "[PAGE NO : 7] [ARTICLES FOUND: 20]\n",
            "[PAGE NO : 8] [ARTICLES FOUND: 20]\n",
            "[PAGE NO : 9] [ARTICLES FOUND: 20]\n",
            "[PAGE NO : 10] [ARTICLES FOUND: 20]\n",
            "[PAGE NO : 11] [ARTICLES FOUND: 13]\n",
            "[PAGE NO : 12] [NO MORE ARTICLES FOUND]\n",
            "[Website: politiken.dk] [Keyword: gdpr] [Time Taken: 183.9 sec]\n",
            "   year Number of Related News\n",
            "0  2017                      3\n",
            "1  2018                     54\n",
            "2  2019                     56\n",
            "3  2020                     42\n",
            "4  2021                     44\n",
            "5  2022                     14\n",
            "[PAGE NO : 1] [ARTICLES FOUND: 10]\n",
            "[PAGE NO : 2] [ARTICLES FOUND: 10]\n",
            "[PAGE NO : 3] [ARTICLES FOUND: 10]\n",
            "[PAGE NO : 4] [ARTICLES FOUND: 10]\n",
            "[PAGE NO : 5] [ARTICLES FOUND: 10]\n",
            "[PAGE NO : 6] [ARTICLES FOUND: 10]\n",
            "[PAGE NO : 7] [ARTICLES FOUND: 10]\n",
            "[PAGE NO : 8] [ARTICLES FOUND: 10]\n",
            "[PAGE NO : 9] [ARTICLES FOUND: 10]\n",
            "[PAGE NO : 10] [ARTICLES FOUND: 10]\n",
            "[PAGE NO : 11] [ARTICLES FOUND: 10]\n",
            "[PAGE NO : 12] [ARTICLES FOUND: 10]\n",
            "[PAGE NO : 13] [ARTICLES FOUND: 10]\n",
            "[PAGE NO : 14] [ARTICLES FOUND: 10]\n",
            "[PAGE NO : 15] [ARTICLES FOUND: 10]\n",
            "[PAGE NO : 16] [ARTICLES FOUND: 10]\n",
            "[PAGE NO : 17] [ARTICLES FOUND: 10]\n",
            "[PAGE NO : 18] [ARTICLES FOUND: 10]\n",
            "[PAGE NO : 19] [ARTICLES FOUND: 10]\n",
            "[PAGE NO : 20] [ARTICLES FOUND: 10]\n",
            "[Website: www.berlingske.dk] [Keyword: gdpr] [Time Taken: 270.64 sec]\n",
            "   year Number of Related News\n",
            "0  2017                      0\n",
            "1  2018                     14\n",
            "2  2019                     58\n",
            "3  2020                     53\n",
            "4  2021                     63\n",
            "5  2022                     12\n",
            "[PAGE NO : 1] [ARTICLES FOUND: 20]\n",
            "[PAGE NO : 2] [ARTICLES FOUND: 20]\n",
            "[PAGE NO : 3] [ARTICLES FOUND: 20]\n",
            "[PAGE NO : 4] [ARTICLES FOUND: 20]\n",
            "[PAGE NO : 5] [ARTICLES FOUND: 20]\n",
            "[PAGE NO : 6] [ARTICLES FOUND: 20]\n",
            "[PAGE NO : 7] [ARTICLES FOUND: 20]\n",
            "[PAGE NO : 8] [ARTICLES FOUND: 20]\n",
            "[PAGE NO : 9] [ARTICLES FOUND: 20]\n",
            "[PAGE NO : 10] [ARTICLES FOUND: 20]\n",
            "[PAGE NO : 11] [ARTICLES FOUND: 20]\n",
            "[PAGE NO : 12] [ARTICLES FOUND: 20]\n",
            "[PAGE NO : 13] [ARTICLES FOUND: 20]\n",
            "[PAGE NO : 14] [ARTICLES FOUND: 20]\n",
            "[PAGE NO : 15] [ARTICLES FOUND: 20]\n",
            "[PAGE NO : 16] [ARTICLES FOUND: 20]\n",
            "[PAGE NO : 17] [ARTICLES FOUND: 20]\n",
            "[PAGE NO : 18] [ARTICLES FOUND: 20]\n",
            "[PAGE NO : 19] [ARTICLES FOUND: 20]\n",
            "[PAGE NO : 20] [ARTICLES FOUND: 20]\n",
            "[Website: www.information.dk] [Keyword: privatliv] [Time Taken: 306.84 sec]\n",
            "   year Number of Related News\n",
            "0  2017                      0\n",
            "1  2018                      0\n",
            "2  2019                     36\n",
            "3  2020                    165\n",
            "4  2021                    155\n",
            "5  2022                     44\n",
            "[PAGE NO : 1] [ARTICLES FOUND: 20]\n",
            "[PAGE NO : 2] [ARTICLES FOUND: 20]\n",
            "[PAGE NO : 3] [ARTICLES FOUND: 20]\n",
            "[PAGE NO : 4] [ARTICLES FOUND: 20]\n",
            "[PAGE NO : 5] [ARTICLES FOUND: 20]\n",
            "[PAGE NO : 6] [ARTICLES FOUND: 20]\n",
            "[PAGE NO : 7] [ARTICLES FOUND: 20]\n",
            "[PAGE NO : 8] [ARTICLES FOUND: 20]\n",
            "[PAGE NO : 9] [ARTICLES FOUND: 20]\n",
            "[PAGE NO : 10] [ARTICLES FOUND: 20]\n",
            "[PAGE NO : 11] [ARTICLES FOUND: 20]\n",
            "[PAGE NO : 12] [ARTICLES FOUND: 20]\n",
            "[PAGE NO : 13] [ARTICLES FOUND: 20]\n",
            "[PAGE NO : 14] [ARTICLES FOUND: 20]\n",
            "[PAGE NO : 15] [ARTICLES FOUND: 20]\n",
            "[PAGE NO : 16] [ARTICLES FOUND: 20]\n",
            "[PAGE NO : 17] [ARTICLES FOUND: 20]\n",
            "[PAGE NO : 18] [ARTICLES FOUND: 20]\n",
            "[PAGE NO : 19] [ARTICLES FOUND: 20]\n",
            "[PAGE NO : 20] [ARTICLES FOUND: 20]\n",
            "[Website: politiken.dk] [Keyword: privatliv] [Time Taken: 500.26 sec]\n",
            "   year Number of Related News\n",
            "0  2017                      0\n",
            "1  2018                      0\n",
            "2  2019                      0\n",
            "3  2020                      0\n",
            "4  2021                    248\n",
            "5  2022                    152\n",
            "[PAGE NO : 1] [ARTICLES FOUND: 10]\n",
            "[PAGE NO : 2] [ARTICLES FOUND: 10]\n",
            "[PAGE NO : 3] [ARTICLES FOUND: 10]\n",
            "[PAGE NO : 4] [ARTICLES FOUND: 10]\n",
            "[PAGE NO : 5] [ARTICLES FOUND: 10]\n",
            "[PAGE NO : 6] [NO MORE ARTICLES FOUND]\n",
            "[Website: www.berlingske.dk] [Keyword: privatliv] [Time Taken: 562.28 sec]\n",
            "   year Number of Related News\n",
            "0  2017                      0\n",
            "1  2018                      0\n",
            "2  2019                      0\n",
            "3  2020                      0\n",
            "4  2021                      0\n",
            "5  2022                     50\n",
            "[PAGE NO : 1] [ARTICLES FOUND: 6]\n",
            "[PAGE NO : 2] [NO MORE ARTICLES FOUND]\n",
            "[Website: www.information.dk] [Keyword: Databeskyttelsesloven] [Time Taken: 571.49 sec]\n",
            "   year Number of Related News\n",
            "0  2017                      1\n",
            "1  2018                      0\n",
            "2  2019                      0\n",
            "3  2020                      0\n",
            "4  2021                      0\n",
            "5  2022                      0\n",
            "[PAGE NO : 1] [ARTICLES FOUND: 20]\n",
            "[PAGE NO : 2] [ARTICLES FOUND: 20]\n",
            "[PAGE NO : 3] [ARTICLES FOUND: 20]\n",
            "[PAGE NO : 4] [ARTICLES FOUND: 20]\n",
            "[PAGE NO : 5] [ARTICLES FOUND: 20]\n",
            "[PAGE NO : 6] [ARTICLES FOUND: 12]\n",
            "[PAGE NO : 7] [NO MORE ARTICLES FOUND]\n",
            "[Website: politiken.dk] [Keyword: Databeskyttelsesloven] [Time Taken: 640.79 sec]\n",
            "   year Number of Related News\n",
            "0  2017                     21\n",
            "1  2018                     49\n",
            "2  2019                     16\n",
            "3  2020                      9\n",
            "4  2021                      4\n",
            "5  2022                      1\n",
            "[PAGE NO : 1] [ARTICLES FOUND: 10]\n",
            "[PAGE NO : 2] [ARTICLES FOUND: 10]\n",
            "[PAGE NO : 3] [ARTICLES FOUND: 10]\n",
            "[PAGE NO : 4] [ARTICLES FOUND: 10]\n",
            "[PAGE NO : 5] [ARTICLES FOUND: 1]\n",
            "[PAGE NO : 6] [NO MORE ARTICLES FOUND]\n",
            "[Website: www.berlingske.dk] [Keyword: Databeskyttelsesloven] [Time Taken: 663.94 sec]\n",
            "   year Number of Related News\n",
            "0  2017                      6\n",
            "1  2018                     18\n",
            "2  2019                      6\n",
            "3  2020                      1\n",
            "4  2021                      0\n",
            "5  2022                      0\n",
            "[PAGE NO : 1] [ARTICLES FOUND: 6]\n",
            "[PAGE NO : 2] [NO MORE ARTICLES FOUND]\n",
            "[Website: www.information.dk] [Keyword: web tracking] [Time Taken: 670.73 sec]\n",
            "   year Number of Related News\n",
            "0  2017                      0\n",
            "1  2018                      0\n",
            "2  2019                      0\n",
            "3  2020                      0\n",
            "4  2021                      0\n",
            "5  2022                      0\n",
            "[PAGE NO : 1] [ARTICLES FOUND: 1]\n",
            "[PAGE NO : 2] [NO MORE ARTICLES FOUND]\n",
            "[Website: politiken.dk] [Keyword: web tracking] [Time Taken: 688.59 sec]\n",
            "   year Number of Related News\n",
            "0  2017                      0\n",
            "1  2018                      0\n",
            "2  2019                      0\n",
            "3  2020                      0\n",
            "4  2021                      0\n",
            "5  2022                      0\n",
            "[PAGE NO : 1] [ARTICLES FOUND: 2]\n",
            "[PAGE NO : 2] [NO MORE ARTICLES FOUND]\n",
            "[Website: www.berlingske.dk] [Keyword: web tracking] [Time Taken: 695.51 sec]\n",
            "   year Number of Related News\n",
            "0  2017                      0\n",
            "1  2018                      0\n",
            "2  2019                      0\n",
            "3  2020                      0\n",
            "4  2021                      0\n",
            "5  2022                      0\n",
            "[PAGE NO : 1] [ARTICLES FOUND: 20]\n",
            "[PAGE NO : 2] [ARTICLES FOUND: 20]\n",
            "[PAGE NO : 3] [ARTICLES FOUND: 4]\n",
            "[PAGE NO : 4] [NO MORE ARTICLES FOUND]\n",
            "[Website: www.information.dk] [Keyword: online tracking] [Time Taken: 704.61 sec]\n",
            "   year Number of Related News\n",
            "0  2017                      0\n",
            "1  2018                      0\n",
            "2  2019                      0\n",
            "3  2020                      0\n",
            "4  2021                      0\n",
            "5  2022                      0\n",
            "[PAGE NO : 1] [ARTICLES FOUND: 17]\n",
            "[PAGE NO : 2] [NO MORE ARTICLES FOUND]\n",
            "[Website: politiken.dk] [Keyword: online tracking] [Time Taken: 722.66 sec]\n",
            "   year Number of Related News\n",
            "0  2017                      1\n",
            "1  2018                      0\n",
            "2  2019                      0\n",
            "3  2020                      4\n",
            "4  2021                      0\n",
            "5  2022                      0\n",
            "[PAGE NO : 1] [ARTICLES FOUND: 10]\n",
            "[PAGE NO : 2] [ARTICLES FOUND: 10]\n",
            "[PAGE NO : 3] [ARTICLES FOUND: 10]\n",
            "[PAGE NO : 4] [ARTICLES FOUND: 3]\n",
            "[PAGE NO : 5] [NO MORE ARTICLES FOUND]\n",
            "[Website: www.berlingske.dk] [Keyword: online tracking] [Time Taken: 737.77 sec]\n",
            "   year Number of Related News\n",
            "0  2017                      5\n",
            "1  2018                      0\n",
            "2  2019                      0\n",
            "3  2020                      0\n",
            "4  2021                      0\n",
            "5  2022                      0\n",
            "[PAGE NO : 1] [NO MORE ARTICLES FOUND]\n",
            "[Website: www.information.dk] [Keyword: digital analytics] [Time Taken: 743.62 sec]\n",
            "   year Number of Related News\n",
            "0  2017                      0\n",
            "1  2018                      0\n",
            "2  2019                      0\n",
            "3  2020                      0\n",
            "4  2021                      0\n",
            "5  2022                      0\n",
            "[PAGE NO : 1] [ARTICLES FOUND: 16]\n",
            "[PAGE NO : 2] [NO MORE ARTICLES FOUND]\n",
            "[Website: politiken.dk] [Keyword: digital analytics] [Time Taken: 761.83 sec]\n",
            "   year Number of Related News\n",
            "0  2017                      1\n",
            "1  2018                      1\n",
            "2  2019                      1\n",
            "3  2020                      0\n",
            "4  2021                      2\n",
            "5  2022                      1\n",
            "[PAGE NO : 1] [ARTICLES FOUND: 10]\n",
            "[PAGE NO : 2] [ARTICLES FOUND: 10]\n",
            "[PAGE NO : 3] [ARTICLES FOUND: 10]\n",
            "[PAGE NO : 4] [ARTICLES FOUND: 10]\n",
            "[PAGE NO : 5] [ARTICLES FOUND: 2]\n",
            "[PAGE NO : 6] [NO MORE ARTICLES FOUND]\n",
            "[Website: www.berlingske.dk] [Keyword: digital analytics] [Time Taken: 811.85 sec]\n",
            "   year Number of Related News\n",
            "0  2017                      6\n",
            "1  2018                      4\n",
            "2  2019                      0\n",
            "3  2020                      0\n",
            "4  2021                      0\n",
            "5  2022                      0\n",
            "[PAGE NO : 1] [ARTICLES FOUND: 5]\n",
            "[PAGE NO : 2] [NO MORE ARTICLES FOUND]\n",
            "[Website: www.information.dk] [Keyword: data protection authorities] [Time Taken: 818.84 sec]\n",
            "   year Number of Related News\n",
            "0  2017                      0\n",
            "1  2018                      0\n",
            "2  2019                      0\n",
            "3  2020                      0\n",
            "4  2021                      0\n",
            "5  2022                      0\n",
            "[PAGE NO : 1] [ARTICLES FOUND: 2]\n",
            "[PAGE NO : 2] [NO MORE ARTICLES FOUND]\n",
            "[Website: politiken.dk] [Keyword: data protection authorities] [Time Taken: 837.22 sec]\n",
            "   year Number of Related News\n",
            "0  2017                      0\n",
            "1  2018                      0\n",
            "2  2019                      0\n",
            "3  2020                      0\n",
            "4  2021                      0\n",
            "5  2022                      1\n",
            "[PAGE NO : 1] [NO MORE ARTICLES FOUND]\n",
            "[Website: www.berlingske.dk] [Keyword: data protection authorities] [Time Taken: 839.22 sec]\n",
            "   year Number of Related News\n",
            "0  2017                      0\n",
            "1  2018                      0\n",
            "2  2019                      0\n",
            "3  2020                      0\n",
            "4  2021                      0\n",
            "5  2022                      0\n"
          ]
        }
      ]
    },
    {
      "cell_type": "code",
      "source": [
        "DE_keyword_list = [\"gdpr\", \"dsgvo\", \"datenschutz\", \"web tracking\", \"online tracking\", \"digital analytics\", \"data protection authorities\"]\n",
        "\n",
        "for keyword in DE_keyword_list:\n",
        "    print(germany1ntv(keyword))\n",
        "    print(germany2dw(keyword))\n",
        "    print(germany3faz(keyword))"
      ],
      "metadata": {
        "colab": {
          "base_uri": "https://localhost:8080/"
        },
        "id": "Y0kuPDJnwe3Q",
        "outputId": "ec1c68d8-0a8f-41d8-f56a-9950d9319eb6"
      },
      "execution_count": null,
      "outputs": [
        {
          "output_type": "stream",
          "name": "stdout",
          "text": [
            "[PAGE NO : 1] [ARTICLES FOUND: 3]\n",
            "[PAGE NO : 2] [NO MORE ARTICLES FOUND]\n",
            "[Website: www.ntv.de] [Keyword: gdpr] [Time Taken: 2017.75 sec]\n",
            "   year Number of Related News\n",
            "0  2017                      0\n",
            "1  2018                      0\n",
            "2  2019                      1\n",
            "3  2020                      1\n",
            "4  2021                      1\n",
            "5  2022                      0\n",
            "[PAGE NO : 1] [ARTICLES FOUND: 53]\n",
            "[PAGE NO : 2] [ARTICLES FOUND: 53]\n",
            "[PAGE NO : 3] [ARTICLES FOUND: 53]\n",
            "[PAGE NO : 4] [ARTICLES FOUND: 53]\n",
            "[PAGE NO : 5] [ARTICLES FOUND: 53]\n",
            "[PAGE NO : 6] [ARTICLES FOUND: 53]\n",
            "[PAGE NO : 7] [ARTICLES FOUND: 53]\n",
            "[PAGE NO : 8] [ARTICLES FOUND: 53]\n",
            "[PAGE NO : 9] [ARTICLES FOUND: 53]\n",
            "[PAGE NO : 10] [ARTICLES FOUND: 53]\n",
            "[PAGE NO : 11] [ARTICLES FOUND: 53]\n",
            "[PAGE NO : 12] [ARTICLES FOUND: 53]\n",
            "[PAGE NO : 13] [ARTICLES FOUND: 53]\n",
            "[PAGE NO : 14] [ARTICLES FOUND: 53]\n",
            "[PAGE NO : 15] [ARTICLES FOUND: 53]\n",
            "[PAGE NO : 16] [ARTICLES FOUND: 53]\n",
            "[PAGE NO : 17] [ARTICLES FOUND: 53]\n",
            "[PAGE NO : 18] [ARTICLES FOUND: 53]\n",
            "[PAGE NO : 19] [ARTICLES FOUND: 53]\n",
            "[PAGE NO : 20] [ARTICLES FOUND: 53]\n",
            "[Website: www.dw.com] [Keyword: gdpr] [Time Taken: 2023.14 sec]\n",
            "   year Number of Related News\n",
            "0  2017                      0\n",
            "1  2018                    560\n",
            "2  2019                    140\n",
            "3  2020                    220\n",
            "4  2021                    140\n",
            "5  2022                      0\n",
            "[PAGE NO : 1] [ARTICLES FOUND: 8]\n",
            "[PAGE NO : 2] [NO MORE ARTICLES FOUND]\n",
            "[Website: www.faz.net] [Keyword: gdpr] [Time Taken: 2029.1 sec]\n",
            "   year Number of Related News\n",
            "0  2017                      1\n",
            "1  2018                      4\n",
            "2  2019                      2\n",
            "3  2020                      1\n",
            "4  2021                      0\n",
            "5  2022                      0\n",
            "[PAGE NO : 1] [ARTICLES FOUND: 20]\n",
            "[PAGE NO : 2] [ARTICLES FOUND: 20]\n",
            "[PAGE NO : 3] [ARTICLES FOUND: 20]\n",
            "[PAGE NO : 4] [ARTICLES FOUND: 20]\n",
            "[PAGE NO : 5] [ARTICLES FOUND: 20]\n",
            "[PAGE NO : 6] [ARTICLES FOUND: 20]\n",
            "[PAGE NO : 7] [ARTICLES FOUND: 20]\n",
            "[PAGE NO : 8] [ARTICLES FOUND: 20]\n",
            "[PAGE NO : 9] [ARTICLES FOUND: 15]\n",
            "[PAGE NO : 10] [NO MORE ARTICLES FOUND]\n",
            "[Website: www.ntv.de] [Keyword: dsgvo] [Time Taken: 2068.23 sec]\n",
            "   year Number of Related News\n",
            "0  2017                      3\n",
            "1  2018                     91\n",
            "2  2019                     34\n",
            "3  2020                     15\n",
            "4  2021                     23\n",
            "5  2022                      8\n",
            "[PAGE NO : 1] [NO MORE ARTICLES FOUND]\n",
            "[Website: www.dw.com] [Keyword: dsgvo] [Time Taken: 2063.82 sec]\n",
            "   year Number of Related News\n",
            "0  2017                      0\n",
            "1  2018                      0\n",
            "2  2019                      0\n",
            "3  2020                      0\n",
            "4  2021                      0\n",
            "5  2022                      0\n",
            "[PAGE NO : 1] [ARTICLES FOUND: 20]\n",
            "[PAGE NO : 2] [ARTICLES FOUND: 20]\n",
            "[PAGE NO : 3] [ARTICLES FOUND: 20]\n",
            "[PAGE NO : 4] [ARTICLES FOUND: 20]\n",
            "[PAGE NO : 5] [ARTICLES FOUND: 20]\n",
            "[PAGE NO : 6] [ARTICLES FOUND: 20]\n",
            "[PAGE NO : 7] [ARTICLES FOUND: 20]\n",
            "[PAGE NO : 8] [ARTICLES FOUND: 20]\n",
            "[PAGE NO : 9] [ARTICLES FOUND: 20]\n",
            "[PAGE NO : 10] [ARTICLES FOUND: 20]\n",
            "[PAGE NO : 11] [ARTICLES FOUND: 20]\n",
            "[PAGE NO : 12] [ARTICLES FOUND: 20]\n",
            "[PAGE NO : 13] [ARTICLES FOUND: 20]\n",
            "[PAGE NO : 14] [ARTICLES FOUND: 20]\n",
            "[PAGE NO : 15] [ARTICLES FOUND: 2]\n",
            "[PAGE NO : 16] [NO MORE ARTICLES FOUND]\n",
            "[Website: www.faz.net] [Keyword: dsgvo] [Time Taken: 2162.99 sec]\n",
            "   year Number of Related News\n",
            "0  2017                      2\n",
            "1  2018                     97\n",
            "2  2019                     70\n",
            "3  2020                     48\n",
            "4  2021                     54\n",
            "5  2022                      9\n",
            "[PAGE NO : 1] [ARTICLES FOUND: 20]\n",
            "[PAGE NO : 2] [ARTICLES FOUND: 20]\n",
            "[PAGE NO : 3] [ARTICLES FOUND: 20]\n",
            "[PAGE NO : 4] [ARTICLES FOUND: 20]\n",
            "[PAGE NO : 5] [ARTICLES FOUND: 20]\n",
            "[PAGE NO : 6] [ARTICLES FOUND: 20]\n",
            "[PAGE NO : 7] [ARTICLES FOUND: 20]\n",
            "[PAGE NO : 8] [ARTICLES FOUND: 20]\n",
            "[PAGE NO : 9] [ARTICLES FOUND: 20]\n",
            "[PAGE NO : 10] [ARTICLES FOUND: 20]\n",
            "[PAGE NO : 11] [ARTICLES FOUND: 20]\n",
            "[PAGE NO : 12] [ARTICLES FOUND: 20]\n",
            "[PAGE NO : 13] [ARTICLES FOUND: 20]\n",
            "[PAGE NO : 14] [ARTICLES FOUND: 20]\n",
            "[PAGE NO : 15] [ARTICLES FOUND: 20]\n",
            "[PAGE NO : 16] [ARTICLES FOUND: 20]\n",
            "[PAGE NO : 17] [ARTICLES FOUND: 20]\n",
            "[PAGE NO : 18] [ARTICLES FOUND: 20]\n",
            "[PAGE NO : 19] [ARTICLES FOUND: 20]\n",
            "[PAGE NO : 20] [ARTICLES FOUND: 20]\n",
            "[Website: www.ntv.de] [Keyword: datenschutz] [Time Taken: 2238.3 sec]\n",
            "   year Number of Related News\n",
            "0  2017                      0\n",
            "1  2018                      0\n",
            "2  2019                      0\n",
            "3  2020                      0\n",
            "4  2021                    303\n",
            "5  2022                     97\n",
            "[PAGE NO : 1] [ARTICLES FOUND: 3]\n",
            "[PAGE NO : 2] [ARTICLES FOUND: 3]\n",
            "[PAGE NO : 3] [ARTICLES FOUND: 3]\n",
            "[PAGE NO : 4] [ARTICLES FOUND: 3]\n",
            "[PAGE NO : 5] [ARTICLES FOUND: 3]\n",
            "[PAGE NO : 6] [ARTICLES FOUND: 3]\n",
            "[PAGE NO : 7] [ARTICLES FOUND: 3]\n",
            "[PAGE NO : 8] [ARTICLES FOUND: 3]\n",
            "[PAGE NO : 9] [ARTICLES FOUND: 3]\n",
            "[PAGE NO : 10] [ARTICLES FOUND: 3]\n",
            "[PAGE NO : 11] [ARTICLES FOUND: 3]\n",
            "[PAGE NO : 12] [ARTICLES FOUND: 3]\n",
            "[PAGE NO : 13] [ARTICLES FOUND: 3]\n",
            "[PAGE NO : 14] [ARTICLES FOUND: 3]\n",
            "[PAGE NO : 15] [ARTICLES FOUND: 3]\n",
            "[PAGE NO : 16] [ARTICLES FOUND: 3]\n",
            "[PAGE NO : 17] [ARTICLES FOUND: 3]\n",
            "[PAGE NO : 18] [ARTICLES FOUND: 3]\n",
            "[PAGE NO : 19] [ARTICLES FOUND: 3]\n",
            "[PAGE NO : 20] [ARTICLES FOUND: 3]\n",
            "[Website: www.dw.com] [Keyword: datenschutz] [Time Taken: 2241.96 sec]\n",
            "   year Number of Related News\n",
            "0  2017                      0\n",
            "1  2018                      0\n",
            "2  2019                     20\n",
            "3  2020                      0\n",
            "4  2021                      0\n",
            "5  2022                      0\n",
            "[PAGE NO : 1] [ARTICLES FOUND: 20]\n",
            "[PAGE NO : 2] [ARTICLES FOUND: 20]\n",
            "[PAGE NO : 3] [ARTICLES FOUND: 20]\n",
            "[PAGE NO : 4] [ARTICLES FOUND: 20]\n",
            "[PAGE NO : 5] [ARTICLES FOUND: 20]\n",
            "[PAGE NO : 6] [ARTICLES FOUND: 20]\n",
            "[PAGE NO : 7] [ARTICLES FOUND: 20]\n",
            "[PAGE NO : 8] [ARTICLES FOUND: 20]\n",
            "[PAGE NO : 9] [ARTICLES FOUND: 20]\n",
            "[PAGE NO : 10] [ARTICLES FOUND: 20]\n",
            "[PAGE NO : 11] [ARTICLES FOUND: 20]\n",
            "[PAGE NO : 12] [ARTICLES FOUND: 20]\n",
            "[PAGE NO : 13] [ARTICLES FOUND: 20]\n",
            "[PAGE NO : 14] [ARTICLES FOUND: 20]\n",
            "[PAGE NO : 15] [ARTICLES FOUND: 20]\n",
            "[PAGE NO : 16] [ARTICLES FOUND: 20]\n",
            "[PAGE NO : 17] [ARTICLES FOUND: 20]\n",
            "[PAGE NO : 18] [ARTICLES FOUND: 20]\n",
            "[PAGE NO : 19] [ARTICLES FOUND: 20]\n",
            "[PAGE NO : 20] [ARTICLES FOUND: 20]\n",
            "[Website: www.faz.net] [Keyword: datenschutz] [Time Taken: 2329.96 sec]\n",
            "   year Number of Related News\n",
            "0  2017                      0\n",
            "1  2018                      0\n",
            "2  2019                      0\n",
            "3  2020                      0\n",
            "4  2021                    296\n",
            "5  2022                    103\n",
            "[PAGE NO : 1] [ARTICLES FOUND: 20]\n",
            "[PAGE NO : 2] [ARTICLES FOUND: 19]\n",
            "[PAGE NO : 3] [NO MORE ARTICLES FOUND]\n",
            "[Website: www.ntv.de] [Keyword: web tracking] [Time Taken: 2343.8 sec]\n",
            "   year Number of Related News\n",
            "0  2017                      4\n",
            "1  2018                      5\n",
            "2  2019                      3\n",
            "3  2020                      3\n",
            "4  2021                      4\n",
            "5  2022                      2\n",
            "[PAGE NO : 1] [ARTICLES FOUND: 225]\n",
            "[PAGE NO : 2] [ARTICLES FOUND: 225]\n",
            "[PAGE NO : 3] [ARTICLES FOUND: 225]\n",
            "[PAGE NO : 4] [ARTICLES FOUND: 225]\n",
            "[PAGE NO : 5] [ARTICLES FOUND: 225]\n",
            "[PAGE NO : 6] [ARTICLES FOUND: 225]\n",
            "[PAGE NO : 7] [ARTICLES FOUND: 225]\n",
            "[PAGE NO : 8] [ARTICLES FOUND: 225]\n",
            "[PAGE NO : 9] [ARTICLES FOUND: 225]\n",
            "[PAGE NO : 10] [ARTICLES FOUND: 225]\n",
            "[PAGE NO : 11] [ARTICLES FOUND: 225]\n",
            "[PAGE NO : 12] [ARTICLES FOUND: 225]\n",
            "[PAGE NO : 13] [ARTICLES FOUND: 225]\n",
            "[PAGE NO : 14] [ARTICLES FOUND: 225]\n",
            "[PAGE NO : 15] [ARTICLES FOUND: 225]\n",
            "[PAGE NO : 16] [ARTICLES FOUND: 225]\n",
            "[PAGE NO : 17] [ARTICLES FOUND: 225]\n",
            "[PAGE NO : 18] [ARTICLES FOUND: 225]\n",
            "[PAGE NO : 19] [ARTICLES FOUND: 225]\n",
            "[PAGE NO : 20] [ARTICLES FOUND: 225]\n",
            "[Website: www.dw.com] [Keyword: web tracking] [Time Taken: 2356.1 sec]\n",
            "   year Number of Related News\n",
            "0  2017                    300\n",
            "1  2018                    180\n",
            "2  2019                    240\n",
            "3  2020                    240\n",
            "4  2021                    160\n",
            "5  2022                      0\n",
            "[PAGE NO : 1] [ARTICLES FOUND: 20]\n",
            "[PAGE NO : 2] [ARTICLES FOUND: 13]\n",
            "[PAGE NO : 3] [NO MORE ARTICLES FOUND]\n",
            "[Website: www.faz.net] [Keyword: web tracking] [Time Taken: 2365.87 sec]\n",
            "   year Number of Related News\n",
            "0  2017                      1\n",
            "1  2018                      2\n",
            "2  2019                      2\n",
            "3  2020                      4\n",
            "4  2021                      1\n",
            "5  2022                      1\n",
            "[PAGE NO : 1] [ARTICLES FOUND: 20]\n",
            "[PAGE NO : 2] [ARTICLES FOUND: 20]\n",
            "[PAGE NO : 3] [ARTICLES FOUND: 20]\n",
            "[PAGE NO : 4] [ARTICLES FOUND: 20]\n",
            "[PAGE NO : 5] [ARTICLES FOUND: 20]\n",
            "[PAGE NO : 6] [ARTICLES FOUND: 18]\n",
            "[PAGE NO : 7] [NO MORE ARTICLES FOUND]\n",
            "[Website: www.ntv.de] [Keyword: online tracking] [Time Taken: 2392.39 sec]\n",
            "   year Number of Related News\n",
            "0  2017                     10\n",
            "1  2018                     12\n",
            "2  2019                      9\n",
            "3  2020                     18\n",
            "4  2021                     16\n",
            "5  2022                      8\n",
            "[PAGE NO : 1] [ARTICLES FOUND: 850]\n",
            "[PAGE NO : 2] [ARTICLES FOUND: 850]\n",
            "[PAGE NO : 3] [ARTICLES FOUND: 850]\n",
            "[PAGE NO : 4] [ARTICLES FOUND: 850]\n",
            "[PAGE NO : 5] [ARTICLES FOUND: 850]\n",
            "[PAGE NO : 6] [ARTICLES FOUND: 850]\n",
            "[PAGE NO : 7] [ARTICLES FOUND: 850]\n",
            "[PAGE NO : 8] [ARTICLES FOUND: 850]\n",
            "[PAGE NO : 9] [ARTICLES FOUND: 850]\n",
            "[PAGE NO : 10] [ARTICLES FOUND: 850]\n",
            "[PAGE NO : 11] [ARTICLES FOUND: 850]\n",
            "[PAGE NO : 12] [ARTICLES FOUND: 850]\n",
            "[PAGE NO : 13] [ARTICLES FOUND: 850]\n",
            "[PAGE NO : 14] [ARTICLES FOUND: 850]\n",
            "[PAGE NO : 15] [ARTICLES FOUND: 850]\n",
            "[PAGE NO : 16] [ARTICLES FOUND: 850]\n",
            "[PAGE NO : 17] [ARTICLES FOUND: 850]\n",
            "[PAGE NO : 18] [ARTICLES FOUND: 850]\n",
            "[PAGE NO : 19] [ARTICLES FOUND: 850]\n",
            "[PAGE NO : 20] [ARTICLES FOUND: 850]\n",
            "[Website: www.dw.com] [Keyword: online tracking] [Time Taken: 2420.63 sec]\n",
            "   year Number of Related News\n",
            "0  2017                   1260\n",
            "1  2018                   1160\n",
            "2  2019                   1160\n",
            "3  2020                   3340\n",
            "4  2021                   1780\n",
            "5  2022                    680\n",
            "[PAGE NO : 1] [ARTICLES FOUND: 20]\n",
            "[PAGE NO : 2] [ARTICLES FOUND: 20]\n",
            "[PAGE NO : 3] [ARTICLES FOUND: 20]\n",
            "[PAGE NO : 4] [ARTICLES FOUND: 20]\n",
            "[PAGE NO : 5] [ARTICLES FOUND: 20]\n",
            "[PAGE NO : 6] [ARTICLES FOUND: 1]\n",
            "[PAGE NO : 7] [NO MORE ARTICLES FOUND]\n",
            "[Website: www.faz.net] [Keyword: online tracking] [Time Taken: 2488.38 sec]\n",
            "   year Number of Related News\n",
            "0  2017                      5\n",
            "1  2018                      9\n",
            "2  2019                      5\n",
            "3  2020                     13\n",
            "4  2021                     18\n",
            "5  2022                      2\n",
            "[PAGE NO : 1] [ARTICLES FOUND: 19]\n",
            "[PAGE NO : 2] [NO MORE ARTICLES FOUND]\n",
            "[Website: www.ntv.de] [Keyword: digital analytics] [Time Taken: 2500.96 sec]\n",
            "   year Number of Related News\n",
            "0  2017                      0\n",
            "1  2018                      1\n",
            "2  2019                      4\n",
            "3  2020                      2\n",
            "4  2021                      1\n",
            "5  2022                      1\n",
            "[PAGE NO : 1] [ARTICLES FOUND: 57]\n",
            "[PAGE NO : 2] [ARTICLES FOUND: 57]\n",
            "[PAGE NO : 3] [ARTICLES FOUND: 57]\n",
            "[PAGE NO : 4] [ARTICLES FOUND: 57]\n",
            "[PAGE NO : 5] [ARTICLES FOUND: 57]\n",
            "[PAGE NO : 6] [ARTICLES FOUND: 57]\n",
            "[PAGE NO : 7] [ARTICLES FOUND: 57]\n",
            "[PAGE NO : 8] [ARTICLES FOUND: 57]\n",
            "[PAGE NO : 9] [ARTICLES FOUND: 57]\n",
            "[PAGE NO : 10] [ARTICLES FOUND: 57]\n",
            "[PAGE NO : 11] [ARTICLES FOUND: 57]\n",
            "[PAGE NO : 12] [ARTICLES FOUND: 57]\n",
            "[PAGE NO : 13] [ARTICLES FOUND: 57]\n",
            "[PAGE NO : 14] [ARTICLES FOUND: 57]\n",
            "[PAGE NO : 15] [ARTICLES FOUND: 57]\n",
            "[PAGE NO : 16] [ARTICLES FOUND: 57]\n",
            "[PAGE NO : 17] [ARTICLES FOUND: 57]\n",
            "[PAGE NO : 18] [ARTICLES FOUND: 57]\n",
            "[PAGE NO : 19] [ARTICLES FOUND: 57]\n",
            "[PAGE NO : 20] [ARTICLES FOUND: 57]\n",
            "[Website: www.dw.com] [Keyword: digital analytics] [Time Taken: 2506.75 sec]\n",
            "   year Number of Related News\n",
            "0  2017                     20\n",
            "1  2018                     80\n",
            "2  2019                    100\n",
            "3  2020                    260\n",
            "4  2021                    140\n",
            "5  2022                     40\n",
            "[PAGE NO : 1] [ARTICLES FOUND: 20]\n",
            "[PAGE NO : 2] [ARTICLES FOUND: 1]\n",
            "[PAGE NO : 3] [NO MORE ARTICLES FOUND]\n",
            "[Website: www.faz.net] [Keyword: digital analytics] [Time Taken: 2517.03 sec]\n",
            "   year Number of Related News\n",
            "0  2017                      3\n",
            "1  2018                      4\n",
            "2  2019                      2\n",
            "3  2020                      3\n",
            "4  2021                      2\n",
            "5  2022                      0\n",
            "[PAGE NO : 1] [NO MORE ARTICLES FOUND]\n",
            "[Website: www.ntv.de] [Keyword: data protection authorities] [Time Taken: 2525.58 sec]\n",
            "   year Number of Related News\n",
            "0  2017                      0\n",
            "1  2018                      0\n",
            "2  2019                      0\n",
            "3  2020                      0\n",
            "4  2021                      0\n",
            "5  2022                      0\n",
            "[PAGE NO : 1] [NO MORE ARTICLES FOUND]\n",
            "[Website: www.dw.com] [Keyword: data protection authorities] [Time Taken: 2521.16 sec]\n",
            "   year Number of Related News\n",
            "0  2017                      0\n",
            "1  2018                      0\n",
            "2  2019                      0\n",
            "3  2020                      0\n",
            "4  2021                      0\n",
            "5  2022                      0\n",
            "[PAGE NO : 1] [ARTICLES FOUND: 6]\n",
            "[PAGE NO : 2] [NO MORE ARTICLES FOUND]\n",
            "[Website: www.faz.net] [Keyword: data protection authorities] [Time Taken: 2527.08 sec]\n",
            "   year Number of Related News\n",
            "0  2017                      0\n",
            "1  2018                      0\n",
            "2  2019                      0\n",
            "3  2020                      2\n",
            "4  2021                      0\n",
            "5  2022                      0\n"
          ]
        }
      ]
    },
    {
      "cell_type": "code",
      "source": [
        "AT_keyword_list = [\"gdpr\", \"dsgvo\", \"datenschutz\", \"web tracking\", \"online tracking\", \"digital analytics\", \"data protection authorities\"]\n",
        "\n",
        "for keyword in AT_keyword_list:\n",
        "    print(austria1wienerzeitung(keyword))\n",
        "    print(austria2kleinezeitung(keyword))\n",
        "    print(austria3diepresse(keyword))"
      ],
      "metadata": {
        "colab": {
          "base_uri": "https://localhost:8080/"
        },
        "id": "IVQ74Q9Xdc9c",
        "outputId": "8db172e7-ec9d-4b56-f44f-e6f45c4f536a"
      },
      "execution_count": null,
      "outputs": [
        {
          "output_type": "stream",
          "name": "stdout",
          "text": [
            "[PAGE NO : 1] [ARTICLES FOUND: 12]\n",
            "[PAGE NO : 2] [ARTICLES FOUND: 12]\n",
            "[PAGE NO : 3] [ARTICLES FOUND: 8]\n",
            "[PAGE NO : 4] [NO MORE ARTICLES FOUND]\n",
            "[Website: www.wienerzeitung.at] [Keyword: gdpr] [Time Taken: 2524.68 sec]\n",
            "   year Number of Related News\n",
            "0  2017                      0\n",
            "1  2018                      0\n",
            "2  2019                      0\n",
            "3  2020                      0\n",
            "4  2021                      0\n",
            "5  2022                     32\n",
            "[PAGE NO : 1] [ARTICLES FOUND: 1]\n",
            "[PAGE NO : 2] [NO MORE ARTICLES FOUND]\n",
            "[Website: www.kleinezeitung.at] [Keyword: gdpr] [Time Taken: 2524.37 sec]\n",
            "   year Number of Related News\n",
            "0  2017                      1\n",
            "1  2018                      0\n",
            "2  2019                      0\n",
            "3  2020                      0\n",
            "4  2021                      0\n",
            "5  2022                      0\n",
            "[PAGE NO : 1] [ARTICLES FOUND: 6]\n",
            "[PAGE NO : 2] [NO MORE ARTICLES FOUND]\n",
            "[Website: www.diepresse.com] [Keyword: gdpr] [Time Taken: 2647.54 sec]\n",
            "   year Number of Related News\n",
            "0  2017                      1\n",
            "1  2018                      1\n",
            "2  2019                      1\n",
            "3  2020                      0\n",
            "4  2021                      3\n",
            "5  2022                      0\n",
            "[PAGE NO : 1] [ARTICLES FOUND: 5]\n",
            "[PAGE NO : 2] [NO MORE ARTICLES FOUND]\n",
            "[Website: www.wienerzeitung.at] [Keyword: dsgvo] [Time Taken: 2654.63 sec]\n",
            "   year Number of Related News\n",
            "0  2017                      0\n",
            "1  2018                      0\n",
            "2  2019                      0\n",
            "3  2020                      0\n",
            "4  2021                      0\n",
            "5  2022                      5\n",
            "[PAGE NO : 1] [ARTICLES FOUND: 15]\n",
            "[PAGE NO : 2] [ARTICLES FOUND: 15]\n",
            "[PAGE NO : 3] [ARTICLES FOUND: 15]\n",
            "[PAGE NO : 4] [ARTICLES FOUND: 15]\n",
            "[PAGE NO : 5] [ARTICLES FOUND: 15]\n",
            "[PAGE NO : 6] [ARTICLES FOUND: 15]\n",
            "[PAGE NO : 7] [ARTICLES FOUND: 15]\n",
            "[PAGE NO : 8] [ARTICLES FOUND: 15]\n",
            "[PAGE NO : 9] [ARTICLES FOUND: 15]\n",
            "[PAGE NO : 10] [ARTICLES FOUND: 15]\n",
            "[PAGE NO : 11] [ARTICLES FOUND: 15]\n",
            "[PAGE NO : 12] [ARTICLES FOUND: 3]\n",
            "[PAGE NO : 13] [NO MORE ARTICLES FOUND]\n",
            "[Website: www.kleinezeitung.at] [Keyword: dsgvo] [Time Taken: 2663.93 sec]\n",
            "   year Number of Related News\n",
            "0  2017                      1\n",
            "1  2018                     61\n",
            "2  2019                     43\n",
            "3  2020                     33\n",
            "4  2021                     23\n",
            "5  2022                      7\n",
            "[PAGE NO : 1] [ARTICLES FOUND: 16]\n",
            "[PAGE NO : 2] [ARTICLES FOUND: 16]\n",
            "[PAGE NO : 3] [ARTICLES FOUND: 16]\n",
            "[PAGE NO : 4] [ARTICLES FOUND: 16]\n",
            "[PAGE NO : 5] [ARTICLES FOUND: 16]\n",
            "[PAGE NO : 6] [ARTICLES FOUND: 16]\n",
            "[PAGE NO : 7] [ARTICLES FOUND: 16]\n",
            "[PAGE NO : 8] [ARTICLES FOUND: 16]\n",
            "[PAGE NO : 9] [ARTICLES FOUND: 16]\n",
            "[PAGE NO : 10] [ARTICLES FOUND: 14]\n",
            "[PAGE NO : 11] [ARTICLES FOUND: 16]\n",
            "[PAGE NO : 12] [ARTICLES FOUND: 16]\n",
            "[PAGE NO : 13] [ARTICLES FOUND: 16]\n",
            "[PAGE NO : 14] [ARTICLES FOUND: 16]\n",
            "[PAGE NO : 15] [ARTICLES FOUND: 16]\n",
            "[PAGE NO : 16] [ARTICLES FOUND: 11]\n",
            "[PAGE NO : 17] [ARTICLES FOUND: 1]\n",
            "[PAGE NO : 18] [ARTICLES FOUND: 1]\n",
            "[PAGE NO : 19] [ARTICLES FOUND: 1]\n",
            "[PAGE NO : 20] [ARTICLES FOUND: 1]\n",
            "[Website: www.diepresse.com] [Keyword: dsgvo] [Time Taken: 2775.36 sec]\n",
            "   year Number of Related News\n",
            "0  2017                      5\n",
            "1  2018                     76\n",
            "2  2019                     46\n",
            "3  2020                     33\n",
            "4  2021                     44\n",
            "5  2022                     27\n",
            "[PAGE NO : 1] [ARTICLES FOUND: 12]\n",
            "[PAGE NO : 2] [ARTICLES FOUND: 12]\n",
            "[PAGE NO : 3] [ARTICLES FOUND: 3]\n",
            "[PAGE NO : 4] [NO MORE ARTICLES FOUND]\n",
            "[Website: www.wienerzeitung.at] [Keyword: datenschutz] [Time Taken: 2785.22 sec]\n",
            "   year Number of Related News\n",
            "0  2017                      0\n",
            "1  2018                      0\n",
            "2  2019                      0\n",
            "3  2020                      0\n",
            "4  2021                      0\n",
            "5  2022                     27\n",
            "[PAGE NO : 1] [ARTICLES FOUND: 15]\n",
            "[PAGE NO : 2] [ARTICLES FOUND: 15]\n",
            "[PAGE NO : 3] [ARTICLES FOUND: 15]\n",
            "[PAGE NO : 4] [ARTICLES FOUND: 15]\n",
            "[PAGE NO : 5] [ARTICLES FOUND: 15]\n",
            "[PAGE NO : 6] [ARTICLES FOUND: 15]\n",
            "[PAGE NO : 7] [ARTICLES FOUND: 15]\n",
            "[PAGE NO : 8] [ARTICLES FOUND: 15]\n",
            "[PAGE NO : 9] [ARTICLES FOUND: 15]\n",
            "[PAGE NO : 10] [ARTICLES FOUND: 15]\n",
            "[PAGE NO : 11] [ARTICLES FOUND: 15]\n",
            "[PAGE NO : 12] [ARTICLES FOUND: 15]\n",
            "[PAGE NO : 13] [ARTICLES FOUND: 15]\n",
            "[PAGE NO : 14] [ARTICLES FOUND: 15]\n",
            "[PAGE NO : 15] [ARTICLES FOUND: 15]\n",
            "[PAGE NO : 16] [ARTICLES FOUND: 15]\n",
            "[PAGE NO : 17] [ARTICLES FOUND: 15]\n",
            "[PAGE NO : 18] [ARTICLES FOUND: 15]\n",
            "[PAGE NO : 19] [ARTICLES FOUND: 15]\n",
            "[PAGE NO : 20] [ARTICLES FOUND: 15]\n",
            "[Website: www.kleinezeitung.at] [Keyword: datenschutz] [Time Taken: 2800.01 sec]\n",
            "   year Number of Related News\n",
            "0  2017                      0\n",
            "1  2018                      0\n",
            "2  2019                      0\n",
            "3  2020                      0\n",
            "4  2021                    224\n",
            "5  2022                     76\n",
            "[PAGE NO : 1] [ARTICLES FOUND: 15]\n",
            "[PAGE NO : 2] [ARTICLES FOUND: 15]\n",
            "[PAGE NO : 3] [ARTICLES FOUND: 15]\n",
            "[PAGE NO : 4] [ARTICLES FOUND: 15]\n",
            "[PAGE NO : 5] [ARTICLES FOUND: 15]\n",
            "[PAGE NO : 6] [ARTICLES FOUND: 15]\n",
            "[PAGE NO : 7] [ARTICLES FOUND: 15]\n",
            "[PAGE NO : 8] [ARTICLES FOUND: 15]\n",
            "[PAGE NO : 9] [ARTICLES FOUND: 15]\n",
            "[PAGE NO : 10] [ARTICLES FOUND: 15]\n",
            "[PAGE NO : 11] [ARTICLES FOUND: 15]\n",
            "[PAGE NO : 12] [ARTICLES FOUND: 15]\n",
            "[PAGE NO : 13] [ARTICLES FOUND: 15]\n",
            "[PAGE NO : 14] [ARTICLES FOUND: 15]\n",
            "[PAGE NO : 15] [ARTICLES FOUND: 15]\n",
            "[PAGE NO : 16] [ARTICLES FOUND: 15]\n",
            "[PAGE NO : 17] [ARTICLES FOUND: 15]\n",
            "[PAGE NO : 18] [ARTICLES FOUND: 15]\n",
            "[PAGE NO : 19] [ARTICLES FOUND: 15]\n",
            "[PAGE NO : 20] [ARTICLES FOUND: 15]\n",
            "[Website: www.diepresse.com] [Keyword: datenschutz] [Time Taken: 2907.66 sec]\n",
            "   year Number of Related News\n",
            "0  2017                      0\n",
            "1  2018                      0\n",
            "2  2019                      0\n",
            "3  2020                      0\n",
            "4  2021                    214\n",
            "5  2022                     86\n",
            "[PAGE NO : 1] [ARTICLES FOUND: 12]\n",
            "[PAGE NO : 2] [ARTICLES FOUND: 9]\n",
            "[PAGE NO : 3] [NO MORE ARTICLES FOUND]\n",
            "[Website: www.wienerzeitung.at] [Keyword: web tracking] [Time Taken: 2916.18 sec]\n",
            "   year Number of Related News\n",
            "0  2017                      0\n",
            "1  2018                      0\n",
            "2  2019                      0\n",
            "3  2020                      0\n",
            "4  2021                      0\n",
            "5  2022                     21\n",
            "[PAGE NO : 1] [ARTICLES FOUND: 6]\n",
            "[PAGE NO : 2] [NO MORE ARTICLES FOUND]\n",
            "[Website: www.kleinezeitung.at] [Keyword: web tracking] [Time Taken: 2915.21 sec]\n",
            "   year Number of Related News\n",
            "0  2017                      1\n",
            "1  2018                      0\n",
            "2  2019                      0\n",
            "3  2020                      1\n",
            "4  2021                      2\n",
            "5  2022                      1\n",
            "[PAGE NO : 1] [ARTICLES FOUND: 15]\n",
            "[PAGE NO : 2] [ARTICLES FOUND: 5]\n",
            "[PAGE NO : 3] [NO MORE ARTICLES FOUND]\n",
            "[Website: www.diepresse.com] [Keyword: web tracking] [Time Taken: 2919.72 sec]\n",
            "   year Number of Related News\n",
            "0  2017                      1\n",
            "1  2018                      1\n",
            "2  2019                      4\n",
            "3  2020                      3\n",
            "4  2021                      4\n",
            "5  2022                      1\n",
            "[PAGE NO : 1] [ARTICLES FOUND: 11]\n",
            "[PAGE NO : 2] [ARTICLES FOUND: 10]\n",
            "[PAGE NO : 3] [ARTICLES FOUND: 12]\n",
            "[PAGE NO : 4] [ARTICLES FOUND: 12]\n",
            "[PAGE NO : 5] [ARTICLES FOUND: 12]\n",
            "[PAGE NO : 6] [ARTICLES FOUND: 12]\n",
            "[PAGE NO : 7] [ARTICLES FOUND: 12]\n",
            "[PAGE NO : 8] [ARTICLES FOUND: 12]\n",
            "[PAGE NO : 9] [ARTICLES FOUND: 12]\n",
            "[PAGE NO : 10] [ARTICLES FOUND: 12]\n",
            "[PAGE NO : 11] [ARTICLES FOUND: 12]\n",
            "[PAGE NO : 12] [ARTICLES FOUND: 12]\n",
            "[PAGE NO : 13] [ARTICLES FOUND: 12]\n",
            "[PAGE NO : 14] [ARTICLES FOUND: 12]\n",
            "[PAGE NO : 15] [ARTICLES FOUND: 12]\n",
            "[PAGE NO : 16] [ARTICLES FOUND: 12]\n",
            "[PAGE NO : 17] [ARTICLES FOUND: 12]\n",
            "[PAGE NO : 18] [ARTICLES FOUND: 12]\n",
            "[PAGE NO : 19] [ARTICLES FOUND: 12]\n",
            "[PAGE NO : 20] [ARTICLES FOUND: 12]\n",
            "[Website: www.wienerzeitung.at] [Keyword: online tracking] [Time Taken: 2945.31 sec]\n",
            "   year Number of Related News\n",
            "0  2017                      0\n",
            "1  2018                      0\n",
            "2  2019                      0\n",
            "3  2020                      0\n",
            "4  2021                      0\n",
            "5  2022                    237\n",
            "[PAGE NO : 1] [ARTICLES FOUND: 15]\n",
            "[PAGE NO : 2] [ARTICLES FOUND: 15]\n",
            "[PAGE NO : 3] [ARTICLES FOUND: 8]\n",
            "[PAGE NO : 4] [NO MORE ARTICLES FOUND]\n",
            "[Website: www.kleinezeitung.at] [Keyword: online tracking] [Time Taken: 2946.01 sec]\n",
            "   year Number of Related News\n",
            "0  2017                      2\n",
            "1  2018                      2\n",
            "2  2019                      2\n",
            "3  2020                     17\n",
            "4  2021                     10\n",
            "5  2022                      2\n",
            "[PAGE NO : 1] [ARTICLES FOUND: 15]\n",
            "[PAGE NO : 2] [ARTICLES FOUND: 15]\n",
            "[PAGE NO : 3] [ARTICLES FOUND: 15]\n",
            "[PAGE NO : 4] [ARTICLES FOUND: 9]\n",
            "[PAGE NO : 5] [NO MORE ARTICLES FOUND]\n",
            "[Website: www.diepresse.com] [Keyword: online tracking] [Time Taken: 2970.84 sec]\n",
            "   year Number of Related News\n",
            "0  2017                      4\n",
            "1  2018                      0\n",
            "2  2019                      6\n",
            "3  2020                      5\n",
            "4  2021                     16\n",
            "5  2022                      5\n",
            "[PAGE NO : 1] [ARTICLES FOUND: 12]\n",
            "[PAGE NO : 2] [ARTICLES FOUND: 11]\n",
            "[PAGE NO : 3] [ARTICLES FOUND: 12]\n",
            "[PAGE NO : 4] [ARTICLES FOUND: 12]\n",
            "[PAGE NO : 5] [ARTICLES FOUND: 12]\n",
            "[PAGE NO : 6] [ARTICLES FOUND: 2]\n",
            "[PAGE NO : 7] [NO MORE ARTICLES FOUND]\n",
            "[Website: www.wienerzeitung.at] [Keyword: digital analytics] [Time Taken: 2983.27 sec]\n",
            "   year Number of Related News\n",
            "0  2017                      0\n",
            "1  2018                      0\n",
            "2  2019                      0\n",
            "3  2020                      0\n",
            "4  2021                      0\n",
            "5  2022                     61\n",
            "[PAGE NO : 1] [ARTICLES FOUND: 15]\n",
            "[PAGE NO : 2] [ARTICLES FOUND: 8]\n",
            "[PAGE NO : 3] [NO MORE ARTICLES FOUND]\n",
            "[Website: www.kleinezeitung.at] [Keyword: digital analytics] [Time Taken: 2983.06 sec]\n",
            "   year Number of Related News\n",
            "0  2017                      2\n",
            "1  2018                      6\n",
            "2  2019                      1\n",
            "3  2020                      5\n",
            "4  2021                      4\n",
            "5  2022                      1\n",
            "[PAGE NO : 1] [ARTICLES FOUND: 15]\n",
            "[PAGE NO : 2] [ARTICLES FOUND: 15]\n",
            "[PAGE NO : 3] [ARTICLES FOUND: 15]\n",
            "[PAGE NO : 4] [ARTICLES FOUND: 15]\n",
            "[PAGE NO : 5] [ARTICLES FOUND: 15]\n",
            "[PAGE NO : 6] [ARTICLES FOUND: 6]\n",
            "[PAGE NO : 7] [NO MORE ARTICLES FOUND]\n",
            "[Website: www.diepresse.com] [Keyword: digital analytics] [Time Taken: 3007.31 sec]\n",
            "   year Number of Related News\n",
            "0  2017                     12\n",
            "1  2018                     15\n",
            "2  2019                     16\n",
            "3  2020                      9\n",
            "4  2021                     19\n",
            "5  2022                      3\n",
            "[PAGE NO : 1] [ARTICLES FOUND: 5]\n",
            "[PAGE NO : 2] [NO MORE ARTICLES FOUND]\n",
            "[Website: www.wienerzeitung.at] [Keyword: data protection authorities] [Time Taken: 3014.57 sec]\n",
            "   year Number of Related News\n",
            "0  2017                      0\n",
            "1  2018                      0\n",
            "2  2019                      0\n",
            "3  2020                      0\n",
            "4  2021                      0\n",
            "5  2022                      5\n",
            "[PAGE NO : 1] [NO MORE ARTICLES FOUND]\n",
            "[Website: www.kleinezeitung.at] [Keyword: data protection authorities] [Time Taken: 3012.51 sec]\n",
            "   year Number of Related News\n",
            "0  2017                      0\n",
            "1  2018                      0\n",
            "2  2019                      0\n",
            "3  2020                      0\n",
            "4  2021                      0\n",
            "5  2022                      0\n",
            "[PAGE NO : 1] [NO MORE ARTICLES FOUND]\n",
            "[Website: www.diepresse.com] [Keyword: data protection authorities] [Time Taken: 3011.29 sec]\n",
            "   year Number of Related News\n",
            "0  2017                      0\n",
            "1  2018                      0\n",
            "2  2019                      0\n",
            "3  2020                      0\n",
            "4  2021                      0\n",
            "5  2022                      0\n"
          ]
        }
      ]
    },
    {
      "cell_type": "code",
      "source": [
        "PT_keyword_list = [\"gdpr\", \"Lei n 58 2019\", \"privacidade\", \"web tracking\", \"online tracking\", \"digital analytics\", \"data protection authorities\"]\n",
        "\n",
        "for keyword in PT_keyword_list:\n",
        "    print(portugal1observador(keyword))\n",
        "    print(portugal2dn(keyword))\n",
        "    print(portugal3dnoticias(keyword))"
      ],
      "metadata": {
        "colab": {
          "base_uri": "https://localhost:8080/"
        },
        "id": "iuNeX0gSeEoT",
        "outputId": "44033a7a-0852-49d2-86b6-1a737848692f"
      },
      "execution_count": null,
      "outputs": [
        {
          "output_type": "stream",
          "name": "stdout",
          "text": [
            "[WEBSITE: OBSERVADOR]\n",
            "[PAGE NO : 1] [ARTICLES FOUND: 20]\n"
          ]
        },
        {
          "output_type": "stream",
          "name": "stderr",
          "text": [
            "/usr/local/lib/python3.7/dist-packages/ipykernel_launcher.py:21: DeprecationWarning: find_element_by_xpath is deprecated. Please use find_element(by=By.XPATH, value=xpath) instead\n"
          ]
        },
        {
          "output_type": "stream",
          "name": "stdout",
          "text": [
            "[PAGE NO : 2] [ARTICLES FOUND: 20]\n",
            "[PAGE NO : 3] [ARTICLES FOUND: 20]\n",
            "[PAGE NO : 4] [ARTICLES FOUND: 20]\n",
            "[PAGE NO : 5] [ARTICLES FOUND: 20]\n",
            "[PAGE NO : 6] [ARTICLES FOUND: 20]\n",
            "[PAGE NO : 7] [ARTICLES FOUND: 20]\n",
            "[PAGE NO : 8] [ARTICLES FOUND: 20]\n",
            "[PAGE NO : 9] [ARTICLES FOUND: 20]\n",
            "[PAGE NO : 10] [ARTICLES FOUND: 20]\n",
            "[PAGE NO : 11] [ARTICLES FOUND: 20]\n",
            "[PAGE NO : 12] [ARTICLES FOUND: 20]\n",
            "[PAGE NO : 13] [ARTICLES FOUND: 20]\n",
            "[PAGE NO : 14] [ARTICLES FOUND: 20]\n",
            "[PAGE NO : 15] [ARTICLES FOUND: 20]\n",
            "[PAGE NO : 16] [ARTICLES FOUND: 20]\n",
            "[PAGE NO : 17] [ARTICLES FOUND: 20]\n",
            "[PAGE NO : 18] [ARTICLES FOUND: 20]\n",
            "[PAGE NO : 19] [ARTICLES FOUND: 20]\n",
            "[PAGE NO : 20] [ARTICLES FOUND: 20]\n",
            "   year Number of Related News\n",
            "0  2017                     20\n",
            "1  2018                     60\n",
            "2  2019                      0\n",
            "3  2020                     80\n",
            "4  2021                     60\n",
            "5  2022                     20\n",
            "[WEBSITE: DN]\n",
            "[PAGE NO : 1] [ARTICLES FOUND: 8]\n"
          ]
        },
        {
          "output_type": "stream",
          "name": "stderr",
          "text": [
            "/usr/local/lib/python3.7/dist-packages/ipykernel_launcher.py:22: DeprecationWarning: find_element_by_xpath is deprecated. Please use find_element(by=By.XPATH, value=xpath) instead\n"
          ]
        },
        {
          "output_type": "stream",
          "name": "stdout",
          "text": [
            "[PAGE NO : 2] [ARTICLES FOUND: 8]\n",
            "[PAGE NO : 3] [ARTICLES FOUND: 8]\n",
            "[PAGE NO : 4] [ARTICLES FOUND: 8]\n",
            "[PAGE NO : 5] [ARTICLES FOUND: 8]\n",
            "[PAGE NO : 6] [ARTICLES FOUND: 8]\n",
            "[PAGE NO : 7] [ARTICLES FOUND: 8]\n",
            "[PAGE NO : 8] [ARTICLES FOUND: 8]\n",
            "[PAGE NO : 9] [ARTICLES FOUND: 8]\n",
            "[PAGE NO : 10] [ARTICLES FOUND: 8]\n",
            "[PAGE NO : 11] [ARTICLES FOUND: 8]\n",
            "[PAGE NO : 12] [ARTICLES FOUND: 8]\n",
            "[PAGE NO : 13] [ARTICLES FOUND: 8]\n",
            "[PAGE NO : 14] [ARTICLES FOUND: 8]\n",
            "[PAGE NO : 15] [ARTICLES FOUND: 8]\n",
            "[PAGE NO : 16] [ARTICLES FOUND: 8]\n",
            "[PAGE NO : 17] [ARTICLES FOUND: 8]\n",
            "[PAGE NO : 18] [ARTICLES FOUND: 8]\n",
            "[PAGE NO : 19] [ARTICLES FOUND: 8]\n",
            "[PAGE NO : 20] [ARTICLES FOUND: 8]\n",
            "   year Number of Related News\n",
            "0  2017                     40\n",
            "1  2018                     60\n",
            "2  2019                     20\n",
            "3  2020                      0\n",
            "4  2021                     20\n",
            "5  2022                      0\n",
            "[PAGE NO : 1] [ARTICLES FOUND: 3]\n",
            "[PAGE NO : 2] [NO MORE ARTICLES FOUND]\n",
            "[Website: pesquisa.dnoticias.pt] [Keyword: gdpr] [Time Taken: 9357.29 sec]\n",
            "   year Number of Related News\n",
            "0  2017                      0\n",
            "1  2018                      0\n",
            "2  2019                      0\n",
            "3  2020                      2\n",
            "4  2021                      1\n",
            "5  2022                      0\n",
            "[WEBSITE: OBSERVADOR]\n",
            "[PAGE NO : 1] [ARTICLES FOUND: 20]\n"
          ]
        },
        {
          "output_type": "stream",
          "name": "stderr",
          "text": [
            "/usr/local/lib/python3.7/dist-packages/ipykernel_launcher.py:21: DeprecationWarning: find_element_by_xpath is deprecated. Please use find_element(by=By.XPATH, value=xpath) instead\n"
          ]
        },
        {
          "output_type": "stream",
          "name": "stdout",
          "text": [
            "[PAGE NO : 2] [ARTICLES FOUND: 20]\n",
            "[PAGE NO : 3] [ARTICLES FOUND: 20]\n",
            "[PAGE NO : 4] [ARTICLES FOUND: 20]\n",
            "[PAGE NO : 5] [ARTICLES FOUND: 20]\n",
            "[PAGE NO : 6] [ARTICLES FOUND: 20]\n",
            "[PAGE NO : 7] [ARTICLES FOUND: 20]\n",
            "[PAGE NO : 8] [ARTICLES FOUND: 20]\n",
            "[PAGE NO : 9] [ARTICLES FOUND: 20]\n",
            "[PAGE NO : 10] [ARTICLES FOUND: 20]\n",
            "[PAGE NO : 11] [ARTICLES FOUND: 20]\n",
            "[PAGE NO : 12] [ARTICLES FOUND: 20]\n",
            "[PAGE NO : 13] [ARTICLES FOUND: 20]\n",
            "[PAGE NO : 14] [ARTICLES FOUND: 20]\n",
            "[PAGE NO : 15] [ARTICLES FOUND: 20]\n",
            "[PAGE NO : 16] [ARTICLES FOUND: 20]\n",
            "[PAGE NO : 17] [ARTICLES FOUND: 20]\n",
            "[PAGE NO : 18] [ARTICLES FOUND: 20]\n",
            "[PAGE NO : 19] [ARTICLES FOUND: 20]\n",
            "[PAGE NO : 20] [ARTICLES FOUND: 20]\n",
            "   year Number of Related News\n",
            "0  2017                      0\n",
            "1  2018                      0\n",
            "2  2019                     60\n",
            "3  2020                     20\n",
            "4  2021                     20\n",
            "5  2022                      0\n",
            "[WEBSITE: DN]\n",
            "[PAGE NO : 1] [ARTICLES FOUND: 10]\n"
          ]
        },
        {
          "output_type": "stream",
          "name": "stderr",
          "text": [
            "/usr/local/lib/python3.7/dist-packages/ipykernel_launcher.py:22: DeprecationWarning: find_element_by_xpath is deprecated. Please use find_element(by=By.XPATH, value=xpath) instead\n"
          ]
        },
        {
          "output_type": "stream",
          "name": "stdout",
          "text": [
            "[PAGE NO : 2] [ARTICLES FOUND: 10]\n",
            "[PAGE NO : 3] [ARTICLES FOUND: 10]\n",
            "[PAGE NO : 4] [ARTICLES FOUND: 10]\n",
            "[PAGE NO : 5] [ARTICLES FOUND: 10]\n",
            "[PAGE NO : 6] [ARTICLES FOUND: 10]\n",
            "[PAGE NO : 7] [ARTICLES FOUND: 10]\n",
            "[PAGE NO : 8] [ARTICLES FOUND: 10]\n",
            "[PAGE NO : 9] [ARTICLES FOUND: 10]\n",
            "[PAGE NO : 10] [ARTICLES FOUND: 10]\n",
            "[PAGE NO : 11] [ARTICLES FOUND: 10]\n",
            "[PAGE NO : 12] [ARTICLES FOUND: 10]\n",
            "[PAGE NO : 13] [ARTICLES FOUND: 10]\n",
            "[PAGE NO : 14] [ARTICLES FOUND: 10]\n",
            "[PAGE NO : 15] [ARTICLES FOUND: 10]\n",
            "[PAGE NO : 16] [ARTICLES FOUND: 10]\n",
            "[PAGE NO : 17] [ARTICLES FOUND: 10]\n",
            "[PAGE NO : 18] [ARTICLES FOUND: 10]\n",
            "[PAGE NO : 19] [ARTICLES FOUND: 10]\n",
            "[PAGE NO : 20] [ARTICLES FOUND: 10]\n",
            "   year Number of Related News\n",
            "0  2017                      0\n",
            "1  2018                     20\n",
            "2  2019                    140\n",
            "3  2020                     20\n",
            "4  2021                     20\n",
            "5  2022                      0\n",
            "[PAGE NO : 1] [ARTICLES FOUND: 10]\n",
            "[PAGE NO : 2] [ARTICLES FOUND: 10]\n",
            "[PAGE NO : 3] [ARTICLES FOUND: 10]\n",
            "[PAGE NO : 4] [ARTICLES FOUND: 10]\n",
            "[PAGE NO : 5] [ARTICLES FOUND: 10]\n",
            "[PAGE NO : 6] [ARTICLES FOUND: 10]\n",
            "[PAGE NO : 7] [ARTICLES FOUND: 10]\n",
            "[PAGE NO : 8] [ARTICLES FOUND: 10]\n",
            "[PAGE NO : 9] [ARTICLES FOUND: 10]\n",
            "[PAGE NO : 10] [ARTICLES FOUND: 10]\n",
            "[PAGE NO : 11] [ARTICLES FOUND: 10]\n",
            "[PAGE NO : 12] [ARTICLES FOUND: 10]\n",
            "[PAGE NO : 13] [ARTICLES FOUND: 10]\n",
            "[PAGE NO : 14] [ARTICLES FOUND: 10]\n",
            "[PAGE NO : 15] [ARTICLES FOUND: 10]\n",
            "[PAGE NO : 16] [ARTICLES FOUND: 10]\n",
            "[PAGE NO : 17] [ARTICLES FOUND: 10]\n",
            "[PAGE NO : 18] [ARTICLES FOUND: 10]\n",
            "[PAGE NO : 19] [ARTICLES FOUND: 10]\n",
            "[PAGE NO : 20] [ARTICLES FOUND: 10]\n",
            "[Website: pesquisa.dnoticias.pt] [Keyword: Lei n 58 2019] [Time Taken: 9805.09 sec]\n",
            "   year Number of Related News\n",
            "0  2017                      0\n",
            "1  2018                      0\n",
            "2  2019                      0\n",
            "3  2020                      0\n",
            "4  2021                      0\n",
            "5  2022                    200\n",
            "[WEBSITE: OBSERVADOR]\n",
            "[PAGE NO : 1] [ARTICLES FOUND: 20]\n"
          ]
        },
        {
          "output_type": "stream",
          "name": "stderr",
          "text": [
            "/usr/local/lib/python3.7/dist-packages/ipykernel_launcher.py:21: DeprecationWarning: find_element_by_xpath is deprecated. Please use find_element(by=By.XPATH, value=xpath) instead\n"
          ]
        },
        {
          "output_type": "stream",
          "name": "stdout",
          "text": [
            "[PAGE NO : 2] [ARTICLES FOUND: 20]\n",
            "[PAGE NO : 3] [ARTICLES FOUND: 20]\n",
            "[PAGE NO : 4] [ARTICLES FOUND: 20]\n",
            "[PAGE NO : 5] [ARTICLES FOUND: 20]\n",
            "[PAGE NO : 6] [ARTICLES FOUND: 20]\n",
            "[PAGE NO : 7] [ARTICLES FOUND: 20]\n",
            "[PAGE NO : 8] [ARTICLES FOUND: 20]\n",
            "[PAGE NO : 9] [ARTICLES FOUND: 20]\n",
            "[PAGE NO : 10] [ARTICLES FOUND: 20]\n",
            "[PAGE NO : 11] [ARTICLES FOUND: 20]\n",
            "[PAGE NO : 12] [ARTICLES FOUND: 20]\n",
            "[PAGE NO : 13] [ARTICLES FOUND: 20]\n",
            "[PAGE NO : 14] [ARTICLES FOUND: 20]\n",
            "[PAGE NO : 15] [ARTICLES FOUND: 20]\n",
            "[PAGE NO : 16] [ARTICLES FOUND: 20]\n",
            "[PAGE NO : 17] [ARTICLES FOUND: 20]\n",
            "[PAGE NO : 18] [ARTICLES FOUND: 20]\n",
            "[PAGE NO : 19] [ARTICLES FOUND: 20]\n",
            "[PAGE NO : 20] [ARTICLES FOUND: 20]\n",
            "   year Number of Related News\n",
            "0  2017                     20\n",
            "1  2018                      0\n",
            "2  2019                     20\n",
            "3  2020                     20\n",
            "4  2021                     80\n",
            "5  2022                      0\n",
            "[WEBSITE: DN]\n",
            "[PAGE NO : 1] [ARTICLES FOUND: 10]\n"
          ]
        },
        {
          "output_type": "stream",
          "name": "stderr",
          "text": [
            "/usr/local/lib/python3.7/dist-packages/ipykernel_launcher.py:22: DeprecationWarning: find_element_by_xpath is deprecated. Please use find_element(by=By.XPATH, value=xpath) instead\n"
          ]
        },
        {
          "output_type": "stream",
          "name": "stdout",
          "text": [
            "[PAGE NO : 2] [ARTICLES FOUND: 10]\n",
            "[PAGE NO : 3] [ARTICLES FOUND: 10]\n",
            "[PAGE NO : 4] [ARTICLES FOUND: 10]\n",
            "[PAGE NO : 5] [ARTICLES FOUND: 10]\n",
            "[PAGE NO : 6] [ARTICLES FOUND: 10]\n",
            "[PAGE NO : 7] [ARTICLES FOUND: 10]\n",
            "[PAGE NO : 8] [ARTICLES FOUND: 10]\n",
            "[PAGE NO : 9] [ARTICLES FOUND: 10]\n",
            "[PAGE NO : 10] [ARTICLES FOUND: 10]\n",
            "[PAGE NO : 11] [ARTICLES FOUND: 10]\n",
            "[PAGE NO : 12] [ARTICLES FOUND: 10]\n",
            "[PAGE NO : 13] [ARTICLES FOUND: 10]\n",
            "[PAGE NO : 14] [ARTICLES FOUND: 10]\n",
            "[PAGE NO : 15] [ARTICLES FOUND: 10]\n",
            "[PAGE NO : 16] [ARTICLES FOUND: 10]\n",
            "[PAGE NO : 17] [ARTICLES FOUND: 10]\n",
            "[PAGE NO : 18] [ARTICLES FOUND: 10]\n",
            "[PAGE NO : 19] [ARTICLES FOUND: 10]\n",
            "[PAGE NO : 20] [ARTICLES FOUND: 10]\n",
            "   year Number of Related News\n",
            "0  2017                     20\n",
            "1  2018                     20\n",
            "2  2019                     20\n",
            "3  2020                      0\n",
            "4  2021                     20\n",
            "5  2022                     40\n",
            "[PAGE NO : 1] [ARTICLES FOUND: 10]\n",
            "[PAGE NO : 2] [ARTICLES FOUND: 10]\n",
            "[PAGE NO : 3] [ARTICLES FOUND: 10]\n",
            "[PAGE NO : 4] [ARTICLES FOUND: 10]\n",
            "[PAGE NO : 5] [ARTICLES FOUND: 10]\n",
            "[PAGE NO : 6] [ARTICLES FOUND: 10]\n",
            "[PAGE NO : 7] [ARTICLES FOUND: 10]\n",
            "[PAGE NO : 8] [ARTICLES FOUND: 10]\n",
            "[PAGE NO : 9] [ARTICLES FOUND: 10]\n",
            "[PAGE NO : 10] [ARTICLES FOUND: 10]\n",
            "[PAGE NO : 11] [ARTICLES FOUND: 10]\n",
            "[PAGE NO : 12] [ARTICLES FOUND: 10]\n",
            "[PAGE NO : 13] [ARTICLES FOUND: 10]\n",
            "[PAGE NO : 14] [ARTICLES FOUND: 10]\n",
            "[PAGE NO : 15] [ARTICLES FOUND: 10]\n",
            "[PAGE NO : 16] [ARTICLES FOUND: 10]\n",
            "[PAGE NO : 17] [ARTICLES FOUND: 10]\n",
            "[PAGE NO : 18] [ARTICLES FOUND: 10]\n",
            "[PAGE NO : 19] [ARTICLES FOUND: 10]\n",
            "[PAGE NO : 20] [ARTICLES FOUND: 10]\n",
            "[Website: pesquisa.dnoticias.pt] [Keyword: privacidade] [Time Taken: 10252.24 sec]\n",
            "   year Number of Related News\n",
            "0  2017                      0\n",
            "1  2018                      7\n",
            "2  2019                      0\n",
            "3  2020                     61\n",
            "4  2021                    101\n",
            "5  2022                     31\n",
            "[WEBSITE: OBSERVADOR]\n",
            "[PAGE NO : 1] [ARTICLES FOUND: 20]\n"
          ]
        },
        {
          "output_type": "stream",
          "name": "stderr",
          "text": [
            "/usr/local/lib/python3.7/dist-packages/ipykernel_launcher.py:21: DeprecationWarning: find_element_by_xpath is deprecated. Please use find_element(by=By.XPATH, value=xpath) instead\n"
          ]
        },
        {
          "output_type": "stream",
          "name": "stdout",
          "text": [
            "[PAGE NO : 2] [ARTICLES FOUND: 20]\n",
            "[PAGE NO : 3] [ARTICLES FOUND: 20]\n",
            "[PAGE NO : 4] [ARTICLES FOUND: 20]\n",
            "[PAGE NO : 5] [ARTICLES FOUND: 20]\n",
            "[PAGE NO : 6] [ARTICLES FOUND: 20]\n",
            "[PAGE NO : 7] [ARTICLES FOUND: 20]\n",
            "[PAGE NO : 8] [ARTICLES FOUND: 20]\n",
            "[PAGE NO : 9] [ARTICLES FOUND: 20]\n",
            "[PAGE NO : 10] [ARTICLES FOUND: 20]\n",
            "[PAGE NO : 11] [ARTICLES FOUND: 20]\n",
            "[PAGE NO : 12] [ARTICLES FOUND: 20]\n",
            "[PAGE NO : 13] [ARTICLES FOUND: 20]\n",
            "[PAGE NO : 14] [ARTICLES FOUND: 20]\n",
            "[PAGE NO : 15] [ARTICLES FOUND: 20]\n",
            "[PAGE NO : 16] [ARTICLES FOUND: 20]\n",
            "[PAGE NO : 17] [ARTICLES FOUND: 20]\n",
            "[PAGE NO : 18] [ARTICLES FOUND: 20]\n",
            "[PAGE NO : 19] [ARTICLES FOUND: 20]\n",
            "[PAGE NO : 20] [ARTICLES FOUND: 20]\n",
            "   year Number of Related News\n",
            "0  2017                     20\n",
            "1  2018                     40\n",
            "2  2019                      0\n",
            "3  2020                      0\n",
            "4  2021                      0\n",
            "5  2022                     20\n",
            "[WEBSITE: DN]\n",
            "[PAGE NO : 1] [ARTICLES FOUND: 10]\n"
          ]
        },
        {
          "output_type": "stream",
          "name": "stderr",
          "text": [
            "/usr/local/lib/python3.7/dist-packages/ipykernel_launcher.py:22: DeprecationWarning: find_element_by_xpath is deprecated. Please use find_element(by=By.XPATH, value=xpath) instead\n"
          ]
        },
        {
          "output_type": "stream",
          "name": "stdout",
          "text": [
            "[PAGE NO : 2] [ARTICLES FOUND: 10]\n",
            "[PAGE NO : 3] [ARTICLES FOUND: 10]\n",
            "[PAGE NO : 4] [ARTICLES FOUND: 10]\n",
            "[PAGE NO : 5] [ARTICLES FOUND: 10]\n",
            "[PAGE NO : 6] [ARTICLES FOUND: 10]\n",
            "[PAGE NO : 7] [ARTICLES FOUND: 10]\n",
            "[PAGE NO : 8] [ARTICLES FOUND: 10]\n",
            "[PAGE NO : 9] [ARTICLES FOUND: 10]\n",
            "[PAGE NO : 10] [ARTICLES FOUND: 10]\n",
            "[PAGE NO : 11] [ARTICLES FOUND: 10]\n",
            "[PAGE NO : 12] [ARTICLES FOUND: 10]\n",
            "[PAGE NO : 13] [ARTICLES FOUND: 10]\n",
            "[PAGE NO : 14] [ARTICLES FOUND: 10]\n",
            "[PAGE NO : 15] [ARTICLES FOUND: 10]\n",
            "[PAGE NO : 16] [ARTICLES FOUND: 10]\n",
            "[PAGE NO : 17] [ARTICLES FOUND: 10]\n",
            "[PAGE NO : 18] [ARTICLES FOUND: 10]\n",
            "[PAGE NO : 19] [ARTICLES FOUND: 10]\n",
            "[PAGE NO : 20] [ARTICLES FOUND: 10]\n",
            "   year Number of Related News\n",
            "0  2017                      0\n",
            "1  2018                     20\n",
            "2  2019                      0\n",
            "3  2020                     20\n",
            "4  2021                     40\n",
            "5  2022                      0\n",
            "[PAGE NO : 1] [ARTICLES FOUND: 10]\n",
            "[PAGE NO : 2] [ARTICLES FOUND: 10]\n",
            "[PAGE NO : 3] [ARTICLES FOUND: 10]\n",
            "[PAGE NO : 4] [ARTICLES FOUND: 10]\n",
            "[PAGE NO : 5] [ARTICLES FOUND: 10]\n",
            "[PAGE NO : 6] [ARTICLES FOUND: 10]\n",
            "[PAGE NO : 7] [ARTICLES FOUND: 10]\n",
            "[PAGE NO : 8] [ARTICLES FOUND: 10]\n",
            "[PAGE NO : 9] [ARTICLES FOUND: 10]\n",
            "[PAGE NO : 10] [ARTICLES FOUND: 10]\n",
            "[PAGE NO : 11] [ARTICLES FOUND: 10]\n",
            "[PAGE NO : 12] [ARTICLES FOUND: 10]\n",
            "[PAGE NO : 13] [ARTICLES FOUND: 10]\n",
            "[PAGE NO : 14] [ARTICLES FOUND: 10]\n",
            "[PAGE NO : 15] [ARTICLES FOUND: 10]\n",
            "[PAGE NO : 16] [ARTICLES FOUND: 10]\n",
            "[PAGE NO : 17] [ARTICLES FOUND: 10]\n",
            "[PAGE NO : 18] [ARTICLES FOUND: 10]\n",
            "[PAGE NO : 19] [ARTICLES FOUND: 10]\n",
            "[PAGE NO : 20] [ARTICLES FOUND: 10]\n",
            "[Website: pesquisa.dnoticias.pt] [Keyword: web tracking] [Time Taken: 10701.0 sec]\n",
            "   year Number of Related News\n",
            "0  2017                      0\n",
            "1  2018                     16\n",
            "2  2019                     48\n",
            "3  2020                     83\n",
            "4  2021                     31\n",
            "5  2022                     22\n",
            "[WEBSITE: OBSERVADOR]\n",
            "[PAGE NO : 1] [ARTICLES FOUND: 20]\n"
          ]
        },
        {
          "output_type": "stream",
          "name": "stderr",
          "text": [
            "/usr/local/lib/python3.7/dist-packages/ipykernel_launcher.py:21: DeprecationWarning: find_element_by_xpath is deprecated. Please use find_element(by=By.XPATH, value=xpath) instead\n"
          ]
        },
        {
          "output_type": "stream",
          "name": "stdout",
          "text": [
            "[PAGE NO : 2] [ARTICLES FOUND: 20]\n",
            "[PAGE NO : 3] [ARTICLES FOUND: 20]\n",
            "[PAGE NO : 4] [ARTICLES FOUND: 20]\n",
            "[PAGE NO : 5] [ARTICLES FOUND: 20]\n",
            "[PAGE NO : 6] [ARTICLES FOUND: 20]\n",
            "[PAGE NO : 7] [ARTICLES FOUND: 20]\n",
            "[PAGE NO : 8] [ARTICLES FOUND: 20]\n",
            "[PAGE NO : 9] [ARTICLES FOUND: 20]\n",
            "[PAGE NO : 10] [ARTICLES FOUND: 20]\n",
            "[PAGE NO : 11] [ARTICLES FOUND: 20]\n",
            "[PAGE NO : 12] [ARTICLES FOUND: 20]\n",
            "[PAGE NO : 13] [ARTICLES FOUND: 20]\n",
            "[PAGE NO : 14] [ARTICLES FOUND: 20]\n",
            "[PAGE NO : 15] [ARTICLES FOUND: 20]\n",
            "[PAGE NO : 16] [ARTICLES FOUND: 20]\n",
            "[PAGE NO : 17] [ARTICLES FOUND: 20]\n",
            "[PAGE NO : 18] [ARTICLES FOUND: 20]\n",
            "[PAGE NO : 19] [ARTICLES FOUND: 20]\n",
            "[PAGE NO : 20] [ARTICLES FOUND: 20]\n",
            "   year Number of Related News\n",
            "0  2017                     20\n",
            "1  2018                     40\n",
            "2  2019                     20\n",
            "3  2020                      0\n",
            "4  2021                     20\n",
            "5  2022                    100\n",
            "[WEBSITE: DN]\n",
            "[PAGE NO : 1] [ARTICLES FOUND: 10]\n"
          ]
        },
        {
          "output_type": "stream",
          "name": "stderr",
          "text": [
            "/usr/local/lib/python3.7/dist-packages/ipykernel_launcher.py:22: DeprecationWarning: find_element_by_xpath is deprecated. Please use find_element(by=By.XPATH, value=xpath) instead\n"
          ]
        },
        {
          "output_type": "stream",
          "name": "stdout",
          "text": [
            "[PAGE NO : 2] [ARTICLES FOUND: 10]\n",
            "[PAGE NO : 3] [ARTICLES FOUND: 10]\n",
            "[PAGE NO : 4] [ARTICLES FOUND: 10]\n",
            "[PAGE NO : 5] [ARTICLES FOUND: 10]\n",
            "[PAGE NO : 6] [ARTICLES FOUND: 10]\n",
            "[PAGE NO : 7] [ARTICLES FOUND: 10]\n",
            "[PAGE NO : 8] [ARTICLES FOUND: 10]\n",
            "[PAGE NO : 9] [ARTICLES FOUND: 10]\n",
            "[PAGE NO : 10] [ARTICLES FOUND: 10]\n",
            "[PAGE NO : 11] [ARTICLES FOUND: 10]\n",
            "[PAGE NO : 12] [ARTICLES FOUND: 10]\n",
            "[PAGE NO : 13] [ARTICLES FOUND: 10]\n",
            "[PAGE NO : 14] [ARTICLES FOUND: 10]\n",
            "[PAGE NO : 15] [ARTICLES FOUND: 10]\n",
            "[PAGE NO : 16] [ARTICLES FOUND: 10]\n",
            "[PAGE NO : 17] [ARTICLES FOUND: 10]\n",
            "[PAGE NO : 18] [ARTICLES FOUND: 10]\n",
            "[PAGE NO : 19] [ARTICLES FOUND: 10]\n",
            "[PAGE NO : 20] [ARTICLES FOUND: 10]\n",
            "   year Number of Related News\n",
            "0  2017                      0\n",
            "1  2018                      0\n",
            "2  2019                      0\n",
            "3  2020                     20\n",
            "4  2021                     20\n",
            "5  2022                      0\n",
            "[PAGE NO : 1] [ARTICLES FOUND: 10]\n",
            "[PAGE NO : 2] [ARTICLES FOUND: 10]\n",
            "[PAGE NO : 3] [ARTICLES FOUND: 10]\n",
            "[PAGE NO : 4] [ARTICLES FOUND: 10]\n",
            "[PAGE NO : 5] [ARTICLES FOUND: 10]\n",
            "[PAGE NO : 6] [ARTICLES FOUND: 10]\n",
            "[PAGE NO : 7] [ARTICLES FOUND: 10]\n",
            "[PAGE NO : 8] [ARTICLES FOUND: 10]\n",
            "[PAGE NO : 9] [ARTICLES FOUND: 10]\n",
            "[PAGE NO : 10] [ARTICLES FOUND: 10]\n",
            "[PAGE NO : 11] [ARTICLES FOUND: 10]\n",
            "[PAGE NO : 12] [ARTICLES FOUND: 10]\n",
            "[PAGE NO : 13] [ARTICLES FOUND: 10]\n",
            "[PAGE NO : 14] [ARTICLES FOUND: 10]\n",
            "[PAGE NO : 15] [ARTICLES FOUND: 10]\n",
            "[PAGE NO : 16] [ARTICLES FOUND: 10]\n",
            "[PAGE NO : 17] [ARTICLES FOUND: 10]\n",
            "[PAGE NO : 18] [ARTICLES FOUND: 10]\n",
            "[PAGE NO : 19] [ARTICLES FOUND: 10]\n",
            "[PAGE NO : 20] [ARTICLES FOUND: 10]\n",
            "[Website: pesquisa.dnoticias.pt] [Keyword: online tracking] [Time Taken: 11150.83 sec]\n",
            "   year Number of Related News\n",
            "0  2017                      0\n",
            "1  2018                      0\n",
            "2  2019                      0\n",
            "3  2020                      0\n",
            "4  2021                      0\n",
            "5  2022                    200\n",
            "[WEBSITE: OBSERVADOR]\n",
            "[PAGE NO : 1] [ARTICLES FOUND: 20]\n"
          ]
        },
        {
          "output_type": "stream",
          "name": "stderr",
          "text": [
            "/usr/local/lib/python3.7/dist-packages/ipykernel_launcher.py:21: DeprecationWarning: find_element_by_xpath is deprecated. Please use find_element(by=By.XPATH, value=xpath) instead\n"
          ]
        },
        {
          "output_type": "stream",
          "name": "stdout",
          "text": [
            "[PAGE NO : 2] [ARTICLES FOUND: 20]\n",
            "[PAGE NO : 3] [ARTICLES FOUND: 20]\n",
            "[PAGE NO : 4] [ARTICLES FOUND: 20]\n",
            "[PAGE NO : 5] [ARTICLES FOUND: 20]\n",
            "[PAGE NO : 6] [ARTICLES FOUND: 20]\n",
            "[PAGE NO : 7] [ARTICLES FOUND: 20]\n",
            "[PAGE NO : 8] [ARTICLES FOUND: 20]\n",
            "[PAGE NO : 9] [ARTICLES FOUND: 20]\n",
            "[PAGE NO : 10] [ARTICLES FOUND: 20]\n",
            "[PAGE NO : 11] [ARTICLES FOUND: 20]\n",
            "[PAGE NO : 12] [ARTICLES FOUND: 20]\n",
            "[PAGE NO : 13] [ARTICLES FOUND: 20]\n",
            "[PAGE NO : 14] [ARTICLES FOUND: 20]\n",
            "[PAGE NO : 15] [ARTICLES FOUND: 20]\n",
            "[PAGE NO : 16] [ARTICLES FOUND: 20]\n",
            "[PAGE NO : 17] [ARTICLES FOUND: 20]\n",
            "[PAGE NO : 18] [ARTICLES FOUND: 20]\n",
            "[PAGE NO : 19] [ARTICLES FOUND: 20]\n",
            "[PAGE NO : 20] [ARTICLES FOUND: 20]\n",
            "   year Number of Related News\n",
            "0  2017                     20\n",
            "1  2018                     40\n",
            "2  2019                     20\n",
            "3  2020                     20\n",
            "4  2021                     20\n",
            "5  2022                     60\n",
            "[WEBSITE: DN]\n",
            "[PAGE NO : 1] [ARTICLES FOUND: 10]\n"
          ]
        },
        {
          "output_type": "stream",
          "name": "stderr",
          "text": [
            "/usr/local/lib/python3.7/dist-packages/ipykernel_launcher.py:22: DeprecationWarning: find_element_by_xpath is deprecated. Please use find_element(by=By.XPATH, value=xpath) instead\n"
          ]
        },
        {
          "output_type": "stream",
          "name": "stdout",
          "text": [
            "[PAGE NO : 2] [ARTICLES FOUND: 10]\n",
            "[PAGE NO : 3] [ARTICLES FOUND: 10]\n",
            "[PAGE NO : 4] [ARTICLES FOUND: 10]\n",
            "[PAGE NO : 5] [ARTICLES FOUND: 10]\n",
            "[PAGE NO : 6] [ARTICLES FOUND: 10]\n",
            "[PAGE NO : 7] [ARTICLES FOUND: 10]\n",
            "[PAGE NO : 8] [ARTICLES FOUND: 10]\n",
            "[PAGE NO : 9] [ARTICLES FOUND: 10]\n",
            "[PAGE NO : 10] [ARTICLES FOUND: 10]\n",
            "[PAGE NO : 11] [ARTICLES FOUND: 10]\n",
            "[PAGE NO : 12] [ARTICLES FOUND: 10]\n",
            "[PAGE NO : 13] [ARTICLES FOUND: 10]\n",
            "[PAGE NO : 14] [ARTICLES FOUND: 10]\n",
            "[PAGE NO : 15] [ARTICLES FOUND: 10]\n",
            "[PAGE NO : 16] [ARTICLES FOUND: 10]\n",
            "[PAGE NO : 17] [ARTICLES FOUND: 10]\n",
            "[PAGE NO : 18] [ARTICLES FOUND: 10]\n",
            "[PAGE NO : 19] [ARTICLES FOUND: 10]\n",
            "[PAGE NO : 20] [ARTICLES FOUND: 10]\n",
            "   year Number of Related News\n",
            "0  2017                      0\n",
            "1  2018                     20\n",
            "2  2019                      0\n",
            "3  2020                     40\n",
            "4  2021                     20\n",
            "5  2022                     40\n",
            "[PAGE NO : 1] [ARTICLES FOUND: 10]\n",
            "[PAGE NO : 2] [ARTICLES FOUND: 10]\n",
            "[PAGE NO : 3] [ARTICLES FOUND: 10]\n",
            "[PAGE NO : 4] [ARTICLES FOUND: 10]\n",
            "[PAGE NO : 5] [ARTICLES FOUND: 10]\n",
            "[PAGE NO : 6] [ARTICLES FOUND: 10]\n",
            "[PAGE NO : 7] [ARTICLES FOUND: 10]\n",
            "[PAGE NO : 8] [ARTICLES FOUND: 10]\n",
            "[PAGE NO : 9] [ARTICLES FOUND: 10]\n",
            "[PAGE NO : 10] [ARTICLES FOUND: 10]\n",
            "[PAGE NO : 11] [ARTICLES FOUND: 10]\n",
            "[PAGE NO : 12] [ARTICLES FOUND: 10]\n",
            "[PAGE NO : 13] [ARTICLES FOUND: 10]\n",
            "[PAGE NO : 14] [ARTICLES FOUND: 10]\n",
            "[PAGE NO : 15] [ARTICLES FOUND: 10]\n",
            "[PAGE NO : 16] [ARTICLES FOUND: 10]\n",
            "[PAGE NO : 17] [ARTICLES FOUND: 10]\n",
            "[PAGE NO : 18] [ARTICLES FOUND: 10]\n",
            "[PAGE NO : 19] [ARTICLES FOUND: 10]\n",
            "[PAGE NO : 20] [ARTICLES FOUND: 10]\n",
            "[Website: pesquisa.dnoticias.pt] [Keyword: digital analytics] [Time Taken: 11599.06 sec]\n",
            "   year Number of Related News\n",
            "0  2017                      0\n",
            "1  2018                      0\n",
            "2  2019                      0\n",
            "3  2020                      0\n",
            "4  2021                      0\n",
            "5  2022                    200\n",
            "[WEBSITE: OBSERVADOR]\n",
            "[PAGE NO : 1] [ARTICLES FOUND: 20]\n"
          ]
        },
        {
          "output_type": "stream",
          "name": "stderr",
          "text": [
            "/usr/local/lib/python3.7/dist-packages/ipykernel_launcher.py:21: DeprecationWarning: find_element_by_xpath is deprecated. Please use find_element(by=By.XPATH, value=xpath) instead\n"
          ]
        },
        {
          "output_type": "stream",
          "name": "stdout",
          "text": [
            "[PAGE NO : 2] [ARTICLES FOUND: 20]\n",
            "[PAGE NO : 3] [ARTICLES FOUND: 20]\n",
            "[PAGE NO : 4] [ARTICLES FOUND: 20]\n",
            "[PAGE NO : 5] [ARTICLES FOUND: 20]\n",
            "[PAGE NO : 6] [ARTICLES FOUND: 20]\n",
            "[PAGE NO : 7] [ARTICLES FOUND: 20]\n",
            "[PAGE NO : 8] [ARTICLES FOUND: 20]\n",
            "[PAGE NO : 9] [ARTICLES FOUND: 20]\n",
            "[PAGE NO : 10] [ARTICLES FOUND: 20]\n",
            "[PAGE NO : 11] [ARTICLES FOUND: 20]\n",
            "[PAGE NO : 12] [ARTICLES FOUND: 20]\n",
            "[PAGE NO : 13] [ARTICLES FOUND: 20]\n",
            "[PAGE NO : 14] [ARTICLES FOUND: 20]\n",
            "[PAGE NO : 15] [ARTICLES FOUND: 20]\n",
            "[PAGE NO : 16] [ARTICLES FOUND: 20]\n",
            "[PAGE NO : 17] [ARTICLES FOUND: 20]\n",
            "[PAGE NO : 18] [ARTICLES FOUND: 20]\n",
            "[PAGE NO : 19] [ARTICLES FOUND: 20]\n",
            "[PAGE NO : 20] [ARTICLES FOUND: 20]\n",
            "   year Number of Related News\n",
            "0  2017                      0\n",
            "1  2018                      0\n",
            "2  2019                      0\n",
            "3  2020                      0\n",
            "4  2021                      0\n",
            "5  2022                      0\n",
            "[WEBSITE: DN]\n",
            "[PAGE NO : 1] [ARTICLES FOUND: 2]\n"
          ]
        },
        {
          "output_type": "stream",
          "name": "stderr",
          "text": [
            "/usr/local/lib/python3.7/dist-packages/ipykernel_launcher.py:22: DeprecationWarning: find_element_by_xpath is deprecated. Please use find_element(by=By.XPATH, value=xpath) instead\n"
          ]
        },
        {
          "output_type": "stream",
          "name": "stdout",
          "text": [
            "[PAGE NO : 2] [ARTICLES FOUND: 2]\n",
            "[PAGE NO : 3] [ARTICLES FOUND: 2]\n",
            "[PAGE NO : 4] [ARTICLES FOUND: 2]\n",
            "[PAGE NO : 5] [ARTICLES FOUND: 2]\n",
            "[PAGE NO : 6] [ARTICLES FOUND: 2]\n",
            "[PAGE NO : 7] [ARTICLES FOUND: 2]\n",
            "[PAGE NO : 8] [ARTICLES FOUND: 2]\n",
            "[PAGE NO : 9] [ARTICLES FOUND: 2]\n",
            "[PAGE NO : 10] [ARTICLES FOUND: 2]\n",
            "[PAGE NO : 11] [ARTICLES FOUND: 2]\n",
            "[PAGE NO : 12] [ARTICLES FOUND: 2]\n",
            "[PAGE NO : 13] [ARTICLES FOUND: 2]\n",
            "[PAGE NO : 14] [ARTICLES FOUND: 2]\n",
            "[PAGE NO : 15] [ARTICLES FOUND: 2]\n",
            "[PAGE NO : 16] [ARTICLES FOUND: 2]\n",
            "[PAGE NO : 17] [ARTICLES FOUND: 2]\n",
            "[PAGE NO : 18] [ARTICLES FOUND: 2]\n",
            "[PAGE NO : 19] [ARTICLES FOUND: 2]\n",
            "[PAGE NO : 20] [ARTICLES FOUND: 2]\n",
            "   year Number of Related News\n",
            "0  2017                      0\n",
            "1  2018                      0\n",
            "2  2019                      0\n",
            "3  2020                      0\n",
            "4  2021                      0\n",
            "5  2022                      0\n",
            "[PAGE NO : 1] [ARTICLES FOUND: 10]\n",
            "[PAGE NO : 2] [ARTICLES FOUND: 10]\n",
            "[PAGE NO : 3] [ARTICLES FOUND: 10]\n",
            "[PAGE NO : 4] [ARTICLES FOUND: 10]\n",
            "[PAGE NO : 5] [ARTICLES FOUND: 10]\n",
            "[PAGE NO : 6] [ARTICLES FOUND: 10]\n",
            "[PAGE NO : 7] [ARTICLES FOUND: 10]\n",
            "[PAGE NO : 8] [ARTICLES FOUND: 10]\n",
            "[PAGE NO : 9] [ARTICLES FOUND: 10]\n",
            "[PAGE NO : 10] [ARTICLES FOUND: 10]\n",
            "[PAGE NO : 11] [ARTICLES FOUND: 10]\n",
            "[PAGE NO : 12] [ARTICLES FOUND: 10]\n",
            "[PAGE NO : 13] [ARTICLES FOUND: 10]\n",
            "[PAGE NO : 14] [ARTICLES FOUND: 10]\n",
            "[PAGE NO : 15] [ARTICLES FOUND: 10]\n",
            "[PAGE NO : 16] [ARTICLES FOUND: 10]\n",
            "[PAGE NO : 17] [ARTICLES FOUND: 10]\n",
            "[PAGE NO : 18] [ARTICLES FOUND: 10]\n",
            "[PAGE NO : 19] [ARTICLES FOUND: 10]\n",
            "[PAGE NO : 20] [ARTICLES FOUND: 10]\n",
            "[Website: pesquisa.dnoticias.pt] [Keyword: data protection authorities] [Time Taken: 11714.88 sec]\n",
            "   year Number of Related News\n",
            "0  2017                      0\n",
            "1  2018                      0\n",
            "2  2019                      0\n",
            "3  2020                      0\n",
            "4  2021                      0\n",
            "5  2022                    200\n"
          ]
        }
      ]
    },
    {
      "cell_type": "code",
      "source": [
        "IT_keyword_list = [\"gdpr\", \"Codice in materia di protezione dei dati personali\", \"protezione dei dati\", \"web tracking\", \"online tracking\", \"digital analytics\", \"data protection authorities\"]\n",
        "\n",
        "for keyword in IT_keyword_list:\n",
        "    print(italy1repubblica(keyword))\n",
        "    print(italy2today(keyword)) \n",
        "    print(italy3ilpost(keyword))"
      ],
      "metadata": {
        "colab": {
          "base_uri": "https://localhost:8080/"
        },
        "id": "MG7cF6vCd2gr",
        "outputId": "d1507569-16f3-481d-c4b2-170640ea610b"
      },
      "execution_count": null,
      "outputs": [
        {
          "output_type": "stream",
          "name": "stdout",
          "text": [
            "[PAGE NO : 1] [ARTICLES FOUND: 10]\n",
            "[PAGE NO : 2] [ARTICLES FOUND: 10]\n",
            "[PAGE NO : 3] [ARTICLES FOUND: 10]\n",
            "[PAGE NO : 4] [ARTICLES FOUND: 10]\n",
            "[PAGE NO : 5] [ARTICLES FOUND: 10]\n",
            "[PAGE NO : 6] [ARTICLES FOUND: 10]\n",
            "[PAGE NO : 7] [ARTICLES FOUND: 10]\n",
            "[PAGE NO : 8] [ARTICLES FOUND: 10]\n",
            "[PAGE NO : 9] [ARTICLES FOUND: 10]\n",
            "[PAGE NO : 10] [ARTICLES FOUND: 10]\n",
            "[PAGE NO : 11] [ARTICLES FOUND: 10]\n",
            "[PAGE NO : 12] [ARTICLES FOUND: 10]\n",
            "[PAGE NO : 13] [ARTICLES FOUND: 10]\n",
            "[PAGE NO : 14] [ARTICLES FOUND: 10]\n",
            "[PAGE NO : 15] [ARTICLES FOUND: 10]\n",
            "[PAGE NO : 16] [ARTICLES FOUND: 10]\n",
            "[PAGE NO : 17] [ARTICLES FOUND: 10]\n",
            "[PAGE NO : 18] [ARTICLES FOUND: 10]\n",
            "[PAGE NO : 19] [ARTICLES FOUND: 10]\n",
            "[PAGE NO : 20] [ARTICLES FOUND: 10]\n",
            "[Website: ricerca.repubblica.it] [Keyword: gdpr] [Time Taken: 11737.9 sec]\n",
            "   year Number of Related News\n",
            "0  2017                      0\n",
            "1  2018                      0\n",
            "2  2019                      0\n",
            "3  2020                      3\n",
            "4  2021                     37\n",
            "5  2022                    160\n",
            "[PAGE NO : 1] [ARTICLES FOUND: 15]\n",
            "[PAGE NO : 2] [ARTICLES FOUND: 15]\n",
            "[PAGE NO : 3] [ARTICLES FOUND: 15]\n",
            "[PAGE NO : 4] [ARTICLES FOUND: 15]\n",
            "[PAGE NO : 5] [ARTICLES FOUND: 15]\n",
            "[PAGE NO : 6] [ARTICLES FOUND: 15]\n",
            "[PAGE NO : 7] [ARTICLES FOUND: 15]\n",
            "[PAGE NO : 8] [ARTICLES FOUND: 15]\n",
            "[PAGE NO : 9] [NO MORE ARTICLES FOUND]\n",
            "[Website: www.today.it] [Keyword: gdpr] [Time Taken: 11746.33 sec]\n",
            "   year Number of Related News\n",
            "0  2017                      0\n",
            "1  2018                     26\n",
            "2  2019                     29\n",
            "3  2020                     25\n",
            "4  2021                     25\n",
            "5  2022                     15\n",
            "[PAGE NO : 1] [ARTICLES FOUND: 10]\n",
            "[PAGE NO : 2] [ARTICLES FOUND: 10]\n",
            "[PAGE NO : 3] [ARTICLES FOUND: 10]\n",
            "[PAGE NO : 4] [ARTICLES FOUND: 10]\n",
            "[PAGE NO : 5] [ARTICLES FOUND: 10]\n",
            "[PAGE NO : 6] [ARTICLES FOUND: 10]\n",
            "[PAGE NO : 7] [ARTICLES FOUND: 10]\n",
            "[PAGE NO : 8] [ARTICLES FOUND: 10]\n",
            "[PAGE NO : 9] [ARTICLES FOUND: 10]\n",
            "[PAGE NO : 10] [ARTICLES FOUND: 10]\n",
            "[PAGE NO : 11] [ARTICLES FOUND: 10]\n",
            "[PAGE NO : 12] [ARTICLES FOUND: 10]\n",
            "[PAGE NO : 13] [ARTICLES FOUND: 10]\n",
            "[PAGE NO : 14] [ARTICLES FOUND: 10]\n",
            "[PAGE NO : 15] [ARTICLES FOUND: 10]\n",
            "[PAGE NO : 16] [ARTICLES FOUND: 10]\n",
            "[PAGE NO : 17] [ARTICLES FOUND: 10]\n",
            "[PAGE NO : 18] [ARTICLES FOUND: 10]\n",
            "[PAGE NO : 19] [ARTICLES FOUND: 10]\n",
            "[PAGE NO : 20] [ARTICLES FOUND: 10]\n",
            "[Website: www.ilpost.it] [Keyword: gdpr] [Time Taken: 11748.47 sec]\n",
            "   year Number of Related News\n",
            "0  2017                      0\n",
            "1  2018                      0\n",
            "2  2019                      0\n",
            "3  2020                      0\n",
            "4  2021                    180\n",
            "5  2022                      0\n",
            "[PAGE NO : 1] [ARTICLES FOUND: 10]\n",
            "[PAGE NO : 2] [ARTICLES FOUND: 10]\n",
            "[PAGE NO : 3] [ARTICLES FOUND: 10]\n",
            "[PAGE NO : 4] [ARTICLES FOUND: 10]\n",
            "[PAGE NO : 5] [ARTICLES FOUND: 10]\n",
            "[PAGE NO : 6] [ARTICLES FOUND: 10]\n",
            "[PAGE NO : 7] [ARTICLES FOUND: 10]\n",
            "[PAGE NO : 8] [ARTICLES FOUND: 10]\n",
            "[PAGE NO : 9] [ARTICLES FOUND: 10]\n",
            "[PAGE NO : 10] [ARTICLES FOUND: 10]\n",
            "[PAGE NO : 11] [ARTICLES FOUND: 10]\n",
            "[PAGE NO : 12] [ARTICLES FOUND: 10]\n",
            "[PAGE NO : 13] [ARTICLES FOUND: 10]\n",
            "[PAGE NO : 14] [ARTICLES FOUND: 10]\n",
            "[PAGE NO : 15] [ARTICLES FOUND: 10]\n",
            "[PAGE NO : 16] [ARTICLES FOUND: 10]\n",
            "[PAGE NO : 17] [ARTICLES FOUND: 10]\n",
            "[PAGE NO : 18] [ARTICLES FOUND: 10]\n",
            "[PAGE NO : 19] [ARTICLES FOUND: 10]\n",
            "[PAGE NO : 20] [ARTICLES FOUND: 10]\n",
            "[Website: ricerca.repubblica.it] [Keyword: Codice in materia di protezione dei dati personali] [Time Taken: 11801.18 sec]\n",
            "   year Number of Related News\n",
            "0  2017                      0\n",
            "1  2018                      0\n",
            "2  2019                      0\n",
            "3  2020                      0\n",
            "4  2021                      0\n",
            "5  2022                    200\n"
          ]
        },
        {
          "output_type": "stream",
          "name": "stderr",
          "text": [
            "/usr/local/lib/python3.7/dist-packages/openpyxl/workbook/child.py:99: UserWarning: Title is more than 31 characters. Some applications may not be able to read the file\n",
            "  warnings.warn(\"Title is more than 31 characters. Some applications may not be able to read the file\")\n"
          ]
        },
        {
          "output_type": "stream",
          "name": "stdout",
          "text": [
            "[PAGE NO : 1] [ARTICLES FOUND: 15]\n",
            "[PAGE NO : 2] [ARTICLES FOUND: 1]\n",
            "[PAGE NO : 3] [NO MORE ARTICLES FOUND]\n",
            "[Website: www.today.it] [Keyword: Codice in materia di protezione dei dati personali] [Time Taken: 11802.92 sec]\n",
            "   year Number of Related News\n",
            "0  2017                      1\n",
            "1  2018                      2\n",
            "2  2019                      2\n",
            "3  2020                      1\n",
            "4  2021                      6\n",
            "5  2022                      2\n"
          ]
        },
        {
          "output_type": "stream",
          "name": "stderr",
          "text": [
            "/usr/local/lib/python3.7/dist-packages/openpyxl/workbook/child.py:99: UserWarning: Title is more than 31 characters. Some applications may not be able to read the file\n",
            "  warnings.warn(\"Title is more than 31 characters. Some applications may not be able to read the file\")\n"
          ]
        },
        {
          "output_type": "stream",
          "name": "stdout",
          "text": [
            "[PAGE NO : 1] [ARTICLES FOUND: 10]\n",
            "[PAGE NO : 2] [ARTICLES FOUND: 10]\n",
            "[PAGE NO : 3] [ARTICLES FOUND: 10]\n",
            "[PAGE NO : 4] [ARTICLES FOUND: 10]\n",
            "[PAGE NO : 5] [ARTICLES FOUND: 10]\n",
            "[PAGE NO : 6] [ARTICLES FOUND: 10]\n",
            "[PAGE NO : 7] [ARTICLES FOUND: 10]\n",
            "[PAGE NO : 8] [ARTICLES FOUND: 10]\n",
            "[PAGE NO : 9] [ARTICLES FOUND: 10]\n",
            "[PAGE NO : 10] [ARTICLES FOUND: 10]\n",
            "[PAGE NO : 11] [NO MORE ARTICLES FOUND]\n",
            "[Website: www.ilpost.it] [Keyword: Codice in materia di protezione dei dati personali] [Time Taken: 11804.69 sec]\n",
            "   year Number of Related News\n",
            "0  2017                      0\n",
            "1  2018                      0\n",
            "2  2019                      0\n",
            "3  2020                      0\n",
            "4  2021                      0\n",
            "5  2022                    100\n"
          ]
        },
        {
          "output_type": "stream",
          "name": "stderr",
          "text": [
            "/usr/local/lib/python3.7/dist-packages/openpyxl/workbook/child.py:99: UserWarning: Title is more than 31 characters. Some applications may not be able to read the file\n",
            "  warnings.warn(\"Title is more than 31 characters. Some applications may not be able to read the file\")\n"
          ]
        },
        {
          "output_type": "stream",
          "name": "stdout",
          "text": [
            "[PAGE NO : 1] [ARTICLES FOUND: 10]\n",
            "[PAGE NO : 2] [ARTICLES FOUND: 10]\n",
            "[PAGE NO : 3] [ARTICLES FOUND: 10]\n",
            "[PAGE NO : 4] [ARTICLES FOUND: 10]\n",
            "[PAGE NO : 5] [ARTICLES FOUND: 10]\n",
            "[PAGE NO : 6] [ARTICLES FOUND: 10]\n",
            "[PAGE NO : 7] [ARTICLES FOUND: 10]\n",
            "[PAGE NO : 8] [ARTICLES FOUND: 10]\n",
            "[PAGE NO : 9] [ARTICLES FOUND: 10]\n",
            "[PAGE NO : 10] [ARTICLES FOUND: 10]\n",
            "[PAGE NO : 11] [ARTICLES FOUND: 10]\n",
            "[PAGE NO : 12] [ARTICLES FOUND: 10]\n",
            "[PAGE NO : 13] [ARTICLES FOUND: 10]\n",
            "[PAGE NO : 14] [ARTICLES FOUND: 10]\n",
            "[PAGE NO : 15] [ARTICLES FOUND: 10]\n",
            "[PAGE NO : 16] [ARTICLES FOUND: 10]\n",
            "[PAGE NO : 17] [ARTICLES FOUND: 10]\n",
            "[PAGE NO : 18] [ARTICLES FOUND: 10]\n",
            "[PAGE NO : 19] [ARTICLES FOUND: 10]\n",
            "[PAGE NO : 20] [ARTICLES FOUND: 10]\n",
            "[Website: ricerca.repubblica.it] [Keyword: protezione dei dati] [Time Taken: 11854.57 sec]\n",
            "   year Number of Related News\n",
            "0  2017                      0\n",
            "1  2018                      0\n",
            "2  2019                      0\n",
            "3  2020                      0\n",
            "4  2021                      0\n",
            "5  2022                    200\n"
          ]
        },
        {
          "output_type": "stream",
          "name": "stderr",
          "text": [
            "/usr/local/lib/python3.7/dist-packages/openpyxl/workbook/child.py:99: UserWarning: Title is more than 31 characters. Some applications may not be able to read the file\n",
            "  warnings.warn(\"Title is more than 31 characters. Some applications may not be able to read the file\")\n"
          ]
        },
        {
          "output_type": "stream",
          "name": "stdout",
          "text": [
            "[PAGE NO : 1] [ARTICLES FOUND: 15]\n",
            "[PAGE NO : 2] [ARTICLES FOUND: 15]\n",
            "[PAGE NO : 3] [ARTICLES FOUND: 15]\n",
            "[PAGE NO : 4] [ARTICLES FOUND: 15]\n",
            "[PAGE NO : 5] [ARTICLES FOUND: 15]\n",
            "[PAGE NO : 6] [ARTICLES FOUND: 15]\n",
            "[PAGE NO : 7] [ARTICLES FOUND: 15]\n",
            "[PAGE NO : 8] [ARTICLES FOUND: 15]\n",
            "[PAGE NO : 9] [ARTICLES FOUND: 15]\n",
            "[PAGE NO : 10] [ARTICLES FOUND: 15]\n",
            "[PAGE NO : 11] [ARTICLES FOUND: 15]\n",
            "[PAGE NO : 12] [ARTICLES FOUND: 15]\n",
            "[PAGE NO : 13] [ARTICLES FOUND: 15]\n",
            "[PAGE NO : 14] [ARTICLES FOUND: 15]\n",
            "[PAGE NO : 15] [ARTICLES FOUND: 15]\n",
            "[PAGE NO : 16] [ARTICLES FOUND: 15]\n",
            "[PAGE NO : 17] [ARTICLES FOUND: 15]\n",
            "[PAGE NO : 18] [ARTICLES FOUND: 15]\n",
            "[PAGE NO : 19] [ARTICLES FOUND: 15]\n",
            "[PAGE NO : 20] [ARTICLES FOUND: 15]\n",
            "[Website: www.today.it] [Keyword: protezione dei dati] [Time Taken: 11878.08 sec]\n",
            "   year Number of Related News\n",
            "0  2017                      0\n",
            "1  2018                      0\n",
            "2  2019                      0\n",
            "3  2020                      0\n",
            "4  2021                     28\n",
            "5  2022                    272\n"
          ]
        },
        {
          "output_type": "stream",
          "name": "stderr",
          "text": [
            "/usr/local/lib/python3.7/dist-packages/openpyxl/workbook/child.py:99: UserWarning: Title is more than 31 characters. Some applications may not be able to read the file\n",
            "  warnings.warn(\"Title is more than 31 characters. Some applications may not be able to read the file\")\n"
          ]
        },
        {
          "output_type": "stream",
          "name": "stdout",
          "text": [
            "[PAGE NO : 1] [ARTICLES FOUND: 10]\n",
            "[PAGE NO : 2] [ARTICLES FOUND: 10]\n",
            "[PAGE NO : 3] [NO MORE ARTICLES FOUND]\n",
            "[Website: www.ilpost.it] [Keyword: protezione dei dati] [Time Taken: 11878.15 sec]\n",
            "   year Number of Related News\n",
            "0  2017                      0\n",
            "1  2018                      0\n",
            "2  2019                      0\n",
            "3  2020                      0\n",
            "4  2021                      0\n",
            "5  2022                     20\n"
          ]
        },
        {
          "output_type": "stream",
          "name": "stderr",
          "text": [
            "/usr/local/lib/python3.7/dist-packages/openpyxl/workbook/child.py:99: UserWarning: Title is more than 31 characters. Some applications may not be able to read the file\n",
            "  warnings.warn(\"Title is more than 31 characters. Some applications may not be able to read the file\")\n"
          ]
        },
        {
          "output_type": "stream",
          "name": "stdout",
          "text": [
            "[PAGE NO : 1] [ARTICLES FOUND: 10]\n",
            "[PAGE NO : 2] [ARTICLES FOUND: 10]\n",
            "[PAGE NO : 3] [ARTICLES FOUND: 10]\n",
            "[PAGE NO : 4] [ARTICLES FOUND: 10]\n",
            "[PAGE NO : 5] [ARTICLES FOUND: 10]\n",
            "[PAGE NO : 6] [ARTICLES FOUND: 10]\n",
            "[PAGE NO : 7] [ARTICLES FOUND: 10]\n",
            "[PAGE NO : 8] [ARTICLES FOUND: 10]\n",
            "[PAGE NO : 9] [ARTICLES FOUND: 10]\n",
            "[PAGE NO : 10] [ARTICLES FOUND: 10]\n",
            "[PAGE NO : 11] [ARTICLES FOUND: 10]\n",
            "[PAGE NO : 12] [ARTICLES FOUND: 10]\n",
            "[PAGE NO : 13] [ARTICLES FOUND: 10]\n",
            "[PAGE NO : 14] [ARTICLES FOUND: 10]\n",
            "[PAGE NO : 15] [ARTICLES FOUND: 10]\n",
            "[PAGE NO : 16] [ARTICLES FOUND: 10]\n",
            "[PAGE NO : 17] [ARTICLES FOUND: 10]\n",
            "[PAGE NO : 18] [ARTICLES FOUND: 10]\n",
            "[PAGE NO : 19] [ARTICLES FOUND: 10]\n",
            "[PAGE NO : 20] [ARTICLES FOUND: 10]\n",
            "[Website: ricerca.repubblica.it] [Keyword: web tracking] [Time Taken: 11907.43 sec]\n"
          ]
        },
        {
          "output_type": "stream",
          "name": "stderr",
          "text": [
            "/usr/local/lib/python3.7/dist-packages/openpyxl/workbook/child.py:99: UserWarning: Title is more than 31 characters. Some applications may not be able to read the file\n",
            "  warnings.warn(\"Title is more than 31 characters. Some applications may not be able to read the file\")\n"
          ]
        },
        {
          "output_type": "stream",
          "name": "stdout",
          "text": [
            "   year Number of Related News\n",
            "0  2017                      0\n",
            "1  2018                      0\n",
            "2  2019                      0\n",
            "3  2020                      0\n",
            "4  2021                      9\n",
            "5  2022                    191\n",
            "[PAGE NO : 1] [ARTICLES FOUND: 12]\n",
            "[PAGE NO : 2] [NO MORE ARTICLES FOUND]\n",
            "[Website: www.today.it] [Keyword: web tracking] [Time Taken: 11908.13 sec]\n"
          ]
        },
        {
          "output_type": "stream",
          "name": "stderr",
          "text": [
            "/usr/local/lib/python3.7/dist-packages/openpyxl/workbook/child.py:99: UserWarning: Title is more than 31 characters. Some applications may not be able to read the file\n",
            "  warnings.warn(\"Title is more than 31 characters. Some applications may not be able to read the file\")\n"
          ]
        },
        {
          "output_type": "stream",
          "name": "stdout",
          "text": [
            "   year Number of Related News\n",
            "0  2017                      1\n",
            "1  2018                      1\n",
            "2  2019                      2\n",
            "3  2020                      2\n",
            "4  2021                      3\n",
            "5  2022                      3\n",
            "[PAGE NO : 1] [NO MORE ARTICLES FOUND]\n",
            "[Website: www.ilpost.it] [Keyword: web tracking] [Time Taken: 11907.91 sec]\n",
            "   year Number of Related News\n",
            "0  2017                      0\n",
            "1  2018                      0\n",
            "2  2019                      0\n",
            "3  2020                      0\n",
            "4  2021                      0\n",
            "5  2022                      0\n"
          ]
        },
        {
          "output_type": "stream",
          "name": "stderr",
          "text": [
            "/usr/local/lib/python3.7/dist-packages/openpyxl/workbook/child.py:99: UserWarning: Title is more than 31 characters. Some applications may not be able to read the file\n",
            "  warnings.warn(\"Title is more than 31 characters. Some applications may not be able to read the file\")\n"
          ]
        },
        {
          "output_type": "stream",
          "name": "stdout",
          "text": [
            "[PAGE NO : 1] [ARTICLES FOUND: 10]\n",
            "[PAGE NO : 2] [ARTICLES FOUND: 10]\n",
            "[PAGE NO : 3] [ARTICLES FOUND: 10]\n",
            "[PAGE NO : 4] [ARTICLES FOUND: 10]\n",
            "[PAGE NO : 5] [ARTICLES FOUND: 10]\n",
            "[PAGE NO : 6] [ARTICLES FOUND: 10]\n",
            "[PAGE NO : 7] [ARTICLES FOUND: 10]\n",
            "[PAGE NO : 8] [ARTICLES FOUND: 10]\n",
            "[PAGE NO : 9] [ARTICLES FOUND: 10]\n",
            "[PAGE NO : 10] [ARTICLES FOUND: 10]\n",
            "[PAGE NO : 11] [ARTICLES FOUND: 10]\n",
            "[PAGE NO : 12] [ARTICLES FOUND: 10]\n",
            "[PAGE NO : 13] [ARTICLES FOUND: 10]\n",
            "[PAGE NO : 14] [ARTICLES FOUND: 10]\n",
            "[PAGE NO : 15] [ARTICLES FOUND: 10]\n",
            "[PAGE NO : 16] [ARTICLES FOUND: 10]\n",
            "[PAGE NO : 17] [ARTICLES FOUND: 10]\n",
            "[PAGE NO : 18] [ARTICLES FOUND: 10]\n",
            "[PAGE NO : 19] [ARTICLES FOUND: 10]\n",
            "[PAGE NO : 20] [ARTICLES FOUND: 10]\n",
            "[Website: ricerca.repubblica.it] [Keyword: online tracking] [Time Taken: 11948.5 sec]\n"
          ]
        },
        {
          "output_type": "stream",
          "name": "stderr",
          "text": [
            "/usr/local/lib/python3.7/dist-packages/openpyxl/workbook/child.py:99: UserWarning: Title is more than 31 characters. Some applications may not be able to read the file\n",
            "  warnings.warn(\"Title is more than 31 characters. Some applications may not be able to read the file\")\n"
          ]
        },
        {
          "output_type": "stream",
          "name": "stdout",
          "text": [
            "   year Number of Related News\n",
            "0  2017                      0\n",
            "1  2018                      0\n",
            "2  2019                      0\n",
            "3  2020                      0\n",
            "4  2021                      2\n",
            "5  2022                    198\n",
            "[PAGE NO : 1] [ARTICLES FOUND: 15]\n",
            "[PAGE NO : 2] [ARTICLES FOUND: 6]\n",
            "[PAGE NO : 3] [NO MORE ARTICLES FOUND]\n",
            "[Website: www.today.it] [Keyword: online tracking] [Time Taken: 11951.57 sec]\n",
            "   year Number of Related News\n",
            "0  2017                      0\n",
            "1  2018                      4\n",
            "2  2019                      3\n",
            "3  2020                      5\n",
            "4  2021                      7\n",
            "5  2022                      2\n"
          ]
        },
        {
          "output_type": "stream",
          "name": "stderr",
          "text": [
            "/usr/local/lib/python3.7/dist-packages/openpyxl/workbook/child.py:99: UserWarning: Title is more than 31 characters. Some applications may not be able to read the file\n",
            "  warnings.warn(\"Title is more than 31 characters. Some applications may not be able to read the file\")\n"
          ]
        },
        {
          "output_type": "stream",
          "name": "stdout",
          "text": [
            "[PAGE NO : 1] [NO MORE ARTICLES FOUND]\n",
            "[Website: www.ilpost.it] [Keyword: online tracking] [Time Taken: 11951.36 sec]\n",
            "   year Number of Related News\n",
            "0  2017                      0\n",
            "1  2018                      0\n",
            "2  2019                      0\n",
            "3  2020                      0\n",
            "4  2021                      0\n",
            "5  2022                      0\n"
          ]
        },
        {
          "output_type": "stream",
          "name": "stderr",
          "text": [
            "/usr/local/lib/python3.7/dist-packages/openpyxl/workbook/child.py:99: UserWarning: Title is more than 31 characters. Some applications may not be able to read the file\n",
            "  warnings.warn(\"Title is more than 31 characters. Some applications may not be able to read the file\")\n"
          ]
        },
        {
          "output_type": "stream",
          "name": "stdout",
          "text": [
            "[PAGE NO : 1] [ARTICLES FOUND: 10]\n",
            "[PAGE NO : 2] [ARTICLES FOUND: 10]\n",
            "[PAGE NO : 3] [ARTICLES FOUND: 10]\n",
            "[PAGE NO : 4] [ARTICLES FOUND: 10]\n",
            "[PAGE NO : 5] [ARTICLES FOUND: 10]\n",
            "[PAGE NO : 6] [ARTICLES FOUND: 10]\n",
            "[PAGE NO : 7] [ARTICLES FOUND: 10]\n",
            "[PAGE NO : 8] [ARTICLES FOUND: 10]\n",
            "[PAGE NO : 9] [ARTICLES FOUND: 10]\n",
            "[PAGE NO : 10] [ARTICLES FOUND: 10]\n",
            "[PAGE NO : 11] [ARTICLES FOUND: 10]\n",
            "[PAGE NO : 12] [ARTICLES FOUND: 10]\n",
            "[PAGE NO : 13] [ARTICLES FOUND: 10]\n",
            "[PAGE NO : 14] [NO MORE ARTICLES FOUND]\n",
            "[Website: ricerca.repubblica.it] [Keyword: digital analytics] [Time Taken: 11974.23 sec]\n"
          ]
        },
        {
          "output_type": "stream",
          "name": "stderr",
          "text": [
            "/usr/local/lib/python3.7/dist-packages/openpyxl/workbook/child.py:99: UserWarning: Title is more than 31 characters. Some applications may not be able to read the file\n",
            "  warnings.warn(\"Title is more than 31 characters. Some applications may not be able to read the file\")\n"
          ]
        },
        {
          "output_type": "stream",
          "name": "stdout",
          "text": [
            "   year Number of Related News\n",
            "0  2017                      0\n",
            "1  2018                      0\n",
            "2  2019                      0\n",
            "3  2020                      0\n",
            "4  2021                      8\n",
            "5  2022                    122\n",
            "[PAGE NO : 1] [ARTICLES FOUND: 15]\n",
            "[PAGE NO : 2] [ARTICLES FOUND: 15]\n",
            "[PAGE NO : 3] [ARTICLES FOUND: 15]\n",
            "[PAGE NO : 4] [ARTICLES FOUND: 12]\n",
            "[PAGE NO : 5] [NO MORE ARTICLES FOUND]\n",
            "[Website: www.today.it] [Keyword: digital analytics] [Time Taken: 11978.57 sec]\n",
            "   year Number of Related News\n",
            "0  2017                      0\n",
            "1  2018                      7\n",
            "2  2019                     13\n",
            "3  2020                     11\n",
            "4  2021                     22\n",
            "5  2022                      3\n"
          ]
        },
        {
          "output_type": "stream",
          "name": "stderr",
          "text": [
            "/usr/local/lib/python3.7/dist-packages/openpyxl/workbook/child.py:99: UserWarning: Title is more than 31 characters. Some applications may not be able to read the file\n",
            "  warnings.warn(\"Title is more than 31 characters. Some applications may not be able to read the file\")\n"
          ]
        },
        {
          "output_type": "stream",
          "name": "stdout",
          "text": [
            "[PAGE NO : 1] [NO MORE ARTICLES FOUND]\n",
            "[Website: www.ilpost.it] [Keyword: digital analytics] [Time Taken: 11978.39 sec]\n",
            "   year Number of Related News\n",
            "0  2017                      0\n",
            "1  2018                      0\n",
            "2  2019                      0\n",
            "3  2020                      0\n",
            "4  2021                      0\n",
            "5  2022                      0\n"
          ]
        },
        {
          "output_type": "stream",
          "name": "stderr",
          "text": [
            "/usr/local/lib/python3.7/dist-packages/openpyxl/workbook/child.py:99: UserWarning: Title is more than 31 characters. Some applications may not be able to read the file\n",
            "  warnings.warn(\"Title is more than 31 characters. Some applications may not be able to read the file\")\n"
          ]
        },
        {
          "output_type": "stream",
          "name": "stdout",
          "text": [
            "[PAGE NO : 1] [NO MORE ARTICLES FOUND]\n",
            "[Website: ricerca.repubblica.it] [Keyword: data protection authorities] [Time Taken: 11982.4 sec]\n"
          ]
        },
        {
          "output_type": "stream",
          "name": "stderr",
          "text": [
            "/usr/local/lib/python3.7/dist-packages/openpyxl/workbook/child.py:99: UserWarning: Title is more than 31 characters. Some applications may not be able to read the file\n",
            "  warnings.warn(\"Title is more than 31 characters. Some applications may not be able to read the file\")\n"
          ]
        },
        {
          "output_type": "stream",
          "name": "stdout",
          "text": [
            "   year Number of Related News\n",
            "0  2017                      0\n",
            "1  2018                      0\n",
            "2  2019                      0\n",
            "3  2020                      0\n",
            "4  2021                      0\n",
            "5  2022                      0\n",
            "[PAGE NO : 1] [ARTICLES FOUND: 1]\n",
            "[PAGE NO : 2] [NO MORE ARTICLES FOUND]\n",
            "[Website: www.today.it] [Keyword: data protection authorities] [Time Taken: 11982.96 sec]\n",
            "   year Number of Related News\n",
            "0  2017                      0\n",
            "1  2018                      1\n",
            "2  2019                      0\n",
            "3  2020                      0\n",
            "4  2021                      0\n",
            "5  2022                      0\n"
          ]
        },
        {
          "output_type": "stream",
          "name": "stderr",
          "text": [
            "/usr/local/lib/python3.7/dist-packages/openpyxl/workbook/child.py:99: UserWarning: Title is more than 31 characters. Some applications may not be able to read the file\n",
            "  warnings.warn(\"Title is more than 31 characters. Some applications may not be able to read the file\")\n"
          ]
        },
        {
          "output_type": "stream",
          "name": "stdout",
          "text": [
            "[PAGE NO : 1] [NO MORE ARTICLES FOUND]\n",
            "[Website: www.ilpost.it] [Keyword: data protection authorities] [Time Taken: 11982.73 sec]\n"
          ]
        },
        {
          "output_type": "stream",
          "name": "stderr",
          "text": [
            "/usr/local/lib/python3.7/dist-packages/openpyxl/workbook/child.py:99: UserWarning: Title is more than 31 characters. Some applications may not be able to read the file\n",
            "  warnings.warn(\"Title is more than 31 characters. Some applications may not be able to read the file\")\n"
          ]
        },
        {
          "output_type": "stream",
          "name": "stdout",
          "text": [
            "   year Number of Related News\n",
            "0  2017                      0\n",
            "1  2018                      0\n",
            "2  2019                      0\n",
            "3  2020                      0\n",
            "4  2021                      0\n",
            "5  2022                      0\n"
          ]
        }
      ]
    },
    {
      "cell_type": "code",
      "source": [
        "SL_keyword_list = [\"gdpr\", \"Zàkon o ochrane osobných údajov\", \"súkromia\", \"web tracking\", \"online tracking\", \"digital analytics\", \"data protection authorities\"]\n",
        "\n",
        "for keyword in SL_keyword_list:\n",
        "    print(slovakia1topky(keyword))\n",
        "    print(slovakia2teraz(keyword))\n",
        "    print(slovakia3pravda(keyword)) "
      ],
      "metadata": {
        "colab": {
          "base_uri": "https://localhost:8080/"
        },
        "id": "4pD3Ha5MeHQG",
        "outputId": "9e8726f9-dd0d-4170-b214-2e4e28ec8c25"
      },
      "execution_count": null,
      "outputs": [
        {
          "output_type": "stream",
          "name": "stdout",
          "text": [
            "[PAGE NO : 1] [ARTICLES FOUND: 10]\n",
            "[PAGE NO : 2] [ARTICLES FOUND: 10]\n",
            "[PAGE NO : 3] [ARTICLES FOUND: 10]\n",
            "[PAGE NO : 4] [ARTICLES FOUND: 10]\n",
            "[PAGE NO : 5] [ARTICLES FOUND: 10]\n",
            "[PAGE NO : 6] [ARTICLES FOUND: 10]\n",
            "[PAGE NO : 7] [ARTICLES FOUND: 10]\n",
            "[PAGE NO : 8] [ARTICLES FOUND: 1]\n",
            "[PAGE NO : 9] [NO MORE ARTICLES FOUND]\n",
            "[Website: www.topky.sk] [Keyword: gdpr] [Time Taken: 11977.65 sec]\n",
            "   year Number of Related News\n",
            "0  2017                      2\n",
            "1  2018                     23\n",
            "2  2019                     15\n",
            "3  2020                     14\n",
            "4  2021                     13\n",
            "5  2022                      3\n",
            "[PAGE NO : 1] [ARTICLES FOUND: 20]\n",
            "[PAGE NO : 2] [ARTICLES FOUND: 20]\n",
            "[PAGE NO : 3] [ARTICLES FOUND: 20]\n",
            "[PAGE NO : 4] [ARTICLES FOUND: 20]\n",
            "[PAGE NO : 5] [ARTICLES FOUND: 20]\n",
            "[PAGE NO : 6] [ARTICLES FOUND: 20]\n",
            "[PAGE NO : 7] [ARTICLES FOUND: 20]\n",
            "[PAGE NO : 8] [ARTICLES FOUND: 20]\n",
            "[PAGE NO : 9] [ARTICLES FOUND: 20]\n",
            "[PAGE NO : 10] [ARTICLES FOUND: 14]\n",
            "[PAGE NO : 11] [NO MORE ARTICLES FOUND]\n",
            "[Website: www.teraz.sk] [Keyword: gdpr] [Time Taken: 11995.86 sec]\n",
            "   year Number of Related News\n",
            "0  2017                      7\n",
            "1  2018                     75\n",
            "2  2019                     52\n",
            "3  2020                     24\n",
            "4  2021                     26\n",
            "5  2022                      9\n",
            "[PAGE NO : 1] [NO MORE ARTICLES FOUND]\n",
            "[Website: www.aktuality.sk] [Keyword: gdpr] [Time Taken: 11998.24 sec]\n",
            "   year Number of Related News\n",
            "0  2017                      0\n",
            "1  2018                      0\n",
            "2  2019                      0\n",
            "3  2020                      0\n",
            "4  2021                      0\n",
            "5  2022                      0\n",
            "[PAGE NO : 1] [ARTICLES FOUND: 10]\n",
            "[PAGE NO : 2] [ARTICLES FOUND: 10]\n",
            "[PAGE NO : 3] [ARTICLES FOUND: 10]\n",
            "[PAGE NO : 4] [ARTICLES FOUND: 10]\n",
            "[PAGE NO : 5] [ARTICLES FOUND: 10]\n",
            "[PAGE NO : 6] [ARTICLES FOUND: 10]\n",
            "[PAGE NO : 7] [ARTICLES FOUND: 10]\n",
            "[PAGE NO : 8] [ARTICLES FOUND: 10]\n",
            "[PAGE NO : 9] [ARTICLES FOUND: 10]\n",
            "[PAGE NO : 10] [ARTICLES FOUND: 10]\n",
            "[PAGE NO : 11] [ARTICLES FOUND: 10]\n",
            "[PAGE NO : 12] [ARTICLES FOUND: 10]\n",
            "[PAGE NO : 13] [ARTICLES FOUND: 10]\n",
            "[PAGE NO : 14] [ARTICLES FOUND: 10]\n",
            "[PAGE NO : 15] [ARTICLES FOUND: 10]\n",
            "[PAGE NO : 16] [ARTICLES FOUND: 10]\n",
            "[PAGE NO : 17] [ARTICLES FOUND: 10]\n",
            "[PAGE NO : 18] [ARTICLES FOUND: 10]\n",
            "[PAGE NO : 19] [ARTICLES FOUND: 10]\n",
            "[PAGE NO : 20] [ARTICLES FOUND: 10]\n",
            "[Website: www.topky.sk] [Keyword: Zàkon o ochrane osobných údajov] [Time Taken: 12033.44 sec]\n",
            "   year Number of Related News\n",
            "0  2017                      0\n",
            "1  2018                      0\n",
            "2  2019                      0\n",
            "3  2020                      0\n",
            "4  2021                      0\n",
            "5  2022                      0\n",
            "[PAGE NO : 1] [ARTICLES FOUND: 20]\n",
            "[PAGE NO : 2] [ARTICLES FOUND: 20]\n",
            "[PAGE NO : 3] [ARTICLES FOUND: 20]\n",
            "[PAGE NO : 4] [ARTICLES FOUND: 20]\n",
            "[PAGE NO : 5] [ARTICLES FOUND: 20]\n",
            "[PAGE NO : 6] [ARTICLES FOUND: 20]\n",
            "[PAGE NO : 7] [ARTICLES FOUND: 20]\n",
            "[PAGE NO : 8] [ARTICLES FOUND: 20]\n",
            "[PAGE NO : 9] [ARTICLES FOUND: 20]\n",
            "[PAGE NO : 10] [ARTICLES FOUND: 20]\n",
            "[PAGE NO : 11] [ARTICLES FOUND: 20]\n",
            "[PAGE NO : 12] [ARTICLES FOUND: 20]\n",
            "[PAGE NO : 13] [ARTICLES FOUND: 20]\n",
            "[PAGE NO : 14] [ARTICLES FOUND: 20]\n",
            "[PAGE NO : 15] [ARTICLES FOUND: 20]\n",
            "[PAGE NO : 16] [ARTICLES FOUND: 20]\n",
            "[PAGE NO : 17] [ARTICLES FOUND: 20]\n",
            "[PAGE NO : 18] [ARTICLES FOUND: 20]\n",
            "[PAGE NO : 19] [ARTICLES FOUND: 20]\n",
            "[PAGE NO : 20] [ARTICLES FOUND: 20]\n",
            "[Website: www.teraz.sk] [Keyword: Zàkon o ochrane osobných údajov] [Time Taken: 12084.54 sec]\n",
            "   year Number of Related News\n",
            "0  2017                      0\n",
            "1  2018                      0\n",
            "2  2019                      0\n",
            "3  2020                      0\n",
            "4  2021                      0\n",
            "5  2022                    357\n",
            "[PAGE NO : 1] [NO MORE ARTICLES FOUND]\n",
            "[Website: www.aktuality.sk] [Keyword: Zàkon o ochrane osobných údajov] [Time Taken: 12088.47 sec]\n",
            "   year Number of Related News\n",
            "0  2017                      0\n",
            "1  2018                      0\n",
            "2  2019                      0\n",
            "3  2020                      0\n",
            "4  2021                      0\n",
            "5  2022                      0\n",
            "[PAGE NO : 1] [ARTICLES FOUND: 10]\n",
            "[PAGE NO : 2] [ARTICLES FOUND: 10]\n",
            "[PAGE NO : 3] [ARTICLES FOUND: 10]\n",
            "[PAGE NO : 4] [ARTICLES FOUND: 10]\n",
            "[PAGE NO : 5] [ARTICLES FOUND: 10]\n",
            "[PAGE NO : 6] [ARTICLES FOUND: 10]\n",
            "[PAGE NO : 7] [ARTICLES FOUND: 10]\n",
            "[PAGE NO : 8] [ARTICLES FOUND: 10]\n",
            "[PAGE NO : 9] [ARTICLES FOUND: 10]\n",
            "[PAGE NO : 10] [ARTICLES FOUND: 10]\n",
            "[PAGE NO : 11] [ARTICLES FOUND: 10]\n",
            "[PAGE NO : 12] [ARTICLES FOUND: 10]\n",
            "[PAGE NO : 13] [ARTICLES FOUND: 10]\n",
            "[PAGE NO : 14] [ARTICLES FOUND: 10]\n",
            "[PAGE NO : 15] [ARTICLES FOUND: 10]\n",
            "[PAGE NO : 16] [ARTICLES FOUND: 10]\n",
            "[PAGE NO : 17] [ARTICLES FOUND: 10]\n",
            "[PAGE NO : 18] [ARTICLES FOUND: 10]\n",
            "[PAGE NO : 19] [ARTICLES FOUND: 10]\n",
            "[PAGE NO : 20] [ARTICLES FOUND: 10]\n",
            "[Website: www.topky.sk] [Keyword: súkromia] [Time Taken: 12122.5 sec]\n",
            "   year Number of Related News\n",
            "0  2017                      0\n",
            "1  2018                      0\n",
            "2  2019                      0\n",
            "3  2020                      0\n",
            "4  2021                     65\n",
            "5  2022                    132\n",
            "[PAGE NO : 1] [ARTICLES FOUND: 20]\n",
            "[PAGE NO : 2] [ARTICLES FOUND: 20]\n",
            "[PAGE NO : 3] [ARTICLES FOUND: 20]\n",
            "[PAGE NO : 4] [ARTICLES FOUND: 20]\n",
            "[PAGE NO : 5] [ARTICLES FOUND: 20]\n",
            "[PAGE NO : 6] [ARTICLES FOUND: 20]\n",
            "[PAGE NO : 7] [ARTICLES FOUND: 20]\n",
            "[PAGE NO : 8] [ARTICLES FOUND: 20]\n",
            "[PAGE NO : 9] [ARTICLES FOUND: 20]\n",
            "[PAGE NO : 10] [ARTICLES FOUND: 20]\n",
            "[PAGE NO : 11] [ARTICLES FOUND: 20]\n",
            "[PAGE NO : 12] [ARTICLES FOUND: 20]\n",
            "[PAGE NO : 13] [ARTICLES FOUND: 20]\n",
            "[PAGE NO : 14] [ARTICLES FOUND: 20]\n",
            "[PAGE NO : 15] [ARTICLES FOUND: 20]\n",
            "[PAGE NO : 16] [ARTICLES FOUND: 20]\n",
            "[PAGE NO : 17] [ARTICLES FOUND: 20]\n",
            "[PAGE NO : 18] [ARTICLES FOUND: 20]\n",
            "[PAGE NO : 19] [ARTICLES FOUND: 20]\n",
            "[PAGE NO : 20] [ARTICLES FOUND: 20]\n",
            "[Website: www.teraz.sk] [Keyword: súkromia] [Time Taken: 12143.28 sec]\n",
            "   year Number of Related News\n",
            "0  2017                      0\n",
            "1  2018                     39\n",
            "2  2019                     85\n",
            "3  2020                    117\n",
            "4  2021                    118\n",
            "5  2022                     40\n",
            "[PAGE NO : 1] [NO MORE ARTICLES FOUND]\n",
            "[Website: www.aktuality.sk] [Keyword: súkromia] [Time Taken: 12145.15 sec]\n",
            "   year Number of Related News\n",
            "0  2017                      0\n",
            "1  2018                      0\n",
            "2  2019                      0\n",
            "3  2020                      0\n",
            "4  2021                      0\n",
            "5  2022                      0\n",
            "[PAGE NO : 1] [ARTICLES FOUND: 2]\n",
            "[PAGE NO : 2] [NO MORE ARTICLES FOUND]\n",
            "[Website: www.topky.sk] [Keyword: web tracking] [Time Taken: 12153.94 sec]\n",
            "   year Number of Related News\n",
            "0  2017                      0\n",
            "1  2018                      0\n",
            "2  2019                      0\n",
            "3  2020                      1\n",
            "4  2021                      0\n",
            "5  2022                      0\n",
            "[PAGE NO : 1] [ARTICLES FOUND: 20]\n",
            "[PAGE NO : 2] [ARTICLES FOUND: 20]\n",
            "[PAGE NO : 3] [ARTICLES FOUND: 20]\n",
            "[PAGE NO : 4] [ARTICLES FOUND: 20]\n",
            "[PAGE NO : 5] [ARTICLES FOUND: 20]\n",
            "[PAGE NO : 6] [ARTICLES FOUND: 20]\n",
            "[PAGE NO : 7] [ARTICLES FOUND: 20]\n",
            "[PAGE NO : 8] [ARTICLES FOUND: 20]\n",
            "[PAGE NO : 9] [ARTICLES FOUND: 20]\n",
            "[PAGE NO : 10] [ARTICLES FOUND: 20]\n",
            "[PAGE NO : 11] [ARTICLES FOUND: 20]\n",
            "[PAGE NO : 12] [ARTICLES FOUND: 20]\n",
            "[PAGE NO : 13] [ARTICLES FOUND: 20]\n",
            "[PAGE NO : 14] [ARTICLES FOUND: 20]\n",
            "[PAGE NO : 15] [ARTICLES FOUND: 20]\n",
            "[PAGE NO : 16] [ARTICLES FOUND: 20]\n",
            "[PAGE NO : 17] [ARTICLES FOUND: 20]\n",
            "[PAGE NO : 18] [ARTICLES FOUND: 20]\n",
            "[PAGE NO : 19] [ARTICLES FOUND: 20]\n",
            "[PAGE NO : 20] [ARTICLES FOUND: 20]\n",
            "[Website: www.teraz.sk] [Keyword: web tracking] [Time Taken: 12178.64 sec]\n",
            "   year Number of Related News\n",
            "0  2017                      0\n",
            "1  2018                      0\n",
            "2  2019                      0\n",
            "3  2020                      0\n",
            "4  2021                      0\n",
            "5  2022                    381\n",
            "[PAGE NO : 1] [NO MORE ARTICLES FOUND]\n",
            "[Website: www.aktuality.sk] [Keyword: web tracking] [Time Taken: 12180.35 sec]\n",
            "   year Number of Related News\n",
            "0  2017                      0\n",
            "1  2018                      0\n",
            "2  2019                      0\n",
            "3  2020                      0\n",
            "4  2021                      0\n",
            "5  2022                      0\n",
            "[PAGE NO : 1] [ARTICLES FOUND: 10]\n",
            "[PAGE NO : 2] [ARTICLES FOUND: 10]\n",
            "[PAGE NO : 3] [ARTICLES FOUND: 10]\n",
            "[PAGE NO : 4] [ARTICLES FOUND: 10]\n",
            "[PAGE NO : 5] [ARTICLES FOUND: 10]\n",
            "[PAGE NO : 6] [ARTICLES FOUND: 10]\n",
            "[PAGE NO : 7] [ARTICLES FOUND: 10]\n",
            "[PAGE NO : 8] [ARTICLES FOUND: 10]\n",
            "[PAGE NO : 9] [ARTICLES FOUND: 10]\n",
            "[PAGE NO : 10] [ARTICLES FOUND: 10]\n",
            "[PAGE NO : 11] [ARTICLES FOUND: 10]\n",
            "[PAGE NO : 12] [ARTICLES FOUND: 10]\n",
            "[PAGE NO : 13] [ARTICLES FOUND: 10]\n",
            "[PAGE NO : 14] [ARTICLES FOUND: 10]\n",
            "[PAGE NO : 15] [ARTICLES FOUND: 10]\n",
            "[PAGE NO : 16] [ARTICLES FOUND: 10]\n",
            "[PAGE NO : 17] [ARTICLES FOUND: 10]\n",
            "[PAGE NO : 18] [ARTICLES FOUND: 10]\n",
            "[PAGE NO : 19] [ARTICLES FOUND: 10]\n",
            "[PAGE NO : 20] [ARTICLES FOUND: 10]\n",
            "[Website: www.topky.sk] [Keyword: online tracking] [Time Taken: 12211.78 sec]\n",
            "   year Number of Related News\n",
            "0  2017                      0\n",
            "1  2018                      0\n",
            "2  2019                      0\n",
            "3  2020                      0\n",
            "4  2021                      0\n",
            "5  2022                      0\n",
            "[PAGE NO : 1] [ARTICLES FOUND: 19]\n",
            "[PAGE NO : 2] [ARTICLES FOUND: 20]\n",
            "[PAGE NO : 3] [ARTICLES FOUND: 20]\n",
            "[PAGE NO : 4] [ARTICLES FOUND: 20]\n",
            "[PAGE NO : 5] [ARTICLES FOUND: 20]\n",
            "[PAGE NO : 6] [ARTICLES FOUND: 20]\n",
            "[PAGE NO : 7] [ARTICLES FOUND: 20]\n",
            "[PAGE NO : 8] [ARTICLES FOUND: 20]\n",
            "[PAGE NO : 9] [ARTICLES FOUND: 20]\n",
            "[PAGE NO : 10] [ARTICLES FOUND: 20]\n",
            "[PAGE NO : 11] [ARTICLES FOUND: 20]\n",
            "[PAGE NO : 12] [ARTICLES FOUND: 20]\n",
            "[PAGE NO : 13] [ARTICLES FOUND: 20]\n",
            "[PAGE NO : 14] [ARTICLES FOUND: 20]\n",
            "[PAGE NO : 15] [ARTICLES FOUND: 20]\n",
            "[PAGE NO : 16] [ARTICLES FOUND: 20]\n",
            "[PAGE NO : 17] [ARTICLES FOUND: 20]\n",
            "[PAGE NO : 18] [ARTICLES FOUND: 20]\n",
            "[PAGE NO : 19] [ARTICLES FOUND: 20]\n",
            "[PAGE NO : 20] [ARTICLES FOUND: 20]\n",
            "[Website: www.teraz.sk] [Keyword: online tracking] [Time Taken: 12236.51 sec]\n",
            "   year Number of Related News\n",
            "0  2017                      0\n",
            "1  2018                      0\n",
            "2  2019                      0\n",
            "3  2020                      0\n",
            "4  2021                      0\n",
            "5  2022                    390\n",
            "[PAGE NO : 1] [NO MORE ARTICLES FOUND]\n",
            "[Website: www.aktuality.sk] [Keyword: online tracking] [Time Taken: 12238.75 sec]\n",
            "   year Number of Related News\n",
            "0  2017                      0\n",
            "1  2018                      0\n",
            "2  2019                      0\n",
            "3  2020                      0\n",
            "4  2021                      0\n",
            "5  2022                      0\n",
            "[PAGE NO : 1] [ARTICLES FOUND: 10]\n",
            "[PAGE NO : 2] [ARTICLES FOUND: 10]\n",
            "[PAGE NO : 3] [ARTICLES FOUND: 10]\n",
            "[PAGE NO : 4] [ARTICLES FOUND: 10]\n",
            "[PAGE NO : 5] [ARTICLES FOUND: 10]\n",
            "[PAGE NO : 6] [ARTICLES FOUND: 10]\n",
            "[PAGE NO : 7] [ARTICLES FOUND: 10]\n",
            "[PAGE NO : 8] [ARTICLES FOUND: 10]\n",
            "[PAGE NO : 9] [ARTICLES FOUND: 10]\n",
            "[PAGE NO : 10] [ARTICLES FOUND: 10]\n",
            "[PAGE NO : 11] [ARTICLES FOUND: 10]\n",
            "[PAGE NO : 12] [ARTICLES FOUND: 10]\n",
            "[PAGE NO : 13] [ARTICLES FOUND: 10]\n",
            "[PAGE NO : 14] [ARTICLES FOUND: 10]\n",
            "[PAGE NO : 15] [ARTICLES FOUND: 10]\n",
            "[PAGE NO : 16] [ARTICLES FOUND: 10]\n",
            "[PAGE NO : 17] [ARTICLES FOUND: 10]\n",
            "[PAGE NO : 18] [ARTICLES FOUND: 10]\n",
            "[PAGE NO : 19] [ARTICLES FOUND: 10]\n",
            "[PAGE NO : 20] [ARTICLES FOUND: 10]\n",
            "[Website: www.topky.sk] [Keyword: digital analytics] [Time Taken: 12269.93 sec]\n",
            "   year Number of Related News\n",
            "0  2017                      0\n",
            "1  2018                      0\n",
            "2  2019                      0\n",
            "3  2020                      0\n",
            "4  2021                      0\n",
            "5  2022                      0\n",
            "[PAGE NO : 1] [ARTICLES FOUND: 20]\n",
            "[PAGE NO : 2] [ARTICLES FOUND: 20]\n",
            "[PAGE NO : 3] [ARTICLES FOUND: 20]\n",
            "[PAGE NO : 4] [ARTICLES FOUND: 20]\n",
            "[PAGE NO : 5] [ARTICLES FOUND: 20]\n",
            "[PAGE NO : 6] [ARTICLES FOUND: 20]\n",
            "[PAGE NO : 7] [ARTICLES FOUND: 20]\n",
            "[PAGE NO : 8] [ARTICLES FOUND: 20]\n",
            "[PAGE NO : 9] [ARTICLES FOUND: 20]\n",
            "[PAGE NO : 10] [ARTICLES FOUND: 20]\n",
            "[PAGE NO : 11] [ARTICLES FOUND: 20]\n",
            "[PAGE NO : 12] [ARTICLES FOUND: 20]\n",
            "[PAGE NO : 13] [ARTICLES FOUND: 20]\n",
            "[PAGE NO : 14] [ARTICLES FOUND: 20]\n",
            "[PAGE NO : 15] [ARTICLES FOUND: 20]\n",
            "[PAGE NO : 16] [ARTICLES FOUND: 20]\n",
            "[PAGE NO : 17] [ARTICLES FOUND: 20]\n",
            "[PAGE NO : 18] [ARTICLES FOUND: 20]\n",
            "[PAGE NO : 19] [ARTICLES FOUND: 20]\n",
            "[PAGE NO : 20] [ARTICLES FOUND: 20]\n",
            "[Website: www.teraz.sk] [Keyword: digital analytics] [Time Taken: 12289.28 sec]\n",
            "   year Number of Related News\n",
            "0  2017                     21\n",
            "1  2018                     82\n",
            "2  2019                     64\n",
            "3  2020                     99\n",
            "4  2021                    101\n",
            "5  2022                     33\n",
            "[PAGE NO : 1] [NO MORE ARTICLES FOUND]\n",
            "[Website: www.aktuality.sk] [Keyword: digital analytics] [Time Taken: 12291.78 sec]\n",
            "   year Number of Related News\n",
            "0  2017                      0\n",
            "1  2018                      0\n",
            "2  2019                      0\n",
            "3  2020                      0\n",
            "4  2021                      0\n",
            "5  2022                      0\n",
            "[PAGE NO : 1] [ARTICLES FOUND: 10]\n",
            "[PAGE NO : 2] [ARTICLES FOUND: 10]\n",
            "[PAGE NO : 3] [ARTICLES FOUND: 10]\n",
            "[PAGE NO : 4] [ARTICLES FOUND: 10]\n",
            "[PAGE NO : 5] [ARTICLES FOUND: 10]\n",
            "[PAGE NO : 6] [ARTICLES FOUND: 10]\n",
            "[PAGE NO : 7] [ARTICLES FOUND: 10]\n",
            "[PAGE NO : 8] [ARTICLES FOUND: 10]\n",
            "[PAGE NO : 9] [ARTICLES FOUND: 10]\n",
            "[PAGE NO : 10] [ARTICLES FOUND: 10]\n",
            "[PAGE NO : 11] [ARTICLES FOUND: 10]\n",
            "[PAGE NO : 12] [ARTICLES FOUND: 10]\n",
            "[PAGE NO : 13] [ARTICLES FOUND: 10]\n",
            "[PAGE NO : 14] [ARTICLES FOUND: 10]\n",
            "[PAGE NO : 15] [ARTICLES FOUND: 10]\n",
            "[PAGE NO : 16] [ARTICLES FOUND: 10]\n",
            "[PAGE NO : 17] [ARTICLES FOUND: 10]\n",
            "[PAGE NO : 18] [ARTICLES FOUND: 10]\n",
            "[PAGE NO : 19] [ARTICLES FOUND: 10]\n",
            "[PAGE NO : 20] [ARTICLES FOUND: 10]\n",
            "[Website: www.topky.sk] [Keyword: data protection authorities] [Time Taken: 12322.54 sec]\n",
            "   year Number of Related News\n",
            "0  2017                      0\n",
            "1  2018                      0\n",
            "2  2019                      0\n",
            "3  2020                      0\n",
            "4  2021                      0\n",
            "5  2022                      0\n",
            "[PAGE NO : 1] [ARTICLES FOUND: 20]\n",
            "[PAGE NO : 2] [ARTICLES FOUND: 20]\n",
            "[PAGE NO : 3] [ARTICLES FOUND: 20]\n",
            "[PAGE NO : 4] [ARTICLES FOUND: 20]\n",
            "[PAGE NO : 5] [ARTICLES FOUND: 20]\n",
            "[PAGE NO : 6] [ARTICLES FOUND: 20]\n",
            "[PAGE NO : 7] [ARTICLES FOUND: 20]\n",
            "[PAGE NO : 8] [ARTICLES FOUND: 20]\n",
            "[PAGE NO : 9] [ARTICLES FOUND: 20]\n",
            "[PAGE NO : 10] [ARTICLES FOUND: 20]\n",
            "[PAGE NO : 11] [ARTICLES FOUND: 20]\n",
            "[PAGE NO : 12] [ARTICLES FOUND: 20]\n",
            "[PAGE NO : 13] [ARTICLES FOUND: 20]\n",
            "[PAGE NO : 14] [ARTICLES FOUND: 20]\n",
            "[PAGE NO : 15] [ARTICLES FOUND: 20]\n",
            "[PAGE NO : 16] [ARTICLES FOUND: 20]\n",
            "[PAGE NO : 17] [ARTICLES FOUND: 20]\n",
            "[PAGE NO : 18] [ARTICLES FOUND: 20]\n",
            "[PAGE NO : 19] [ARTICLES FOUND: 20]\n",
            "[PAGE NO : 20] [ARTICLES FOUND: 20]\n",
            "[Website: www.teraz.sk] [Keyword: data protection authorities] [Time Taken: 12349.93 sec]\n",
            "   year Number of Related News\n",
            "0  2017                      0\n",
            "1  2018                      0\n",
            "2  2019                      0\n",
            "3  2020                      0\n",
            "4  2021                    182\n",
            "5  2022                    213\n",
            "[PAGE NO : 1] [NO MORE ARTICLES FOUND]\n",
            "[Website: www.aktuality.sk] [Keyword: data protection authorities] [Time Taken: 12352.44 sec]\n",
            "   year Number of Related News\n",
            "0  2017                      0\n",
            "1  2018                      0\n",
            "2  2019                      0\n",
            "3  2020                      0\n",
            "4  2021                      0\n",
            "5  2022                      0\n"
          ]
        }
      ]
    },
    {
      "cell_type": "code",
      "source": [
        "BL_keyword_list = [\"gdpr\", \"Закон за защита на личните данни\", \"поверителност\", \"web tracking\", \"online tracking\", \"digital analytics\", \"data protection authorities\"]\n",
        "\n",
        "for keyword in BL_keyword_list:\n",
        "    print(bulgaria1vesiti(keyword))\n",
        "    print(bulgaria2chasa(keyword))\n",
        "    print(bulgaria3blitz(keyword))\n",
        "    #print(bulgaria4fakti(keyword))"
      ],
      "metadata": {
        "colab": {
          "base_uri": "https://localhost:8080/"
        },
        "id": "5nFf8Mz3eRhN",
        "outputId": "0a24a892-bece-4d15-ce6f-f4aadbca67ed"
      },
      "execution_count": null,
      "outputs": [
        {
          "output_type": "stream",
          "name": "stdout",
          "text": [
            "[PAGE NO : 1] [ARTICLES FOUND: 30]\n",
            "[Website: www.vesti.bg] [Keyword: gdpr] [Time Taken: 12389.66 sec]\n",
            "   year Number of Related News\n",
            "0  2017                      0\n",
            "1  2018                     10\n",
            "2  2019                      4\n",
            "3  2020                      6\n",
            "4  2021                      9\n",
            "5  2022                      1\n",
            "[PAGE NO : 1] [ARTICLES FOUND: 34]\n",
            "[PAGE NO : 2] [ARTICLES FOUND: 34]\n",
            "[PAGE NO : 3] [ARTICLES FOUND: 34]\n",
            "[PAGE NO : 4] [ARTICLES FOUND: 2]\n",
            "[PAGE NO : 5] [NO MORE ARTICLES FOUND]\n",
            "[Website: www.24chasa.bg] [Keyword: gdpr] [Time Taken: 12407.51 sec]\n",
            "   year Number of Related News\n",
            "0  2017                      1\n",
            "1  2018                     46\n",
            "2  2019                     33\n",
            "3  2020                     11\n",
            "4  2021                     10\n",
            "5  2022                      3\n",
            "[PAGE NO : 1] [ARTICLES FOUND: 15]\n",
            "[PAGE NO : 2] [ARTICLES FOUND: 15]\n",
            "[PAGE NO : 3] [ARTICLES FOUND: 14]\n",
            "[PAGE NO : 4] [ARTICLES FOUND: 15]\n",
            "[PAGE NO : 5] [ARTICLES FOUND: 14]\n",
            "[PAGE NO : 6] [ARTICLES FOUND: 9]\n",
            "[PAGE NO : 7] [NO MORE ARTICLES FOUND]\n",
            "[Website: blitz.bg] [Keyword: gdpr] [Time Taken: 12438.54 sec]\n",
            "   year Number of Related News\n",
            "0  2017                      2\n",
            "1  2018                     30\n",
            "2  2019                     19\n",
            "3  2020                      9\n",
            "4  2021                     17\n",
            "5  2022                      5\n",
            "[PAGE NO : 1] [ARTICLES FOUND: 30]\n",
            "[Website: www.vesti.bg] [Keyword: Закон за защита на личните данни] [Time Taken: 12445.24 sec]\n",
            "   year Number of Related News\n",
            "0  2017                      1\n",
            "1  2018                      6\n",
            "2  2019                      7\n",
            "3  2020                      1\n",
            "4  2021                      1\n",
            "5  2022                      2\n"
          ]
        },
        {
          "output_type": "stream",
          "name": "stderr",
          "text": [
            "/usr/local/lib/python3.7/dist-packages/openpyxl/workbook/child.py:99: UserWarning: Title is more than 31 characters. Some applications may not be able to read the file\n",
            "  warnings.warn(\"Title is more than 31 characters. Some applications may not be able to read the file\")\n"
          ]
        },
        {
          "output_type": "stream",
          "name": "stdout",
          "text": [
            "[PAGE NO : 1] [ARTICLES FOUND: 34]\n",
            "[PAGE NO : 2] [ARTICLES FOUND: 34]\n",
            "[PAGE NO : 3] [ARTICLES FOUND: 34]\n",
            "[PAGE NO : 4] [ARTICLES FOUND: 34]\n",
            "[PAGE NO : 5] [ARTICLES FOUND: 34]\n",
            "[PAGE NO : 6] [ARTICLES FOUND: 19]\n",
            "[PAGE NO : 7] [NO MORE ARTICLES FOUND]\n",
            "[Website: www.24chasa.bg] [Keyword: Закон за защита на личните данни] [Time Taken: 12470.23 sec]\n",
            "   year Number of Related News\n",
            "0  2017                     14\n",
            "1  2018                     30\n",
            "2  2019                     38\n",
            "3  2020                     14\n",
            "4  2021                     16\n",
            "5  2022                     10\n"
          ]
        },
        {
          "output_type": "stream",
          "name": "stderr",
          "text": [
            "/usr/local/lib/python3.7/dist-packages/openpyxl/workbook/child.py:99: UserWarning: Title is more than 31 characters. Some applications may not be able to read the file\n",
            "  warnings.warn(\"Title is more than 31 characters. Some applications may not be able to read the file\")\n"
          ]
        },
        {
          "output_type": "stream",
          "name": "stdout",
          "text": [
            "[PAGE NO : 1] [ARTICLES FOUND: 5]\n",
            "[PAGE NO : 2] [NO MORE ARTICLES FOUND]\n",
            "[Website: blitz.bg] [Keyword: Закон за защита на личните данни] [Time Taken: 12474.43 sec]\n",
            "   year Number of Related News\n",
            "0  2017                      0\n",
            "1  2018                      1\n",
            "2  2019                      2\n",
            "3  2020                      1\n",
            "4  2021                      1\n",
            "5  2022                      0\n"
          ]
        },
        {
          "output_type": "stream",
          "name": "stderr",
          "text": [
            "/usr/local/lib/python3.7/dist-packages/openpyxl/workbook/child.py:99: UserWarning: Title is more than 31 characters. Some applications may not be able to read the file\n",
            "  warnings.warn(\"Title is more than 31 characters. Some applications may not be able to read the file\")\n"
          ]
        },
        {
          "output_type": "stream",
          "name": "stdout",
          "text": [
            "[PAGE NO : 1] [ARTICLES FOUND: 30]\n",
            "[Website: www.vesti.bg] [Keyword: поверителност] [Time Taken: 12481.01 sec]\n",
            "   year Number of Related News\n",
            "0  2017                      0\n",
            "1  2018                      0\n",
            "2  2019                      0\n",
            "3  2020                      6\n",
            "4  2021                     14\n",
            "5  2022                     10\n"
          ]
        },
        {
          "output_type": "stream",
          "name": "stderr",
          "text": [
            "/usr/local/lib/python3.7/dist-packages/openpyxl/workbook/child.py:99: UserWarning: Title is more than 31 characters. Some applications may not be able to read the file\n",
            "  warnings.warn(\"Title is more than 31 characters. Some applications may not be able to read the file\")\n"
          ]
        },
        {
          "output_type": "stream",
          "name": "stdout",
          "text": [
            "[PAGE NO : 1] [ARTICLES FOUND: 34]\n",
            "[PAGE NO : 2] [ARTICLES FOUND: 34]\n",
            "[PAGE NO : 3] [ARTICLES FOUND: 34]\n",
            "[PAGE NO : 4] [ARTICLES FOUND: 34]\n",
            "[PAGE NO : 5] [ARTICLES FOUND: 28]\n",
            "[PAGE NO : 6] [NO MORE ARTICLES FOUND]\n",
            "[Website: www.24chasa.bg] [Keyword: поверителност] [Time Taken: 12500.13 sec]\n"
          ]
        },
        {
          "output_type": "stream",
          "name": "stderr",
          "text": [
            "/usr/local/lib/python3.7/dist-packages/openpyxl/workbook/child.py:99: UserWarning: Title is more than 31 characters. Some applications may not be able to read the file\n",
            "  warnings.warn(\"Title is more than 31 characters. Some applications may not be able to read the file\")\n"
          ]
        },
        {
          "output_type": "stream",
          "name": "stdout",
          "text": [
            "   year Number of Related News\n",
            "0  2017                     13\n",
            "1  2018                     29\n",
            "2  2019                     22\n",
            "3  2020                     33\n",
            "4  2021                     24\n",
            "5  2022                     14\n",
            "[PAGE NO : 1] [ARTICLES FOUND: 15]\n",
            "[PAGE NO : 2] [ARTICLES FOUND: 15]\n",
            "[PAGE NO : 3] [ARTICLES FOUND: 15]\n",
            "[PAGE NO : 4] [ARTICLES FOUND: 14]\n",
            "[PAGE NO : 5] [ARTICLES FOUND: 11]\n",
            "[PAGE NO : 6] [NO MORE ARTICLES FOUND]\n",
            "[Website: blitz.bg] [Keyword: поверителност] [Time Taken: 12516.33 sec]\n"
          ]
        },
        {
          "output_type": "stream",
          "name": "stderr",
          "text": [
            "/usr/local/lib/python3.7/dist-packages/openpyxl/workbook/child.py:99: UserWarning: Title is more than 31 characters. Some applications may not be able to read the file\n",
            "  warnings.warn(\"Title is more than 31 characters. Some applications may not be able to read the file\")\n"
          ]
        },
        {
          "output_type": "stream",
          "name": "stdout",
          "text": [
            "   year Number of Related News\n",
            "0  2017                      6\n",
            "1  2018                     16\n",
            "2  2019                     14\n",
            "3  2020                     12\n",
            "4  2021                     15\n",
            "5  2022                      7\n",
            "[PAGE NO : 1] [ARTICLES FOUND: 2]\n",
            "[Website: www.vesti.bg] [Keyword: web tracking] [Time Taken: 12523.75 sec]\n",
            "   year Number of Related News\n",
            "0  2017                      0\n",
            "1  2018                      0\n",
            "2  2019                      0\n",
            "3  2020                      0\n",
            "4  2021                      0\n",
            "5  2022                      0\n"
          ]
        },
        {
          "output_type": "stream",
          "name": "stderr",
          "text": [
            "/usr/local/lib/python3.7/dist-packages/openpyxl/workbook/child.py:99: UserWarning: Title is more than 31 characters. Some applications may not be able to read the file\n",
            "  warnings.warn(\"Title is more than 31 characters. Some applications may not be able to read the file\")\n"
          ]
        },
        {
          "output_type": "stream",
          "name": "stdout",
          "text": [
            "[PAGE NO : 1] [NO MORE ARTICLES FOUND]\n",
            "[Website: www.24chasa.bg] [Keyword: web tracking] [Time Taken: 12525.35 sec]\n"
          ]
        },
        {
          "output_type": "stream",
          "name": "stderr",
          "text": [
            "/usr/local/lib/python3.7/dist-packages/openpyxl/workbook/child.py:99: UserWarning: Title is more than 31 characters. Some applications may not be able to read the file\n",
            "  warnings.warn(\"Title is more than 31 characters. Some applications may not be able to read the file\")\n"
          ]
        },
        {
          "output_type": "stream",
          "name": "stdout",
          "text": [
            "   year Number of Related News\n",
            "0  2017                      0\n",
            "1  2018                      0\n",
            "2  2019                      0\n",
            "3  2020                      0\n",
            "4  2021                      0\n",
            "5  2022                      0\n",
            "[PAGE NO : 1] [NO MORE ARTICLES FOUND]\n",
            "[Website: blitz.bg] [Keyword: web tracking] [Time Taken: 12527.5 sec]\n"
          ]
        },
        {
          "output_type": "stream",
          "name": "stderr",
          "text": [
            "/usr/local/lib/python3.7/dist-packages/openpyxl/workbook/child.py:99: UserWarning: Title is more than 31 characters. Some applications may not be able to read the file\n",
            "  warnings.warn(\"Title is more than 31 characters. Some applications may not be able to read the file\")\n"
          ]
        },
        {
          "output_type": "stream",
          "name": "stdout",
          "text": [
            "   year Number of Related News\n",
            "0  2017                      0\n",
            "1  2018                      0\n",
            "2  2019                      0\n",
            "3  2020                      0\n",
            "4  2021                      0\n",
            "5  2022                      0\n",
            "[PAGE NO : 1] [ARTICLES FOUND: 2]\n",
            "[Website: www.vesti.bg] [Keyword: online tracking] [Time Taken: 12533.89 sec]\n",
            "   year Number of Related News\n",
            "0  2017                      0\n",
            "1  2018                      0\n",
            "2  2019                      1\n",
            "3  2020                      0\n",
            "4  2021                      0\n",
            "5  2022                      0\n"
          ]
        },
        {
          "output_type": "stream",
          "name": "stderr",
          "text": [
            "/usr/local/lib/python3.7/dist-packages/openpyxl/workbook/child.py:99: UserWarning: Title is more than 31 characters. Some applications may not be able to read the file\n",
            "  warnings.warn(\"Title is more than 31 characters. Some applications may not be able to read the file\")\n"
          ]
        },
        {
          "output_type": "stream",
          "name": "stdout",
          "text": [
            "[PAGE NO : 1] [NO MORE ARTICLES FOUND]\n",
            "[Website: www.24chasa.bg] [Keyword: online tracking] [Time Taken: 12535.65 sec]\n",
            "   year Number of Related News\n",
            "0  2017                      0\n",
            "1  2018                      0\n",
            "2  2019                      0\n",
            "3  2020                      0\n",
            "4  2021                      0\n",
            "5  2022                      0\n"
          ]
        },
        {
          "output_type": "stream",
          "name": "stderr",
          "text": [
            "/usr/local/lib/python3.7/dist-packages/openpyxl/workbook/child.py:99: UserWarning: Title is more than 31 characters. Some applications may not be able to read the file\n",
            "  warnings.warn(\"Title is more than 31 characters. Some applications may not be able to read the file\")\n"
          ]
        },
        {
          "output_type": "stream",
          "name": "stdout",
          "text": [
            "[PAGE NO : 1] [NO MORE ARTICLES FOUND]\n",
            "[Website: blitz.bg] [Keyword: online tracking] [Time Taken: 12537.67 sec]\n"
          ]
        },
        {
          "output_type": "stream",
          "name": "stderr",
          "text": [
            "/usr/local/lib/python3.7/dist-packages/openpyxl/workbook/child.py:99: UserWarning: Title is more than 31 characters. Some applications may not be able to read the file\n",
            "  warnings.warn(\"Title is more than 31 characters. Some applications may not be able to read the file\")\n"
          ]
        },
        {
          "output_type": "stream",
          "name": "stdout",
          "text": [
            "   year Number of Related News\n",
            "0  2017                      0\n",
            "1  2018                      0\n",
            "2  2019                      0\n",
            "3  2020                      0\n",
            "4  2021                      0\n",
            "5  2022                      0\n",
            "[PAGE NO : 1] [ARTICLES FOUND: 2]\n",
            "[Website: www.vesti.bg] [Keyword: digital analytics] [Time Taken: 12543.91 sec]\n",
            "   year Number of Related News\n",
            "0  2017                      0\n",
            "1  2018                      1\n",
            "2  2019                      1\n",
            "3  2020                      0\n",
            "4  2021                      0\n",
            "5  2022                      0\n"
          ]
        },
        {
          "output_type": "stream",
          "name": "stderr",
          "text": [
            "/usr/local/lib/python3.7/dist-packages/openpyxl/workbook/child.py:99: UserWarning: Title is more than 31 characters. Some applications may not be able to read the file\n",
            "  warnings.warn(\"Title is more than 31 characters. Some applications may not be able to read the file\")\n"
          ]
        },
        {
          "output_type": "stream",
          "name": "stdout",
          "text": [
            "[PAGE NO : 1] [ARTICLES FOUND: 8]\n",
            "[PAGE NO : 2] [NO MORE ARTICLES FOUND]\n",
            "[Website: www.24chasa.bg] [Keyword: digital analytics] [Time Taken: 12547.79 sec]\n"
          ]
        },
        {
          "output_type": "stream",
          "name": "stderr",
          "text": [
            "/usr/local/lib/python3.7/dist-packages/openpyxl/workbook/child.py:99: UserWarning: Title is more than 31 characters. Some applications may not be able to read the file\n",
            "  warnings.warn(\"Title is more than 31 characters. Some applications may not be able to read the file\")\n"
          ]
        },
        {
          "output_type": "stream",
          "name": "stdout",
          "text": [
            "   year Number of Related News\n",
            "0  2017                      0\n",
            "1  2018                      2\n",
            "2  2019                      0\n",
            "3  2020                      4\n",
            "4  2021                      1\n",
            "5  2022                      0\n",
            "[PAGE NO : 1] [NO MORE ARTICLES FOUND]\n",
            "[Website: blitz.bg] [Keyword: digital analytics] [Time Taken: 12548.9 sec]\n"
          ]
        },
        {
          "output_type": "stream",
          "name": "stderr",
          "text": [
            "/usr/local/lib/python3.7/dist-packages/openpyxl/workbook/child.py:99: UserWarning: Title is more than 31 characters. Some applications may not be able to read the file\n",
            "  warnings.warn(\"Title is more than 31 characters. Some applications may not be able to read the file\")\n"
          ]
        },
        {
          "output_type": "stream",
          "name": "stdout",
          "text": [
            "   year Number of Related News\n",
            "0  2017                      0\n",
            "1  2018                      0\n",
            "2  2019                      0\n",
            "3  2020                      0\n",
            "4  2021                      0\n",
            "5  2022                      0\n",
            "[PAGE NO : 1] [ARTICLES FOUND: 30]\n",
            "[Website: www.vesti.bg] [Keyword: data protection authorities] [Time Taken: 12557.93 sec]\n",
            "   year Number of Related News\n",
            "0  2017                      0\n",
            "1  2018                      0\n",
            "2  2019                      0\n",
            "3  2020                      0\n",
            "4  2021                      0\n",
            "5  2022                     15\n"
          ]
        },
        {
          "output_type": "stream",
          "name": "stderr",
          "text": [
            "/usr/local/lib/python3.7/dist-packages/openpyxl/workbook/child.py:99: UserWarning: Title is more than 31 characters. Some applications may not be able to read the file\n",
            "  warnings.warn(\"Title is more than 31 characters. Some applications may not be able to read the file\")\n"
          ]
        },
        {
          "output_type": "stream",
          "name": "stdout",
          "text": [
            "[PAGE NO : 1] [NO MORE ARTICLES FOUND]\n",
            "[Website: www.24chasa.bg] [Keyword: data protection authorities] [Time Taken: 12559.1 sec]\n"
          ]
        },
        {
          "output_type": "stream",
          "name": "stderr",
          "text": [
            "/usr/local/lib/python3.7/dist-packages/openpyxl/workbook/child.py:99: UserWarning: Title is more than 31 characters. Some applications may not be able to read the file\n",
            "  warnings.warn(\"Title is more than 31 characters. Some applications may not be able to read the file\")\n"
          ]
        },
        {
          "output_type": "stream",
          "name": "stdout",
          "text": [
            "   year Number of Related News\n",
            "0  2017                      0\n",
            "1  2018                      0\n",
            "2  2019                      0\n",
            "3  2020                      0\n",
            "4  2021                      0\n",
            "5  2022                      0\n",
            "[PAGE NO : 1] [NO MORE ARTICLES FOUND]\n",
            "[Website: blitz.bg] [Keyword: data protection authorities] [Time Taken: 12560.93 sec]\n",
            "   year Number of Related News\n",
            "0  2017                      0\n",
            "1  2018                      0\n",
            "2  2019                      0\n",
            "3  2020                      0\n",
            "4  2021                      0\n",
            "5  2022                      0\n"
          ]
        },
        {
          "output_type": "stream",
          "name": "stderr",
          "text": [
            "/usr/local/lib/python3.7/dist-packages/openpyxl/workbook/child.py:99: UserWarning: Title is more than 31 characters. Some applications may not be able to read the file\n",
            "  warnings.warn(\"Title is more than 31 characters. Some applications may not be able to read the file\")\n"
          ]
        }
      ]
    },
    {
      "cell_type": "code",
      "source": [
        "GR_keyword_list = [\"gdpr\", \"μυστικότητα\", \"web tracking\", \"online tracking\", \"digital analytics\", \"data protection authorities\"]\n",
        "\n",
        "for keyword in GR_keyword_list:\n",
        "    print(greece1protothema(keyword))\n",
        "    print(greece2in(keyword))\n",
        "    print(greece3newsit(keyword))\n",
        "    #print(greece4dikaiologitika(keyword))"
      ],
      "metadata": {
        "colab": {
          "base_uri": "https://localhost:8080/"
        },
        "id": "S47gtsKKwdtY",
        "outputId": "9703d481-f2a7-4b43-efbb-08831daac90c"
      },
      "execution_count": null,
      "outputs": [
        {
          "output_type": "stream",
          "name": "stdout",
          "text": [
            "[PAGE NO : 1] [ARTICLES FOUND: 10]\n",
            "[PAGE NO : 2] [ARTICLES FOUND: 10]\n",
            "[PAGE NO : 3] [ARTICLES FOUND: 10]\n",
            "[PAGE NO : 4] [ARTICLES FOUND: 10]\n",
            "[PAGE NO : 5] [ARTICLES FOUND: 10]\n",
            "[PAGE NO : 6] [ARTICLES FOUND: 10]\n",
            "[PAGE NO : 7] [ARTICLES FOUND: 10]\n",
            "[PAGE NO : 8] [ARTICLES FOUND: 10]\n",
            "[PAGE NO : 9] [ARTICLES FOUND: 10]\n",
            "[PAGE NO : 10] [ARTICLES FOUND: 10]\n",
            "[PAGE NO : 11] [ARTICLES FOUND: 10]\n",
            "[PAGE NO : 12] [ARTICLES FOUND: 10]\n",
            "[PAGE NO : 13] [ARTICLES FOUND: 10]\n",
            "[PAGE NO : 14] [ARTICLES FOUND: 10]\n",
            "[PAGE NO : 15] [ARTICLES FOUND: 10]\n",
            "[PAGE NO : 16] [ARTICLES FOUND: 6]\n",
            "[PAGE NO : 17] [NO MORE ARTICLES FOUND]\n",
            "[Website: www.protothema.gr] [Keyword: gdpr] [Time Taken: 12584.01 sec]\n",
            "   year Number of Related News\n",
            "0  2017                      2\n",
            "1  2018                     40\n",
            "2  2019                     24\n",
            "3  2020                     42\n",
            "4  2021                     39\n",
            "5  2022                      9\n",
            "[PAGE NO : 1] [NO MORE ARTICLES FOUND]\n",
            "[Website: www.in.gr] [Keyword: gdpr] [Time Taken: 12585.78 sec]\n",
            "   year Number of Related News\n",
            "0  2017                      0\n",
            "1  2018                      0\n",
            "2  2019                      0\n",
            "3  2020                      0\n",
            "4  2021                      0\n",
            "5  2022                      0\n",
            "[PAGE NO : 1] [ARTICLES FOUND: 20]\n",
            "[PAGE NO : 2] [ARTICLES FOUND: 20]\n",
            "[PAGE NO : 3] [ARTICLES FOUND: 20]\n",
            "[PAGE NO : 4] [ARTICLES FOUND: 20]\n",
            "[PAGE NO : 5] [ARTICLES FOUND: 2]\n",
            "[PAGE NO : 6] [NO MORE ARTICLES FOUND]\n",
            "[Website: www.newsit.gr] [Keyword: gdpr] [Time Taken: 12591.65 sec]\n",
            "   year Number of Related News\n",
            "0  2017                      0\n",
            "1  2018                     21\n",
            "2  2019                     22\n",
            "3  2020                     20\n",
            "4  2021                     15\n",
            "5  2022                      3\n",
            "[PAGE NO : 1] [ARTICLES FOUND: 10]\n",
            "[PAGE NO : 2] [ARTICLES FOUND: 10]\n",
            "[PAGE NO : 3] [ARTICLES FOUND: 10]\n",
            "[PAGE NO : 4] [ARTICLES FOUND: 10]\n",
            "[PAGE NO : 5] [ARTICLES FOUND: 10]\n",
            "[PAGE NO : 6] [ARTICLES FOUND: 10]\n",
            "[PAGE NO : 7] [ARTICLES FOUND: 10]\n",
            "[PAGE NO : 8] [ARTICLES FOUND: 10]\n",
            "[PAGE NO : 9] [ARTICLES FOUND: 10]\n",
            "[PAGE NO : 10] [ARTICLES FOUND: 10]\n",
            "[PAGE NO : 11] [ARTICLES FOUND: 10]\n",
            "[PAGE NO : 12] [ARTICLES FOUND: 10]\n",
            "[PAGE NO : 13] [ARTICLES FOUND: 10]\n",
            "[PAGE NO : 14] [ARTICLES FOUND: 10]\n",
            "[PAGE NO : 15] [ARTICLES FOUND: 10]\n",
            "[PAGE NO : 16] [ARTICLES FOUND: 10]\n",
            "[PAGE NO : 17] [ARTICLES FOUND: 10]\n",
            "[PAGE NO : 18] [ARTICLES FOUND: 10]\n",
            "[PAGE NO : 19] [ARTICLES FOUND: 10]\n",
            "[PAGE NO : 20] [ARTICLES FOUND: 10]\n",
            "[Website: www.protothema.gr] [Keyword: μυστικότητα] [Time Taken: 12630.88 sec]\n",
            "   year Number of Related News\n",
            "0  2017                      0\n",
            "1  2018                      0\n",
            "2  2019                      0\n",
            "3  2020                      0\n",
            "4  2021                    143\n",
            "5  2022                     57\n",
            "[PAGE NO : 1] [NO MORE ARTICLES FOUND]\n",
            "[Website: www.in.gr] [Keyword: μυστικότητα] [Time Taken: 12631.79 sec]\n",
            "   year Number of Related News\n",
            "0  2017                      0\n",
            "1  2018                      0\n",
            "2  2019                      0\n",
            "3  2020                      0\n",
            "4  2021                      0\n",
            "5  2022                      0\n",
            "[PAGE NO : 1] [ARTICLES FOUND: 20]\n",
            "[PAGE NO : 2] [ARTICLES FOUND: 20]\n",
            "[PAGE NO : 3] [ARTICLES FOUND: 20]\n",
            "[PAGE NO : 4] [ARTICLES FOUND: 20]\n",
            "[PAGE NO : 5] [ARTICLES FOUND: 20]\n",
            "[PAGE NO : 6] [ARTICLES FOUND: 20]\n",
            "[PAGE NO : 7] [ARTICLES FOUND: 20]\n",
            "[PAGE NO : 8] [ARTICLES FOUND: 20]\n",
            "[PAGE NO : 9] [ARTICLES FOUND: 20]\n",
            "[PAGE NO : 10] [ARTICLES FOUND: 20]\n",
            "[PAGE NO : 11] [ARTICLES FOUND: 20]\n",
            "[PAGE NO : 12] [ARTICLES FOUND: 20]\n",
            "[PAGE NO : 13] [ARTICLES FOUND: 20]\n",
            "[PAGE NO : 14] [ARTICLES FOUND: 20]\n",
            "[PAGE NO : 15] [ARTICLES FOUND: 20]\n",
            "[PAGE NO : 16] [ARTICLES FOUND: 20]\n",
            "[PAGE NO : 17] [ARTICLES FOUND: 20]\n",
            "[PAGE NO : 18] [ARTICLES FOUND: 20]\n",
            "[PAGE NO : 19] [ARTICLES FOUND: 20]\n",
            "[PAGE NO : 20] [ARTICLES FOUND: 20]\n",
            "[Website: www.newsit.gr] [Keyword: μυστικότητα] [Time Taken: 12653.28 sec]\n",
            "   year Number of Related News\n",
            "0  2017                     11\n",
            "1  2018                     90\n",
            "2  2019                    113\n",
            "3  2020                     66\n",
            "4  2021                     95\n",
            "5  2022                     25\n",
            "[PAGE NO : 1] [ARTICLES FOUND: 10]\n",
            "[PAGE NO : 2] [ARTICLES FOUND: 10]\n",
            "[PAGE NO : 3] [ARTICLES FOUND: 10]\n",
            "[PAGE NO : 4] [ARTICLES FOUND: 10]\n",
            "[PAGE NO : 5] [ARTICLES FOUND: 10]\n",
            "[PAGE NO : 6] [ARTICLES FOUND: 10]\n",
            "[PAGE NO : 7] [ARTICLES FOUND: 10]\n",
            "[PAGE NO : 8] [ARTICLES FOUND: 10]\n",
            "[PAGE NO : 9] [ARTICLES FOUND: 10]\n",
            "[PAGE NO : 10] [ARTICLES FOUND: 10]\n",
            "[PAGE NO : 11] [ARTICLES FOUND: 10]\n",
            "[PAGE NO : 12] [ARTICLES FOUND: 10]\n",
            "[PAGE NO : 13] [ARTICLES FOUND: 10]\n",
            "[PAGE NO : 14] [ARTICLES FOUND: 10]\n",
            "[PAGE NO : 15] [ARTICLES FOUND: 10]\n",
            "[PAGE NO : 16] [ARTICLES FOUND: 10]\n",
            "[PAGE NO : 17] [ARTICLES FOUND: 10]\n",
            "[PAGE NO : 18] [ARTICLES FOUND: 10]\n",
            "[PAGE NO : 19] [ARTICLES FOUND: 10]\n",
            "[PAGE NO : 20] [ARTICLES FOUND: 10]\n",
            "[Website: www.protothema.gr] [Keyword: web tracking] [Time Taken: 12694.62 sec]\n",
            "   year Number of Related News\n",
            "0  2017                      0\n",
            "1  2018                      0\n",
            "2  2019                      0\n",
            "3  2020                      0\n",
            "4  2021                     65\n",
            "5  2022                    135\n",
            "[PAGE NO : 1] [NO MORE ARTICLES FOUND]\n",
            "[Website: www.in.gr] [Keyword: web tracking] [Time Taken: 12695.24 sec]\n",
            "   year Number of Related News\n",
            "0  2017                      0\n",
            "1  2018                      0\n",
            "2  2019                      0\n",
            "3  2020                      0\n",
            "4  2021                      0\n",
            "5  2022                      0\n",
            "[PAGE NO : 1] [NO MORE ARTICLES FOUND]\n",
            "[Website: www.newsit.gr] [Keyword: web tracking] [Time Taken: 12695.37 sec]\n",
            "   year Number of Related News\n",
            "0  2017                      0\n",
            "1  2018                      0\n",
            "2  2019                      0\n",
            "3  2020                      0\n",
            "4  2021                      0\n",
            "5  2022                      0\n",
            "[PAGE NO : 1] [ARTICLES FOUND: 10]\n",
            "[PAGE NO : 2] [ARTICLES FOUND: 10]\n",
            "[PAGE NO : 3] [ARTICLES FOUND: 10]\n",
            "[PAGE NO : 4] [ARTICLES FOUND: 10]\n",
            "[PAGE NO : 5] [ARTICLES FOUND: 10]\n",
            "[PAGE NO : 6] [ARTICLES FOUND: 10]\n",
            "[PAGE NO : 7] [ARTICLES FOUND: 10]\n",
            "[PAGE NO : 8] [ARTICLES FOUND: 10]\n",
            "[PAGE NO : 9] [ARTICLES FOUND: 10]\n",
            "[PAGE NO : 10] [ARTICLES FOUND: 10]\n",
            "[PAGE NO : 11] [ARTICLES FOUND: 10]\n",
            "[PAGE NO : 12] [ARTICLES FOUND: 10]\n",
            "[PAGE NO : 13] [ARTICLES FOUND: 10]\n",
            "[PAGE NO : 14] [ARTICLES FOUND: 10]\n",
            "[PAGE NO : 15] [ARTICLES FOUND: 10]\n",
            "[PAGE NO : 16] [ARTICLES FOUND: 10]\n",
            "[PAGE NO : 17] [ARTICLES FOUND: 10]\n",
            "[PAGE NO : 18] [ARTICLES FOUND: 10]\n",
            "[PAGE NO : 19] [ARTICLES FOUND: 10]\n",
            "[PAGE NO : 20] [ARTICLES FOUND: 10]\n",
            "[Website: www.protothema.gr] [Keyword: online tracking] [Time Taken: 12742.34 sec]\n",
            "   year Number of Related News\n",
            "0  2017                      0\n",
            "1  2018                      0\n",
            "2  2019                      0\n",
            "3  2020                      0\n",
            "4  2021                      0\n",
            "5  2022                    200\n",
            "[PAGE NO : 1] [NO MORE ARTICLES FOUND]\n",
            "[Website: www.in.gr] [Keyword: online tracking] [Time Taken: 12743.24 sec]\n",
            "   year Number of Related News\n",
            "0  2017                      0\n",
            "1  2018                      0\n",
            "2  2019                      0\n",
            "3  2020                      0\n",
            "4  2021                      0\n",
            "5  2022                      0\n",
            "[PAGE NO : 1] [NO MORE ARTICLES FOUND]\n",
            "[Website: www.newsit.gr] [Keyword: online tracking] [Time Taken: 12743.38 sec]\n",
            "   year Number of Related News\n",
            "0  2017                      0\n",
            "1  2018                      0\n",
            "2  2019                      0\n",
            "3  2020                      0\n",
            "4  2021                      0\n",
            "5  2022                      0\n",
            "[PAGE NO : 1] [ARTICLES FOUND: 10]\n",
            "[PAGE NO : 2] [ARTICLES FOUND: 10]\n",
            "[PAGE NO : 3] [ARTICLES FOUND: 10]\n",
            "[PAGE NO : 4] [ARTICLES FOUND: 10]\n",
            "[PAGE NO : 5] [ARTICLES FOUND: 10]\n",
            "[PAGE NO : 6] [ARTICLES FOUND: 10]\n",
            "[PAGE NO : 7] [ARTICLES FOUND: 10]\n",
            "[PAGE NO : 8] [ARTICLES FOUND: 10]\n",
            "[PAGE NO : 9] [ARTICLES FOUND: 10]\n",
            "[PAGE NO : 10] [ARTICLES FOUND: 10]\n",
            "[PAGE NO : 11] [ARTICLES FOUND: 10]\n",
            "[PAGE NO : 12] [ARTICLES FOUND: 10]\n",
            "[PAGE NO : 13] [ARTICLES FOUND: 10]\n",
            "[PAGE NO : 14] [ARTICLES FOUND: 10]\n",
            "[PAGE NO : 15] [ARTICLES FOUND: 10]\n",
            "[PAGE NO : 16] [ARTICLES FOUND: 10]\n",
            "[PAGE NO : 17] [ARTICLES FOUND: 10]\n",
            "[PAGE NO : 18] [ARTICLES FOUND: 10]\n",
            "[PAGE NO : 19] [ARTICLES FOUND: 10]\n",
            "[PAGE NO : 20] [ARTICLES FOUND: 10]\n",
            "[Website: www.protothema.gr] [Keyword: digital analytics] [Time Taken: 12789.5 sec]\n",
            "   year Number of Related News\n",
            "0  2017                      0\n",
            "1  2018                      0\n",
            "2  2019                      0\n",
            "3  2020                      0\n",
            "4  2021                      0\n",
            "5  2022                    200\n",
            "[PAGE NO : 1] [NO MORE ARTICLES FOUND]\n",
            "[Website: www.in.gr] [Keyword: digital analytics] [Time Taken: 12790.34 sec]\n",
            "   year Number of Related News\n",
            "0  2017                      0\n",
            "1  2018                      0\n",
            "2  2019                      0\n",
            "3  2020                      0\n",
            "4  2021                      0\n",
            "5  2022                      0\n",
            "[PAGE NO : 1] [ARTICLES FOUND: 1]\n",
            "[PAGE NO : 2] [NO MORE ARTICLES FOUND]\n",
            "[Website: www.newsit.gr] [Keyword: digital analytics] [Time Taken: 12791.53 sec]\n",
            "   year Number of Related News\n",
            "0  2017                      0\n",
            "1  2018                      0\n",
            "2  2019                      0\n",
            "3  2020                      0\n",
            "4  2021                      0\n",
            "5  2022                      0\n",
            "[PAGE NO : 1] [ARTICLES FOUND: 10]\n",
            "[PAGE NO : 2] [ARTICLES FOUND: 10]\n",
            "[PAGE NO : 3] [ARTICLES FOUND: 10]\n",
            "[PAGE NO : 4] [ARTICLES FOUND: 10]\n",
            "[PAGE NO : 5] [ARTICLES FOUND: 10]\n",
            "[PAGE NO : 6] [ARTICLES FOUND: 10]\n",
            "[PAGE NO : 7] [ARTICLES FOUND: 10]\n",
            "[PAGE NO : 8] [ARTICLES FOUND: 10]\n",
            "[PAGE NO : 9] [ARTICLES FOUND: 10]\n",
            "[PAGE NO : 10] [ARTICLES FOUND: 10]\n",
            "[PAGE NO : 11] [ARTICLES FOUND: 10]\n",
            "[PAGE NO : 12] [ARTICLES FOUND: 10]\n",
            "[PAGE NO : 13] [ARTICLES FOUND: 10]\n",
            "[PAGE NO : 14] [ARTICLES FOUND: 10]\n",
            "[PAGE NO : 15] [ARTICLES FOUND: 10]\n",
            "[PAGE NO : 16] [ARTICLES FOUND: 10]\n",
            "[PAGE NO : 17] [ARTICLES FOUND: 10]\n",
            "[PAGE NO : 18] [ARTICLES FOUND: 10]\n",
            "[PAGE NO : 19] [ARTICLES FOUND: 10]\n",
            "[PAGE NO : 20] [ARTICLES FOUND: 10]\n",
            "[Website: www.protothema.gr] [Keyword: data protection authorities] [Time Taken: 12834.52 sec]\n",
            "   year Number of Related News\n",
            "0  2017                      0\n",
            "1  2018                      0\n",
            "2  2019                      0\n",
            "3  2020                      0\n",
            "4  2021                      0\n",
            "5  2022                    200\n",
            "[PAGE NO : 1] [NO MORE ARTICLES FOUND]\n",
            "[Website: www.in.gr] [Keyword: data protection authorities] [Time Taken: 12835.53 sec]\n",
            "   year Number of Related News\n",
            "0  2017                      0\n",
            "1  2018                      0\n",
            "2  2019                      0\n",
            "3  2020                      0\n",
            "4  2021                      0\n",
            "5  2022                      0\n",
            "[PAGE NO : 1] [NO MORE ARTICLES FOUND]\n",
            "[Website: www.newsit.gr] [Keyword: data protection authorities] [Time Taken: 12835.66 sec]\n",
            "   year Number of Related News\n",
            "0  2017                      0\n",
            "1  2018                      0\n",
            "2  2019                      0\n",
            "3  2020                      0\n",
            "4  2021                      0\n",
            "5  2022                      0\n"
          ]
        }
      ]
    },
    {
      "cell_type": "code",
      "source": [
        "HR_keyword_list = [\"gdpr\", \"Zakon o Provedbi Opće Uredbe o Zaštiti Podataka\", \"privatnost\", \"web tracking\", \"online tracking\", \"digital analytics\", \"data protection authorities\"]\n",
        "\n",
        "for keyword in HR_keyword_list:\n",
        "    print(croatia1index(keyword))\n",
        "    print(croatia2tportal(keyword))\n",
        "    print(croatia3dnevno(keyword))"
      ],
      "metadata": {
        "colab": {
          "base_uri": "https://localhost:8080/"
        },
        "id": "SNkOmY9neaIK",
        "outputId": "be77db36-1d2f-49a2-f0f0-edce89b60341"
      },
      "execution_count": null,
      "outputs": [
        {
          "output_type": "stream",
          "name": "stdout",
          "text": [
            "[PAGE NO : 1] [ARTICLES FOUND: 3]\n",
            "[PAGE NO : 2] [ARTICLES FOUND: 3]\n",
            "[PAGE NO : 3] [ARTICLES FOUND: 3]\n",
            "[PAGE NO : 4] [ARTICLES FOUND: 3]\n",
            "[PAGE NO : 5] [ARTICLES FOUND: 3]\n",
            "[PAGE NO : 6] [ARTICLES FOUND: 3]\n",
            "[PAGE NO : 7] [ARTICLES FOUND: 3]\n",
            "[PAGE NO : 8] [ARTICLES FOUND: 3]\n",
            "[PAGE NO : 9] [ARTICLES FOUND: 3]\n",
            "[PAGE NO : 10] [ARTICLES FOUND: 3]\n",
            "[PAGE NO : 11] [ARTICLES FOUND: 3]\n",
            "[PAGE NO : 12] [ARTICLES FOUND: 3]\n",
            "[PAGE NO : 13] [ARTICLES FOUND: 3]\n",
            "[PAGE NO : 14] [ARTICLES FOUND: 3]\n",
            "[PAGE NO : 15] [ARTICLES FOUND: 3]\n",
            "[PAGE NO : 16] [ARTICLES FOUND: 3]\n",
            "[PAGE NO : 17] [ARTICLES FOUND: 3]\n",
            "[PAGE NO : 18] [ARTICLES FOUND: 3]\n",
            "[PAGE NO : 19] [ARTICLES FOUND: 3]\n",
            "[PAGE NO : 20] [ARTICLES FOUND: 3]\n",
            "[Website: www.index.hr] [Keyword: gdpr] [Time Taken: 12876.11 sec]\n",
            "   year Number of Related News\n",
            "0  2017                      0\n",
            "1  2018                      0\n",
            "2  2019                      5\n",
            "3  2020                     23\n",
            "4  2021                     24\n",
            "5  2022                      8\n",
            "[PAGE NO : 1] [ARTICLES FOUND: 10]\n",
            "[PAGE NO : 2] [ARTICLES FOUND: 10]\n",
            "[PAGE NO : 3] [ARTICLES FOUND: 9]\n",
            "[PAGE NO : 4] [ARTICLES FOUND: 7]\n",
            "[PAGE NO : 5] [ARTICLES FOUND: 10]\n",
            "[PAGE NO : 6] [ARTICLES FOUND: 7]\n",
            "[PAGE NO : 7] [ARTICLES FOUND: 8]\n",
            "[PAGE NO : 8] [ARTICLES FOUND: 2]\n",
            "[PAGE NO : 9] [NO MORE ARTICLES FOUND]\n",
            "[Website: www.tportal.hr] [Keyword: gdpr] [Time Taken: 12887.62 sec]\n",
            "   year Number of Related News\n",
            "0  2017                      2\n",
            "1  2018                     21\n",
            "2  2019                     16\n",
            "3  2020                     11\n",
            "4  2021                     10\n",
            "5  2022                      2\n",
            "[PAGE NO : 1] [NO MORE ARTICLES FOUND]\n",
            "[Website: www.dnevno.hr] [Keyword: gdpr] [Time Taken: 12886.06 sec]\n",
            "   year Number of Related News\n",
            "0  2017                      0\n",
            "1  2018                      0\n",
            "2  2019                      0\n",
            "3  2020                      0\n",
            "4  2021                      0\n",
            "5  2022                      0\n",
            "[PAGE NO : 1] [ARTICLES FOUND: 1]\n",
            "[PAGE NO : 2] [NO MORE ARTICLES FOUND]\n",
            "[Website: www.index.hr] [Keyword: Zakon o Provedbi Opće Uredbe o Zaštiti Podataka] [Time Taken: 12894.56 sec]\n",
            "   year Number of Related News\n",
            "0  2017                      0\n",
            "1  2018                      0\n",
            "2  2019                      0\n",
            "3  2020                      0\n",
            "4  2021                      0\n",
            "5  2022                      1\n"
          ]
        },
        {
          "output_type": "stream",
          "name": "stderr",
          "text": [
            "/usr/local/lib/python3.7/dist-packages/openpyxl/workbook/child.py:99: UserWarning: Title is more than 31 characters. Some applications may not be able to read the file\n",
            "  warnings.warn(\"Title is more than 31 characters. Some applications may not be able to read the file\")\n"
          ]
        },
        {
          "output_type": "stream",
          "name": "stdout",
          "text": [
            "[PAGE NO : 1] [NO MORE ARTICLES FOUND]\n",
            "[Website: www.tportal.hr] [Keyword: Zakon o Provedbi Opće Uredbe o Zaštiti Podataka] [Time Taken: 12894.51 sec]\n",
            "   year Number of Related News\n",
            "0  2017                      0\n",
            "1  2018                      0\n",
            "2  2019                      0\n",
            "3  2020                      0\n",
            "4  2021                      0\n",
            "5  2022                      0\n"
          ]
        },
        {
          "output_type": "stream",
          "name": "stderr",
          "text": [
            "/usr/local/lib/python3.7/dist-packages/openpyxl/workbook/child.py:99: UserWarning: Title is more than 31 characters. Some applications may not be able to read the file\n",
            "  warnings.warn(\"Title is more than 31 characters. Some applications may not be able to read the file\")\n"
          ]
        },
        {
          "output_type": "stream",
          "name": "stdout",
          "text": [
            "[PAGE NO : 1] [NO MORE ARTICLES FOUND]\n",
            "[Website: www.dnevno.hr] [Keyword: Zakon o Provedbi Opće Uredbe o Zaštiti Podataka] [Time Taken: 12893.2 sec]\n",
            "   year Number of Related News\n",
            "0  2017                      0\n",
            "1  2018                      0\n",
            "2  2019                      0\n",
            "3  2020                      0\n",
            "4  2021                      0\n",
            "5  2022                      0\n"
          ]
        },
        {
          "output_type": "stream",
          "name": "stderr",
          "text": [
            "/usr/local/lib/python3.7/dist-packages/openpyxl/workbook/child.py:99: UserWarning: Title is more than 31 characters. Some applications may not be able to read the file\n",
            "  warnings.warn(\"Title is more than 31 characters. Some applications may not be able to read the file\")\n"
          ]
        },
        {
          "output_type": "stream",
          "name": "stdout",
          "text": [
            "[PAGE NO : 1] [ARTICLES FOUND: 3]\n",
            "[PAGE NO : 2] [ARTICLES FOUND: 3]\n",
            "[PAGE NO : 3] [ARTICLES FOUND: 3]\n",
            "[PAGE NO : 4] [ARTICLES FOUND: 3]\n",
            "[PAGE NO : 5] [ARTICLES FOUND: 3]\n",
            "[PAGE NO : 6] [ARTICLES FOUND: 3]\n",
            "[PAGE NO : 7] [ARTICLES FOUND: 3]\n",
            "[PAGE NO : 8] [ARTICLES FOUND: 3]\n",
            "[PAGE NO : 9] [ARTICLES FOUND: 3]\n",
            "[PAGE NO : 10] [ARTICLES FOUND: 3]\n",
            "[PAGE NO : 11] [ARTICLES FOUND: 3]\n",
            "[PAGE NO : 12] [ARTICLES FOUND: 3]\n",
            "[PAGE NO : 13] [ARTICLES FOUND: 3]\n",
            "[PAGE NO : 14] [ARTICLES FOUND: 3]\n",
            "[PAGE NO : 15] [ARTICLES FOUND: 3]\n",
            "[PAGE NO : 16] [ARTICLES FOUND: 3]\n",
            "[PAGE NO : 17] [ARTICLES FOUND: 3]\n",
            "[PAGE NO : 18] [ARTICLES FOUND: 3]\n",
            "[PAGE NO : 19] [ARTICLES FOUND: 3]\n",
            "[PAGE NO : 20] [ARTICLES FOUND: 3]\n",
            "[Website: www.index.hr] [Keyword: privatnost] [Time Taken: 12929.3 sec]\n",
            "   year Number of Related News\n",
            "0  2017                      0\n",
            "1  2018                      0\n",
            "2  2019                      0\n",
            "3  2020                      0\n",
            "4  2021                     23\n",
            "5  2022                     37\n"
          ]
        },
        {
          "output_type": "stream",
          "name": "stderr",
          "text": [
            "/usr/local/lib/python3.7/dist-packages/openpyxl/workbook/child.py:99: UserWarning: Title is more than 31 characters. Some applications may not be able to read the file\n",
            "  warnings.warn(\"Title is more than 31 characters. Some applications may not be able to read the file\")\n"
          ]
        },
        {
          "output_type": "stream",
          "name": "stdout",
          "text": [
            "[PAGE NO : 1] [ARTICLES FOUND: 9]\n",
            "[PAGE NO : 2] [ARTICLES FOUND: 10]\n",
            "[PAGE NO : 3] [ARTICLES FOUND: 9]\n",
            "[PAGE NO : 4] [ARTICLES FOUND: 10]\n",
            "[PAGE NO : 5] [ARTICLES FOUND: 7]\n",
            "[PAGE NO : 6] [ARTICLES FOUND: 8]\n",
            "[PAGE NO : 7] [ARTICLES FOUND: 9]\n",
            "[PAGE NO : 8] [ARTICLES FOUND: 8]\n",
            "[PAGE NO : 9] [ARTICLES FOUND: 7]\n",
            "[PAGE NO : 10] [ARTICLES FOUND: 9]\n",
            "[PAGE NO : 11] [ARTICLES FOUND: 10]\n",
            "[PAGE NO : 12] [ARTICLES FOUND: 10]\n",
            "[PAGE NO : 13] [ARTICLES FOUND: 9]\n",
            "[PAGE NO : 14] [ARTICLES FOUND: 9]\n",
            "[PAGE NO : 15] [ARTICLES FOUND: 9]\n",
            "[PAGE NO : 16] [ARTICLES FOUND: 10]\n",
            "[PAGE NO : 17] [ARTICLES FOUND: 10]\n",
            "[PAGE NO : 18] [ARTICLES FOUND: 8]\n",
            "[PAGE NO : 19] [ARTICLES FOUND: 10]\n",
            "[PAGE NO : 20] [ARTICLES FOUND: 10]\n",
            "[Website: www.tportal.hr] [Keyword: privatnost] [Time Taken: 12955.66 sec]\n",
            "   year Number of Related News\n",
            "0  2017                      0\n",
            "1  2018                      0\n",
            "2  2019                     44\n",
            "3  2020                     55\n",
            "4  2021                     63\n",
            "5  2022                     19\n"
          ]
        },
        {
          "output_type": "stream",
          "name": "stderr",
          "text": [
            "/usr/local/lib/python3.7/dist-packages/openpyxl/workbook/child.py:99: UserWarning: Title is more than 31 characters. Some applications may not be able to read the file\n",
            "  warnings.warn(\"Title is more than 31 characters. Some applications may not be able to read the file\")\n"
          ]
        },
        {
          "output_type": "stream",
          "name": "stdout",
          "text": [
            "[PAGE NO : 1] [NO MORE ARTICLES FOUND]\n",
            "[Website: www.dnevno.hr] [Keyword: privatnost] [Time Taken: 12954.2 sec]\n",
            "   year Number of Related News\n",
            "0  2017                      0\n",
            "1  2018                      0\n",
            "2  2019                      0\n",
            "3  2020                      0\n",
            "4  2021                      0\n",
            "5  2022                      0\n"
          ]
        },
        {
          "output_type": "stream",
          "name": "stderr",
          "text": [
            "/usr/local/lib/python3.7/dist-packages/openpyxl/workbook/child.py:99: UserWarning: Title is more than 31 characters. Some applications may not be able to read the file\n",
            "  warnings.warn(\"Title is more than 31 characters. Some applications may not be able to read the file\")\n"
          ]
        },
        {
          "output_type": "stream",
          "name": "stdout",
          "text": [
            "[PAGE NO : 1] [ARTICLES FOUND: 3]\n",
            "[PAGE NO : 2] [ARTICLES FOUND: 3]\n",
            "[PAGE NO : 3] [NO MORE ARTICLES FOUND]\n",
            "[Website: www.index.hr] [Keyword: web tracking] [Time Taken: 12963.57 sec]\n",
            "   year Number of Related News\n",
            "0  2017                      0\n",
            "1  2018                      1\n",
            "2  2019                      0\n",
            "3  2020                      1\n",
            "4  2021                      2\n",
            "5  2022                      1\n"
          ]
        },
        {
          "output_type": "stream",
          "name": "stderr",
          "text": [
            "/usr/local/lib/python3.7/dist-packages/openpyxl/workbook/child.py:99: UserWarning: Title is more than 31 characters. Some applications may not be able to read the file\n",
            "  warnings.warn(\"Title is more than 31 characters. Some applications may not be able to read the file\")\n"
          ]
        },
        {
          "output_type": "stream",
          "name": "stdout",
          "text": [
            "[PAGE NO : 1] [NO MORE ARTICLES FOUND]\n",
            "[Website: www.tportal.hr] [Keyword: web tracking] [Time Taken: 12963.47 sec]\n",
            "   year Number of Related News\n",
            "0  2017                      0\n",
            "1  2018                      0\n",
            "2  2019                      0\n",
            "3  2020                      0\n",
            "4  2021                      0\n",
            "5  2022                      0\n"
          ]
        },
        {
          "output_type": "stream",
          "name": "stderr",
          "text": [
            "/usr/local/lib/python3.7/dist-packages/openpyxl/workbook/child.py:99: UserWarning: Title is more than 31 characters. Some applications may not be able to read the file\n",
            "  warnings.warn(\"Title is more than 31 characters. Some applications may not be able to read the file\")\n"
          ]
        },
        {
          "output_type": "stream",
          "name": "stdout",
          "text": [
            "[PAGE NO : 1] [NO MORE ARTICLES FOUND]\n",
            "[Website: www.dnevno.hr] [Keyword: web tracking] [Time Taken: 12961.57 sec]\n",
            "   year Number of Related News\n",
            "0  2017                      0\n",
            "1  2018                      0\n",
            "2  2019                      0\n",
            "3  2020                      0\n",
            "4  2021                      0\n",
            "5  2022                      0\n"
          ]
        },
        {
          "output_type": "stream",
          "name": "stderr",
          "text": [
            "/usr/local/lib/python3.7/dist-packages/openpyxl/workbook/child.py:99: UserWarning: Title is more than 31 characters. Some applications may not be able to read the file\n",
            "  warnings.warn(\"Title is more than 31 characters. Some applications may not be able to read the file\")\n"
          ]
        },
        {
          "output_type": "stream",
          "name": "stdout",
          "text": [
            "[PAGE NO : 1] [ARTICLES FOUND: 3]\n",
            "[PAGE NO : 2] [ARTICLES FOUND: 3]\n",
            "[PAGE NO : 3] [ARTICLES FOUND: 3]\n",
            "[PAGE NO : 4] [ARTICLES FOUND: 1]\n",
            "[PAGE NO : 5] [NO MORE ARTICLES FOUND]\n",
            "[Website: www.index.hr] [Keyword: online tracking] [Time Taken: 12974.93 sec]\n"
          ]
        },
        {
          "output_type": "stream",
          "name": "stderr",
          "text": [
            "/usr/local/lib/python3.7/dist-packages/openpyxl/workbook/child.py:99: UserWarning: Title is more than 31 characters. Some applications may not be able to read the file\n",
            "  warnings.warn(\"Title is more than 31 characters. Some applications may not be able to read the file\")\n"
          ]
        },
        {
          "output_type": "stream",
          "name": "stdout",
          "text": [
            "   year Number of Related News\n",
            "0  2017                      1\n",
            "1  2018                      0\n",
            "2  2019                      1\n",
            "3  2020                      2\n",
            "4  2021                      5\n",
            "5  2022                      1\n",
            "[PAGE NO : 1] [ARTICLES FOUND: 1]\n",
            "[PAGE NO : 2] [NO MORE ARTICLES FOUND]\n",
            "[Website: www.tportal.hr] [Keyword: online tracking] [Time Taken: 12976.38 sec]\n",
            "   year Number of Related News\n",
            "0  2017                      0\n",
            "1  2018                      1\n",
            "2  2019                      0\n",
            "3  2020                      0\n",
            "4  2021                      0\n",
            "5  2022                      0\n"
          ]
        },
        {
          "output_type": "stream",
          "name": "stderr",
          "text": [
            "/usr/local/lib/python3.7/dist-packages/openpyxl/workbook/child.py:99: UserWarning: Title is more than 31 characters. Some applications may not be able to read the file\n",
            "  warnings.warn(\"Title is more than 31 characters. Some applications may not be able to read the file\")\n"
          ]
        },
        {
          "output_type": "stream",
          "name": "stdout",
          "text": [
            "[PAGE NO : 1] [NO MORE ARTICLES FOUND]\n",
            "[Website: www.dnevno.hr] [Keyword: online tracking] [Time Taken: 12974.46 sec]\n",
            "   year Number of Related News\n",
            "0  2017                      0\n",
            "1  2018                      0\n",
            "2  2019                      0\n",
            "3  2020                      0\n",
            "4  2021                      0\n",
            "5  2022                      0\n"
          ]
        },
        {
          "output_type": "stream",
          "name": "stderr",
          "text": [
            "/usr/local/lib/python3.7/dist-packages/openpyxl/workbook/child.py:99: UserWarning: Title is more than 31 characters. Some applications may not be able to read the file\n",
            "  warnings.warn(\"Title is more than 31 characters. Some applications may not be able to read the file\")\n"
          ]
        },
        {
          "output_type": "stream",
          "name": "stdout",
          "text": [
            "[PAGE NO : 1] [ARTICLES FOUND: 1]\n",
            "[PAGE NO : 2] [NO MORE ARTICLES FOUND]\n",
            "[Website: www.index.hr] [Keyword: digital analytics] [Time Taken: 12982.16 sec]\n",
            "   year Number of Related News\n",
            "0  2017                      0\n",
            "1  2018                      0\n",
            "2  2019                      0\n",
            "3  2020                      0\n",
            "4  2021                      0\n",
            "5  2022                      1\n"
          ]
        },
        {
          "output_type": "stream",
          "name": "stderr",
          "text": [
            "/usr/local/lib/python3.7/dist-packages/openpyxl/workbook/child.py:99: UserWarning: Title is more than 31 characters. Some applications may not be able to read the file\n",
            "  warnings.warn(\"Title is more than 31 characters. Some applications may not be able to read the file\")\n"
          ]
        },
        {
          "output_type": "stream",
          "name": "stdout",
          "text": [
            "[PAGE NO : 1] [NO MORE ARTICLES FOUND]\n",
            "[Website: www.tportal.hr] [Keyword: digital analytics] [Time Taken: 12982.15 sec]\n",
            "   year Number of Related News\n",
            "0  2017                      0\n",
            "1  2018                      0\n",
            "2  2019                      0\n",
            "3  2020                      0\n",
            "4  2021                      0\n",
            "5  2022                      0\n"
          ]
        },
        {
          "output_type": "stream",
          "name": "stderr",
          "text": [
            "/usr/local/lib/python3.7/dist-packages/openpyxl/workbook/child.py:99: UserWarning: Title is more than 31 characters. Some applications may not be able to read the file\n",
            "  warnings.warn(\"Title is more than 31 characters. Some applications may not be able to read the file\")\n"
          ]
        },
        {
          "output_type": "stream",
          "name": "stdout",
          "text": [
            "[PAGE NO : 1] [NO MORE ARTICLES FOUND]\n",
            "[Website: www.dnevno.hr] [Keyword: digital analytics] [Time Taken: 12980.32 sec]\n",
            "   year Number of Related News\n",
            "0  2017                      0\n",
            "1  2018                      0\n",
            "2  2019                      0\n",
            "3  2020                      0\n",
            "4  2021                      0\n",
            "5  2022                      0\n"
          ]
        },
        {
          "output_type": "stream",
          "name": "stderr",
          "text": [
            "/usr/local/lib/python3.7/dist-packages/openpyxl/workbook/child.py:99: UserWarning: Title is more than 31 characters. Some applications may not be able to read the file\n",
            "  warnings.warn(\"Title is more than 31 characters. Some applications may not be able to read the file\")\n"
          ]
        },
        {
          "output_type": "stream",
          "name": "stdout",
          "text": [
            "[PAGE NO : 1] [ARTICLES FOUND: 2]\n",
            "[PAGE NO : 2] [NO MORE ARTICLES FOUND]\n",
            "[Website: www.index.hr] [Keyword: data protection authorities] [Time Taken: 12987.88 sec]\n"
          ]
        },
        {
          "output_type": "stream",
          "name": "stderr",
          "text": [
            "/usr/local/lib/python3.7/dist-packages/openpyxl/workbook/child.py:99: UserWarning: Title is more than 31 characters. Some applications may not be able to read the file\n",
            "  warnings.warn(\"Title is more than 31 characters. Some applications may not be able to read the file\")\n"
          ]
        },
        {
          "output_type": "stream",
          "name": "stdout",
          "text": [
            "   year Number of Related News\n",
            "0  2017                      0\n",
            "1  2018                      0\n",
            "2  2019                      1\n",
            "3  2020                      0\n",
            "4  2021                      0\n",
            "5  2022                      1\n",
            "[PAGE NO : 1] [NO MORE ARTICLES FOUND]\n",
            "[Website: www.tportal.hr] [Keyword: data protection authorities] [Time Taken: 12988.0 sec]\n",
            "   year Number of Related News\n",
            "0  2017                      0\n",
            "1  2018                      0\n",
            "2  2019                      0\n",
            "3  2020                      0\n",
            "4  2021                      0\n",
            "5  2022                      0\n"
          ]
        },
        {
          "output_type": "stream",
          "name": "stderr",
          "text": [
            "/usr/local/lib/python3.7/dist-packages/openpyxl/workbook/child.py:99: UserWarning: Title is more than 31 characters. Some applications may not be able to read the file\n",
            "  warnings.warn(\"Title is more than 31 characters. Some applications may not be able to read the file\")\n"
          ]
        },
        {
          "output_type": "stream",
          "name": "stdout",
          "text": [
            "[PAGE NO : 1] [NO MORE ARTICLES FOUND]\n",
            "[Website: www.dnevno.hr] [Keyword: data protection authorities] [Time Taken: 12986.41 sec]\n",
            "   year Number of Related News\n",
            "0  2017                      0\n",
            "1  2018                      0\n",
            "2  2019                      0\n",
            "3  2020                      0\n",
            "4  2021                      0\n",
            "5  2022                      0\n"
          ]
        },
        {
          "output_type": "stream",
          "name": "stderr",
          "text": [
            "/usr/local/lib/python3.7/dist-packages/openpyxl/workbook/child.py:99: UserWarning: Title is more than 31 characters. Some applications may not be able to read the file\n",
            "  warnings.warn(\"Title is more than 31 characters. Some applications may not be able to read the file\")\n"
          ]
        }
      ]
    },
    {
      "cell_type": "code",
      "source": [
        ""
      ],
      "metadata": {
        "id": "4iwS66_X8O4J"
      },
      "execution_count": null,
      "outputs": []
    }
  ],
  "metadata": {
    "colab": {
      "collapsed_sections": [],
      "name": "keyword_scraper.ipynb",
      "provenance": [],
      "include_colab_link": true
    },
    "interpreter": {
      "hash": "05b68caa059241f19d4d9e71196d54d6acb07590019854b9cb64c25a94c7e7f6"
    },
    "kernelspec": {
      "display_name": "Python 3.9.0 ('scrapper')",
      "language": "python",
      "name": "python3"
    },
    "language_info": {
      "codemirror_mode": {
        "name": "ipython",
        "version": 3
      },
      "file_extension": ".py",
      "mimetype": "text/x-python",
      "name": "python",
      "nbconvert_exporter": "python",
      "pygments_lexer": "ipython3",
      "version": "3.9.12"
    }
  },
  "nbformat": 4,
  "nbformat_minor": 0
}